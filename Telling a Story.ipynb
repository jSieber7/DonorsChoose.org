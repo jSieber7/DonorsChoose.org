{
 "cells": [
  {
   "cell_type": "markdown",
   "metadata": {},
   "source": [
    "# Telling a Story - DonorChoose.org\n",
    "\n",
    "![DonorChooseLogo](images/DonorsChoose_org_logo.jpg)\n",
    "\n",
    "DonorChoose.org is a nonprofit dedicated to providing the funds that teachers need in order to improve the overall quaility of education.\n",
    "\n",
    "## The problem\n",
    "\n",
    "DonorChoose.org wants to find a method that 'will enable DonorsChoose.org to build targeted email campaigns recommending specific classroom requests to prior donors'.\n",
    "\n",
    "The three target metrics for the solution are:\n",
    "* Performance - Good Targeting\n",
    "* Adaptable - Feasable Implementation\n",
    "* Intelligible - Easily Understandable\n",
    "\n",
    "\n",
    "## The first steps\n",
    "\n",
    "The best way to begin is to use the data to give a brief overview of the company and the problem we wish to solve using the data we have been provided. Perhaps the most important metrics for any large company is the bottom line, so this kernel begins with examining income and a sucessful solutions possible impact on income. "
   ]
  },
  {
   "cell_type": "code",
   "execution_count": 2,
   "metadata": {},
   "outputs": [
    {
     "name": "stderr",
     "output_type": "stream",
     "text": [
      "Warning message:\n",
      "\"package 'ggplot2' was built under R version 3.4.4\"Warning message:\n",
      "\"package 'scales' was built under R version 3.4.4\""
     ]
    }
   ],
   "source": [
    "# Loading in packages\n",
    "\n",
    "library(data.table)\n",
    "library(ggplot2)\n",
    "library(scales)\n",
    "library(repr)\n",
    "options(repr.plot.width=10, repr.plot.height=3)"
   ]
  },
  {
   "cell_type": "code",
   "execution_count": 3,
   "metadata": {},
   "outputs": [
    {
     "name": "stdout",
     "output_type": "stream",
     "text": [
      "\r",
      "Read 6.6% of 4687884 rows\r",
      "Read 12.6% of 4687884 rows\r",
      "Read 16.6% of 4687884 rows\r",
      "Read 21.5% of 4687884 rows\r",
      "Read 27.5% of 4687884 rows\r",
      "Read 35.0% of 4687884 rows\r",
      "Read 35.2% of 4687884 rows\r",
      "Read 44.6% of 4687884 rows\r",
      "Read 56.3% of 4687884 rows\r",
      "Read 68.0% of 4687884 rows\r",
      "Read 71.2% of 4687884 rows\r",
      "Read 77.6% of 4687884 rows\r",
      "Read 90.2% of 4687884 rows\r",
      "Read 4687884 rows and 7 (of 7) columns from 0.569 GB file in 00:00:29\n"
     ]
    },
    {
     "name": "stderr",
     "output_type": "stream",
     "text": [
      "Warning message in fread(\"data/Donors.csv\"):\n",
      "\"Bumped column 5 to type character on data row 28151, field contains 'N2J'. Coercing previously read values in this column from logical, integer or numeric back to character which may not be lossless; e.g., if '00' and '000' occurred before they will now be just '0', and there may be inconsistencies with treatment of ',,' and ',NA,' too (if they occurred in this column before the bump). If this matters please rerun and set 'colClasses' to 'character' for this column. Please note that column type detection uses a sample of 1,000 rows (100 rows at 10 points) so hopefully this message should be very rare. If reporting to datatable-help, please rerun and include the output from verbose=TRUE.\""
     ]
    },
    {
     "name": "stdout",
     "output_type": "stream",
     "text": [
      "Read 1208651 rows and 15 (of 15) columns from 2.237 GB file in 00:00:54\n",
      "Read 7210448 rows and 5 (of 5) columns from 0.763 GB file in 00:00:16\n"
     ]
    }
   ],
   "source": [
    "# Loading in data\n",
    "\n",
    "Donations <- fread('data/Donations.csv')\n",
    "Donors <- fread('data/Donors.csv')\n",
    "Projects <- fread('data/Projects.csv')\n",
    "Resources <- fread('data/Resources.csv')\n",
    "Schools <- fread('data/Schools.csv')\n",
    "Teachers <- fread('data/Teachers.csv')"
   ]
  },
  {
   "cell_type": "code",
   "execution_count": 5,
   "metadata": {},
   "outputs": [
    {
     "data": {},
     "metadata": {},
     "output_type": "display_data"
    },
    {
     "data": {},
     "metadata": {},
     "output_type": "display_data"
    },
    {
     "data": {},
     "metadata": {},
     "output_type": "display_data"
    }
   ],
   "source": [
    "# Adjusting the Donations data for graphing\n",
    "\n",
    "Donations[, `Donation Received Date` := anytime::anydate(`Donation Received Date`)]\n",
    "Donations[, Year := format(`Donation Received Date`, '%Y')]\n",
    "Donation_by_day <- Donations[,.(Total_Donations = sum(`Donation Amount`)), by = `Donation Received Date`]\n",
    "Donation_by_day[, Year := format(`Donation Received Date`, '%Y')]"
   ]
  },
  {
   "cell_type": "markdown",
   "metadata": {},
   "source": [
    "### Revenue Year by Year\n",
    "There is a strong upward trend on annual revenue. This is great news for DonorsChoose.org!"
   ]
  },
  {
   "cell_type": "code",
   "execution_count": 8,
   "metadata": {},
   "outputs": [
    {
     "data": {},
     "metadata": {},
     "output_type": "display_data"
    },
    {
     "data": {
      "image/png": "[encoded data removed]",
      "text/plain": [
       "plot without title"
      ]
     },
     "metadata": {},
     "output_type": "display_data"
    }
   ],
   "source": [
    "ggplot(Donations[Year!=2018 & Year!=2012,.(`Donation Amount` = sum( `Donation Amount`)), by =Year], aes(Year, `Donation Amount`)) +\n",
    "    geom_line(aes(group = 1), color = 'green', size = 1.5) +\n",
    "    scale_y_continuous(labels=dollar_format())"
   ]
  },
  {
   "cell_type": "markdown",
   "metadata": {},
   "source": [
    "### Revenue over the Year\n",
    "\n",
    "We can see that the later half of the year has "
   ]
  }
 ],
 "metadata": {
  "kernelspec": {
   "display_name": "R",
   "language": "R",
   "name": "ir"
  },
  "language_info": {
   "codemirror_mode": "r",
   "file_extension": ".r",
   "mimetype": "text/x-r-source",
   "name": "R",
   "pygments_lexer": "r",
   "version": "3.4.3"
  }
 },
 "nbformat": 4,
 "nbformat_minor": 2
}

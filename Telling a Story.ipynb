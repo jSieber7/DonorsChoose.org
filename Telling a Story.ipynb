{
 "cells": [
  {
   "cell_type": "markdown",
   "metadata": {},
   "source": [
    "# Recommending Projects to Donors - DonorChoose.org\n",
    "\n",
    "![DonorChooseLogo](images/DonorsChoose_org_logo.jpg)\n",
    "\n",
    "DonorChoose.org is a nonprofit dedicated to providing the funds that teachers need in order to improve the overall quaility of education. This kernel looks through the data to discover insights and build a recommendation system to assist re-engaging donors. \n",
    "\n",
    "##### By Jacob Sieber"
   ]
  },
  {
   "cell_type": "markdown",
   "metadata": {},
   "source": [
    "# Table of Contents:\n",
    "* [Introduction and Approach](#intro)\n",
    "* [EDA Highlights](#eda)\n",
    "* [Building User Profiles](#user-profiles)\n",
    "* [Building Project Profiles](#project-profiles)\n",
    "* [Creating a Weighted Recommendation System](#final-product)"
   ]
  },
  {
   "cell_type": "markdown",
   "metadata": {},
   "source": [
    "# Introduction and Approach <a class=\"anchor\" id=\"intro\"></a>"
   ]
  },
  {
   "cell_type": "markdown",
   "metadata": {},
   "source": [
    "## The problem\n",
    "\n",
    "DonorChoose.org wants to find a solution that \"will enable DonorsChoose.org to build targeted email campaigns recommending specific classroom requests to prior donors\". In any business, one of the greatest revenue-generating segments of customers (or donors) are those who have previously provided revenue. In DonorsChoose.org's case, previous donors already shown a preference for the product and have an email that they can be contacted through. In the EDA stage, the effect of re-engaged customers on the bottom line is quantified. \n",
    "\n",
    "The primary focus of this kernel is to generate a solution that will match previous donors to projects that they will likely make donatations toward. \n",
    "\n",
    "The three target metrics for the solution are:\n",
    "* Performance - Good Targeting\n",
    "* Adaptable - Feasable Implementation\n",
    "* Intelligible - Easily Understandable\n",
    "\n",
    "## The approach\n",
    "\n",
    "By framing the solution as a \"Recommender System\", there is already a firm foundation of work on which the project can be based. This problem varies from the typical recommender system. Two key differences are: donors tend to \"make a single purchase\" (donate to a single project) and there are a significant amount of products (projects) that have only one to three donors. This can complicate the more standard recommendation approaches. Therefore, the approach I decided to take was to recommend new projects based both upon features of users and features of projects. Many several new features have been engineered from the dataset.\n",
    "\n",
    "\n",
    "The best way to begin is to use the data to give a brief overview of the company and the problem we wish to solve using the data we have been provided. Perhaps the most important metrics for any large company is the bottom line, so this kernel begins with examining income and a sucessful solutions possible impact on income. "
   ]
  },
  {
   "cell_type": "code",
   "execution_count": 1,
   "metadata": {},
   "outputs": [
    {
     "name": "stderr",
     "output_type": "stream",
     "text": [
      "-- Attaching packages --------------------------------------- tidyverse 1.2.1 --\n",
      "v ggplot2 2.2.1     v purrr   0.2.4\n",
      "v tibble  1.4.2     v dplyr   0.7.4\n",
      "v tidyr   0.8.0     v stringr 1.3.1\n",
      "v readr   1.1.1     v forcats 0.3.0\n",
      "-- Conflicts ------------------------------------------ tidyverse_conflicts() --\n",
      "x dplyr::between()    masks data.table::between()\n",
      "x readr::col_factor() masks scales::col_factor()\n",
      "x purrr::discard()    masks scales::discard()\n",
      "x dplyr::filter()     masks stats::filter()\n",
      "x dplyr::first()      masks data.table::first()\n",
      "x dplyr::lag()        masks stats::lag()\n",
      "x dplyr::last()       masks data.table::last()\n",
      "x purrr::transpose()  masks data.table::transpose()\n"
     ]
    }
   ],
   "source": [
    "# Loading in packages\n",
    "\n",
    "library(data.table)\n",
    "library(scales)\n",
    "library(repr)\n",
    "library(tidyverse)\n",
    "\n",
    "options(scipen=10000)\n",
    "options(repr.plot.width=10, repr.plot.height=4)"
   ]
  },
  {
   "cell_type": "code",
   "execution_count": null,
   "metadata": {},
   "outputs": [],
   "source": [
    "# Loading in data\n",
    "\n",
    "Donations <- fread('data/Donations.csv')\n",
    "Donors <- fread('data/Donors.csv')\n",
    "Projects <- fread('data/Projects.csv')\n",
    "Resources <- fread('data/Resources.csv')\n",
    "Schools <- fread('data/Schools.csv')\n",
    "Teachers <- fread('data/Teachers.csv')"
   ]
  },
  {
   "cell_type": "code",
   "execution_count": null,
   "metadata": {},
   "outputs": [],
   "source": [
    "# Linking up the datasets\n",
    "\n",
    "Donations_Linked <- merge(Donations,Projects) %>%\n",
    "  merge(Donors, by = 'Donor ID') %>%\n",
    "  merge(Schools, by = 'School ID') %>%\n",
    "  merge(Teachers, by = 'Teacher ID')"
   ]
  },
  {
   "cell_type": "code",
   "execution_count": null,
   "metadata": {},
   "outputs": [],
   "source": [
    "# Adjusting the data for graphing and modeling\n",
    "\n",
    "Donations[, `Donation Received Date` := anytime::anydate(`Donation Received Date`)]\n",
    "Donations[, Year := format(`Donation Received Date`, '%Y')]\n",
    "Donation_by_day <- Donations[,.(Total_Donations = sum(`Donation Amount`)), by = `Donation Received Date`]\n",
    "Donation_by_day[, Year := format(`Donation Received Date`, '%Y')]\n",
    "\n",
    "\n",
    "Projects$`Project Cost` <- as.numeric(gsub('[$,]', '', Projects$`Project Cost`))\n",
    "\n",
    "# Performance Intensive\n",
    "\n",
    "Repeated <- Donations_Linked[,.(\n",
    "    `Times Donated`=.N, \n",
    "    `Different Schools` = length(unique(`School ID`)),\n",
    "    `Different Teachers` =  length(unique(`Teacher ID`)),\n",
    "    `Different States` = length(unique(`School State`))\n",
    "    ),by=`Donor ID`]"
   ]
  },
  {
   "cell_type": "markdown",
   "metadata": {},
   "source": [
    "# EDA Highlights <a class=\"anchor\" id=\"eda\"></a>\n",
    "\n",
    "A brief EDA to get a better idea of the DonorsChoose.org business model."
   ]
  },
  {
   "cell_type": "markdown",
   "metadata": {},
   "source": [
    "### Revenue Year by Year\n",
    "\n",
    "There is a strong upward trend on annual revenue. This is great news for DonorsChoose.org!"
   ]
  },
  {
   "cell_type": "code",
   "execution_count": null,
   "metadata": {},
   "outputs": [],
   "source": [
    "# Data transformation\n",
    "\n",
    "plot_data  <- Donations[Year!=2018 & Year!=2012,.(`Donation Amount` = sum( `Donation Amount`)), by =.(Year,`Donation Included Optional Donation`)]\n",
    "plot_data  <- plot_data[,.(`Donation Amount`,`Direct Revenue` = (sum(`Donation Amount`[`Donation Included Optional Donation` == 'Yes']))*.15), by =.(Year,`Donation Included Optional Donation`)]\n",
    "\n",
    "# Plotting total donations provided by donors by year\n",
    "\n",
    "ggplot(plot_data[,.(`Donation Amount` = sum(`Donation Amount`)), by = Year], aes(Year, `Donation Amount`,group = 1)) +\n",
    "    geom_line(color = 'green', size = 1.5) +\n",
    "    scale_y_continuous(labels=dollar_format()) +\n",
    "    labs(title = 'Total Donations by Year') +\n",
    "    theme(plot.title = element_text(hjust = 0.5, size = 22))"
   ]
  },
  {
   "cell_type": "markdown",
   "metadata": {},
   "source": [
    "### Funding for DonorsChoose.org Operations\n",
    "\n",
    "If we consider the operations funding to come directly from donations that have included the optional donation (15%), there is also strong growth in contributions directly for operations"
   ]
  },
  {
   "cell_type": "code",
   "execution_count": null,
   "metadata": {},
   "outputs": [],
   "source": [
    "ggplot(data = plot_data[`Donation Included Optional Donation` == 'Yes'], aes(Year,`Direct Revenue`,group = 1))+\n",
    "    geom_line(linetype = 'twodash', color ='green',size = 1.5) +\n",
    "    scale_y_continuous(labels=dollar_format()) +\n",
    "    labs(title = 'Contributions Directly for DonorsChoose.org Operations') +\n",
    "    theme(plot.title = element_text(hjust = 0.5, size = 22))"
   ]
  },
  {
   "cell_type": "markdown",
   "metadata": {},
   "source": [
    "### Donations Received over Time\n",
    "\n",
    "There is an upward yearly trend on donations, with brief spikes of large donations. The highest revenue special events are:\n",
    "\n",
    "* [#BestSchoolDay Matching 2017](https://www.donorschoose.org/blog/best-school-day-2017/) March 25-30, 2017\n",
    "* [The Bill & Melinda Gates Foundation Donation Matching:](https://help.donorschoose.org/hc/en-us/articles/115013788948-2X-Match-on-professional-development-projects-thanks-to-the-Bill-and-Melinda-Gates-Foundation) August 23-25, 2016 \n",
    "* [1 Million Classroom Matching:](https://www.prnewswire.com/news-releases/donorschooseorg-announces-1-million-classroom-project-requests-funded-for-teachers-nationwide-300587983.html) January 25-29, 2018 \n",
    "* [#GivingTuesday Raffle Prize:](https://www.donorschoose.org/blog/press/press-release-donorschoose-org-launch-500000-givingtuesday-giveaway/) Novemeber 28-30, 2017"
   ]
  },
  {
   "cell_type": "code",
   "execution_count": null,
   "metadata": {},
   "outputs": [],
   "source": [
    "ggplot(Donation_by_day, aes(`Donation Received Date`, Total_Donations)) +\n",
    "    geom_line(size = 1, aes(color = Year)) +\n",
    "    theme(legend.position=\"none\") +\n",
    "    theme(plot.title = element_text(hjust = 0.5, size = 22)) +\n",
    "    scale_y_continuous(labels=dollar_format()) +\n",
    "    labs(title = 'Donations Received over Time') "
   ]
  },
  {
   "cell_type": "markdown",
   "metadata": {},
   "source": [
    "### How Much do Donors typically Donate?\n",
    "The vast majority of donations are from 0 to 75 dollars."
   ]
  },
  {
   "cell_type": "code",
   "execution_count": null,
   "metadata": {},
   "outputs": [],
   "source": [
    "ggplot(Donations[`Donation Amount` < 600], aes(`Donation Amount`)) +\n",
    "  geom_histogram(binwidth = 25, fill = 'skyblue', color = 'black') +\n",
    "  scale_x_continuous(breaks = seq(0, 600, by = 25)) +\n",
    "  labs(title = 'Distribution of Donations (covers over 99% of the data)') +\n",
    "  theme(plot.title = element_text(hjust = 0.5, size = 22))"
   ]
  },
  {
   "cell_type": "markdown",
   "metadata": {},
   "source": [
    "### What is the distribution of project sucess and projects by grade level?\n",
    "\n",
    "The distribution of sucess rate and number of projects can be easily visualized through a bar chart. Most of the projects (71.79%) are for elementary schools, 16.38% of projects are for middle schoolers, and 11.83% of projects are for high schoolers. There is not a large difference in success rate across all of the projects."
   ]
  },
  {
   "cell_type": "code",
   "execution_count": null,
   "metadata": {},
   "outputs": [],
   "source": [
    "by_grade  <- Projects[`Project Grade Level Category` != 'unknown',.N,by=.(`Project Grade Level Category`,`Project Current Status`)]\n",
    "\n",
    "# Observing the number of projects by grade. It appears as though those in lower grades have many more projects decicated. \n",
    "# However, the ratio of funded projects appears so be similar throughout, so little grade bias by donor.\n",
    "\n",
    "ggplot(by_grade, aes(reorder(`Project Grade Level Category`,-N), N)) +\n",
    "    geom_bar(stat= 'identity', aes(fill = reorder(`Project Current Status`, N))) +\n",
    "    labs(title = 'Number of Projects by Grade', x='Grade Level', y='Count' ) +\n",
    "    scale_fill_manual(values=c('#ffffb2',\"#969696\",  \"#fb6a4a\", \"#78c679\")) +\n",
    "    guides(fill=guide_legend(title=\"Project Status\")) +\n",
    "    theme(plot.title = element_text(hjust = 0.5, size = 22))"
   ]
  },
  {
   "cell_type": "markdown",
   "metadata": {},
   "source": [
    "# Building User Profiles  <a class=\"anchor\" id=\"user-profiles\"></a>\n",
    "\n",
    "Now that there is a basic understanding of the data, donors can be profiled. This profiling will allow us to recommend projects that similar users have donated to. First, data analysis is used to find what features are important for donors. After that, promising variables will be put into a new dataframe. Then, more feautres will be created and added to the original variables. And finally, a cosine matrix will be created."
   ]
  },
  {
   "cell_type": "markdown",
   "metadata": {},
   "source": [
    "### Is Donor location important? (State loyality)\n",
    "\n",
    "In order to build a recommendation system, it is important to see if we should try to engage users across state lines. To do this, we must observe if people donate from states that they are not from. We can confirm that most donatons come from a the state in which the donor lives. Therefore, we should include state in recommendation system."
   ]
  },
  {
   "cell_type": "code",
   "execution_count": null,
   "metadata": {},
   "outputs": [],
   "source": [
    "states = Donations_Linked[,.(`Donor ID`,`School State`,`School City`,`Donor State`,`Donor City`)]\n",
    "states[,`Same State` := ifelse(`School State` == `Donor State`, TRUE,FALSE)]\n",
    "states[,`Same City` := ifelse(`School City` == `Donor City`, TRUE,FALSE)]\n",
    "\n",
    "\n",
    "state_ratio = nrow(states[`Same State`==TRUE])/nrow(states)\n",
    "city_ratio = nrow(states[`Same City`==TRUE])/nrow(states)\n",
    "\n",
    "\n",
    "print(paste0('The ratio of donations coming from the same state: ', round(state_ratio,4)*100,'%'))\n",
    "print(paste0('The ratio of donations coming from the same city: ', round(city_ratio,4)*100,'%'))"
   ]
  },
  {
   "cell_type": "markdown",
   "metadata": {},
   "source": [
    "### Other measures of loyailty"
   ]
  },
  {
   "cell_type": "markdown",
   "metadata": {},
   "source": [
    "Below, there is evidence patterns within donations for those who have given less than nine times. *This data representation covers around 90% of all donors*, and is the target group for which DonorsChoose.org would like to promote more re-engagement from.\n",
    "\n",
    "* Pattern 1: There is a preference for giving to a single school.\n",
    "  * Even when donating eight times, around 36% of donors will give to only one school.\n",
    "* Pattern 2: There is a smaller preference for donating to a single teacher.\n",
    "  * When donors donate eight times, around 27% of donors will only donate to a single teacher.\n",
    "* Pattern 3: There is a strong preference only giving to a single state.\n",
    "  * When donors donate eight times, around 65% of donors will donate to a single state.\n",
    "  \n",
    "With this new information in mind, the school, teacher, and state donated to will be included in the donor profile."
   ]
  },
  {
   "cell_type": "code",
   "execution_count": null,
   "metadata": {},
   "outputs": [],
   "source": []
  },
  {
   "cell_type": "code",
   "execution_count": null,
   "metadata": {},
   "outputs": [],
   "source": [
    "Repeated_Donors[, `:=`(\n",
    "    `Only Donated to One School` = ifelse(`Different Schools` == 1,1,0),\n",
    "    `Only Donated to One Teacher` = ifelse(`Different Teachers` == 1,1,0),\n",
    "    `Only Donated to One State` = ifelse(`Different States` == 1,1,0)\n",
    ")]"
   ]
  },
  {
   "cell_type": "code",
   "execution_count": null,
   "metadata": {},
   "outputs": [],
   "source": [
    "Repeated_Donors_All  <- head(Repeated_Donors)\n",
    "Repeated_Donors <- Repeated_Donors[`Times Donated`  > 1]"
   ]
  },
  {
   "cell_type": "code",
   "execution_count": null,
   "metadata": {},
   "outputs": [],
   "source": [
    "head(Repeated_Donors)"
   ]
  },
  {
   "cell_type": "code",
   "execution_count": null,
   "metadata": {},
   "outputs": [],
   "source": [
    "Repeated_Donors_Grouped  <- Repeated_Donors[,.(\n",
    "    `Donors` = .N, \n",
    "    `Different Schools` = sum(`Different Schools`),\n",
    "    `Percentage of Gave only to One School`= mean(`Only Donated to One School`),\n",
    "    `Percentage of Gave only to One Teacher`= mean(`Only Donated to One Teacher`),\n",
    "    `Percentage of Gave only to One State`=mean(`Only Donated to One State`)\n",
    "), keyby = `Times Donated`]\n",
    "\n"
   ]
  },
  {
   "cell_type": "code",
   "execution_count": null,
   "metadata": {
    "scrolled": true
   },
   "outputs": [],
   "source": [
    "# Only_One_School  <- Repeated_Donors[,.(`Donors` = .N , `Different Schools` = sum(`Different Schools`),`Percentage of Gave only to One School`= mean(`Only Donated to One School`)), keyby = `Times Donated`]\n",
    "head(Repeated_Donors_Grouped,10)"
   ]
  },
  {
   "cell_type": "code",
   "execution_count": null,
   "metadata": {},
   "outputs": [],
   "source": [
    "Repeated_Donors_Grouped[`Times Donated` <= 8,sum(Donors),]/Repeated_Donors_Grouped[,sum(Donors)]"
   ]
  },
  {
   "cell_type": "code",
   "execution_count": null,
   "metadata": {
    "scrolled": true
   },
   "outputs": [],
   "source": [
    "ggplot(Repeated_Donors_Grouped[`Times Donated` <= 8], aes(x=`Times Donated`, y = `Percentage of Gave only to One School`)) +\n",
    "    geom_bar(stat = 'identity', fill = 'darkblue') +\n",
    "    labs(title = 'Percentage of Gave only to One School (covers 90% of all donors)', y='') +\n",
    "    theme(plot.title = element_text(hjust = 0.5)) +\n",
    "    scale_y_continuous(labels = scales::percent) +\n",
    "    scale_x_continuous(breaks = seq(2, 8, by = 1))"
   ]
  },
  {
   "cell_type": "code",
   "execution_count": null,
   "metadata": {},
   "outputs": [],
   "source": [
    "ggplot(Repeated_Donors_Grouped[`Times Donated` <= 8], aes(x=`Times Donated`, y = `Percentage of Gave only to One Teacher`)) +\n",
    "    geom_bar(stat = 'identity', fill = 'darkblue') +\n",
    "    labs(title = 'Teacher Loyalty by Times Donated (covers 90% of all donors)') +\n",
    "    theme(plot.title = element_text(hjust = 0.5)) +\n",
    "    scale_y_continuous(labels = scales::percent) +\n",
    "    scale_x_continuous(breaks = seq(2, 8, by = 1))"
   ]
  },
  {
   "cell_type": "code",
   "execution_count": null,
   "metadata": {},
   "outputs": [],
   "source": [
    "ggplot(Repeated_Donors_Grouped[`Times Donated` <= 8], aes(x=`Times Donated`, y = `Percentage of Gave only to One State`)) +\n",
    "    geom_bar(stat = 'identity', fill = 'darkblue') +\n",
    "    labs(title = 'State Loyalty by Times Donated (covers 90% of all donors)') +\n",
    "    theme(plot.title = element_text(hjust = 0.5)) +\n",
    "    scale_y_continuous(labels = scales::percent) +\n",
    "    scale_x_continuous(breaks = seq(2, 8, by = 1))"
   ]
  },
  {
   "cell_type": "markdown",
   "metadata": {},
   "source": [
    "### Creating Donor Profiles\n",
    "\n",
    "Now that we have the information that we would like to profile donors with, a new dataframe can be created with "
   ]
  },
  {
   "cell_type": "code",
   "execution_count": null,
   "metadata": {},
   "outputs": [],
   "source": [
    "# Adding a variable indicating if the teacher is female or not\n",
    "Donations_Linked[, `Is Female` := ifelse(`Teacher Prefix` == 'Mrs.' | `Teacher Prefix` == 'Ms.', 1,0)]\n",
    "Donations_Linked[, `Donation Included` := ifelse(`Donation Included Optional Donation` == 'Yes', 1,0)]\n",
    "\n",
    "# Creating the profile dataframe\n",
    "Donation_Profiles <-  Donations_Linked %>%\n",
    "    select(`Donor ID`,`Donor City`,`Donor State`,`Donation Amount`,\n",
    "           `Donation Included`, `Donor Is Teacher`, `Project Cost`, `School Metro Type`,\n",
    "          `School Percentage Free Lunch`, `Is Female`, `Donation Received Date`) %>%\n",
    "    arrange(desc(`Donation Received Date`))\n",
    "\n",
    "# Donor_Profiles  <- merge(x = Donor_Profiles, y = , by = \"CustomerId\", all.x = TRUE)"
   ]
  },
  {
   "cell_type": "code",
   "execution_count": null,
   "metadata": {},
   "outputs": [],
   "source": [
    "head(Donation_Profiles)"
   ]
  },
  {
   "cell_type": "code",
   "execution_count": null,
   "metadata": {},
   "outputs": [],
   "source": [
    "# Now data is aggregated for each donor\n",
    "\n",
    "Donor_Profiles  <- Donation_Profiles %>%\n",
    "    group_by(`Donor ID`) %>%\n",
    "    summarise(\n",
    "        `Donor City` = first(`Donor City`),\n",
    "        `Donor State` = first(`Donor State`),\n",
    "        `Average Donation` = mean(`Donation Amount`),\n",
    "        `Donation Included Ratio` = mean(`Donation Included`),\n",
    "        `Donor Is Teacher` = first(`Donor Is Teacher`),\n",
    "        `Average Project Cost` = mean(`Project Cost`),\n",
    "        `School Percentage Free Lunch` = mean(`School Percentage Free Lunch`),\n",
    "        `Donate to Female Teacher Ratio` = mean(`Is Female`)\n",
    "    )"
   ]
  },
  {
   "cell_type": "code",
   "execution_count": null,
   "metadata": {},
   "outputs": [],
   "source": [
    "head(Repeated_Donors)"
   ]
  }
 ],
 "metadata": {
  "kernelspec": {
   "display_name": "R",
   "language": "R",
   "name": "ir"
  },
  "language_info": {
   "codemirror_mode": "r",
   "file_extension": ".r",
   "mimetype": "text/x-r-source",
   "name": "R",
   "pygments_lexer": "r",
   "version": "3.5.0"
  }
 },
 "nbformat": 4,
 "nbformat_minor": 2
}

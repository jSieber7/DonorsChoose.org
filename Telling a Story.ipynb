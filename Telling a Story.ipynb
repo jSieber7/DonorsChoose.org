{
 "cells": [
  {
   "cell_type": "markdown",
   "metadata": {},
   "source": [
    "# Recommending Projects to Donors - DonorChoose.org\n",
    "\n",
    "![DonorChooseLogo](images/DonorsChoose_org_logo.jpg)\n",
    "\n",
    "DonorChoose.org is a nonprofit dedicated to providing the funds that teachers need in order to improve the overall quaility of education. This kernel looks through the data to discover insights and build a recommendation system to assist re-engaging donors. \n",
    "\n",
    "##### By Jacob Sieber"
   ]
  },
  {
   "cell_type": "markdown",
   "metadata": {},
   "source": [
    "# Table of Contents:\n",
    "* [Introduction and Approach](#intro)\n",
    "* [EDA Highlights](#eda)\n",
    "* [Building User Profiles](#user-profiles)\n",
    "* [Building Project Profiles](#project-profiles)\n",
    "* [Creating a Weighted Recommendation System](#final-product)"
   ]
  },
  {
   "cell_type": "markdown",
   "metadata": {},
   "source": [
    "# Introduction and Approach"
   ]
  },
  {
   "cell_type": "markdown",
   "metadata": {},
   "source": [
    "## The problem <a class=\"anchor\" id=\"intro\"></a>\n",
    "\n",
    "DonorChoose.org wants to find a solution that \"will enable DonorsChoose.org to build targeted email campaigns recommending specific classroom requests to prior donors\". In any business, one of the greatest revenue-generating segments of customers (or donors) are those who have previously provided revenue. In DonorsChoose.org's case, previous donors already shown a preference for the product and have an email that they can be contacted through. In the EDA stage, the effect of re-engaged customers on the bottom line is quantified. \n",
    "\n",
    "The primary focus of this kernel is to generate a solution that will match previous donors to projects that they will likely make donatations toward. \n",
    "\n",
    "The three target metrics for the solution are:\n",
    "* Performance - Good Targeting\n",
    "* Adaptable - Feasable Implementation\n",
    "* Intelligible - Easily Understandable\n",
    "\n",
    "## The approach\n",
    "\n",
    "By framing the solution as a \"Recommender System\", there is already a firm foundation of work on which the project can be based. This problem varies from the typical recommender system. Two key differences are: donors tend to \"make a single purchase\" (donate to a single project) and there are a significant amount of products (projects) that have only one to three donors. This can complicate the more standard recommendation approaches. Therefore, the approach I decided to take was to recommend new projects based both upon features of users and features of projects. Many several new features have been engineered from the dataset.\n",
    "\n",
    "\n",
    "The best way to begin is to use the data to give a brief overview of the company and the problem we wish to solve using the data we have been provided. Perhaps the most important metrics for any large company is the bottom line, so this kernel begins with examining income and a sucessful solutions possible impact on income. "
   ]
  },
  {
   "cell_type": "code",
   "execution_count": 3,
   "metadata": {},
   "outputs": [
    {
     "name": "stderr",
     "output_type": "stream",
     "text": [
      "Warning message:\n",
      "\"package 'data.table' was built under R version 3.4.4\"Warning message:\n",
      "\"package 'ggplot2' was built under R version 3.4.4\"Warning message:\n",
      "\"package 'scales' was built under R version 3.4.4\"Warning message:\n",
      "\"package 'repr' was built under R version 3.4.4\"\n",
      "Attaching package: 'plotly'\n",
      "\n",
      "The following object is masked from 'package:ggplot2':\n",
      "\n",
      "    last_plot\n",
      "\n",
      "The following object is masked from 'package:stats':\n",
      "\n",
      "    filter\n",
      "\n",
      "The following object is masked from 'package:graphics':\n",
      "\n",
      "    layout\n",
      "\n"
     ]
    }
   ],
   "source": [
    "# Loading in packages\n",
    "\n",
    "\n",
    "library(data.table)\n",
    "library(ggplot2)\n",
    "library(scales)\n",
    "library(repr)\n",
    "library(plotly)\n",
    "options(repr.plot.width=10, repr.plot.height=4)"
   ]
  },
  {
   "cell_type": "code",
   "execution_count": 4,
   "metadata": {},
   "outputs": [],
   "source": [
    "# Loading in data\n",
    "\n",
    "Donations <- fread('data/Donations.csv')\n",
    "Donors <- fread('data/Donors.csv')\n",
    "Projects <- fread('data/Projects.csv')\n",
    "Resources <- fread('data/Resources.csv')\n",
    "Schools <- fread('data/Schools.csv')\n",
    "Teachers <- fread('data/Teachers.csv')"
   ]
  },
  {
   "cell_type": "code",
   "execution_count": 5,
   "metadata": {},
   "outputs": [
    {
     "data": {},
     "metadata": {},
     "output_type": "display_data"
    },
    {
     "data": {},
     "metadata": {},
     "output_type": "display_data"
    },
    {
     "data": {},
     "metadata": {},
     "output_type": "display_data"
    }
   ],
   "source": [
    "# Adjusting the data for graphing and modeling\n",
    "\n",
    "Donations[, `Donation Received Date` := anytime::anydate(`Donation Received Date`)]\n",
    "Donations[, Year := format(`Donation Received Date`, '%Y')]\n",
    "Donation_by_day <- Donations[,.(Total_Donations = sum(`Donation Amount`)), by = `Donation Received Date`]\n",
    "Donation_by_day[, Year := format(`Donation Received Date`, '%Y')]\n",
    "\n",
    "Projects$`Project Cost` <- as.numeric(gsub('[$,]', '', Projects$`Project Cost`))"
   ]
  },
  {
   "cell_type": "markdown",
   "metadata": {},
   "source": [
    "### Revenue Year by Year\n",
    "\n",
    "There is a strong upward trend on annual revenue. This is great news for DonorsChoose.org!"
   ]
  },
  {
   "cell_type": "code",
   "execution_count": 6,
   "metadata": {
    "scrolled": true
   },
   "outputs": [
    {
     "data": {},
     "metadata": {},
     "output_type": "display_data"
    },
    {
     "data": {
      "image/png": "[encoded data removed]",
      "text/plain": [
       "plot without title"
      ]
     },
     "metadata": {},
     "output_type": "display_data"
    }
   ],
   "source": [
    "# Data transformation\n",
    "\n",
    "plot_data  <- Donations[Year!=2018 & Year!=2012,.(`Donation Amount` = sum( `Donation Amount`)), by =.(Year,`Donation Included Optional Donation`)]\n",
    "plot_data  <- plot_data[,.(`Donation Amount`,`Direct Revenue` = (sum(`Donation Amount`[`Donation Included Optional Donation` == 'Yes']))*.15), by =.(Year,`Donation Included Optional Donation`)]\n",
    "\n",
    "# Plotting total donations provided by donors by year\n",
    "\n",
    "ggplot(plot_data[,.(`Donation Amount` = sum(`Donation Amount`)), by = Year], aes(Year, `Donation Amount`,group = 1)) +\n",
    "    geom_line(color = 'green', size = 1.5) +\n",
    "    scale_y_continuous(labels=dollar_format()) +\n",
    "    labs(title = 'Total Donations by Year') +\n",
    "    theme(plot.title = element_text(hjust = 0.5, size = 22))\n",
    "\n"
   ]
  },
  {
   "cell_type": "markdown",
   "metadata": {},
   "source": [
    "# Funding for DonorsChoose.org Operations\n",
    "\n",
    "If we consider the operations funding to come directly from donations that have included the optional donation (15%), there is also strong growth in contributions directly for operations"
   ]
  },
  {
   "cell_type": "code",
   "execution_count": 7,
   "metadata": {},
   "outputs": [
    {
     "data": {},
     "metadata": {},
     "output_type": "display_data"
    },
    {
     "data": {
      "image/png": "[encoded data removed]",
      "text/plain": [
       "plot without title"
      ]
     },
     "metadata": {},
     "output_type": "display_data"
    }
   ],
   "source": [
    "ggplot(data = plot_data[`Donation Included Optional Donation` == 'Yes'], aes(Year,`Direct Revenue`,group = 1))+\n",
    "    geom_line(linetype = 'twodash', color ='green',size = 1.5) +\n",
    "    scale_y_continuous(labels=dollar_format()) +\n",
    "    labs(title = 'Contributions Directly for DonorsChoose.org Operations') +\n",
    "    theme(plot.title = element_text(hjust = 0.5, size = 22))"
   ]
  },
  {
   "cell_type": "markdown",
   "metadata": {},
   "source": [
    "## Donations Received over Time\n",
    "\n",
    "If we consider"
   ]
  },
  {
   "cell_type": "code",
   "execution_count": 9,
   "metadata": {},
   "outputs": [
    {
     "data": {},
     "metadata": {},
     "output_type": "display_data"
    },
    {
     "data": {
      "image/png": "[encoded data removed]",
      "text/plain": [
       "plot without title"
      ]
     },
     "metadata": {},
     "output_type": "display_data"
    }
   ],
   "source": [
    "ggplot(Donation_by_day, aes(`Donation Received Date`, Total_Donations)) +\n",
    "    geom_line(size = 1, aes(color = Year)) +\n",
    "    theme(legend.position=\"none\") +\n",
    "    theme(plot.title = element_text(hjust = 0.5, size = 22)) +\n",
    "    labs(title = 'Donations Received over Time') "
   ]
  },
  {
   "cell_type": "markdown",
   "metadata": {},
   "source": [
    "### Framing the problem and solution\n",
    "\n",
    "We can see that the later half of the year has "
   ]
  },
  {
   "cell_type": "markdown",
   "metadata": {},
   "source": [
    "## First Bullet Header "
   ]
  }
 ],
 "metadata": {
  "kernelspec": {
   "display_name": "R",
   "language": "R",
   "name": "ir"
  },
  "language_info": {
   "codemirror_mode": "r",
   "file_extension": ".r",
   "mimetype": "text/x-r-source",
   "name": "R",
   "pygments_lexer": "r",
   "version": "3.4.3"
  }
 },
 "nbformat": 4,
 "nbformat_minor": 2
}

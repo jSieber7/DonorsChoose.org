{
 "cells": [
  {
   "cell_type": "markdown",
   "metadata": {},
   "source": [
    "# Framing the Problem and Data\n",
    "\n",
    "In order to get a good idea about how we should get donors for DonorChoose.org re-engaged, we should get a better understanding of the data"
   ]
  },
  {
   "cell_type": "code",
   "execution_count": 2,
   "metadata": {},
   "outputs": [
    {
     "name": "stderr",
     "output_type": "stream",
     "text": [
      "Warning message:\n",
      "\"package 'ggplot2' was built under R version 3.4.4\""
     ]
    }
   ],
   "source": [
    "library(data.table)\n",
    "library(ggplot2)\n",
    "library(scales)"
   ]
  },
  {
   "cell_type": "code",
   "execution_count": 3,
   "metadata": {},
   "outputs": [
    {
     "name": "stdout",
     "output_type": "stream",
     "text": [
      "\r",
      "Read 0.0% of 4687884 rows\r",
      "Read 6.4% of 4687884 rows\r",
      "Read 12.4% of 4687884 rows\r",
      "Read 16.4% of 4687884 rows\r",
      "Read 21.3% of 4687884 rows\r",
      "Read 27.3% of 4687884 rows\r",
      "Read 34.8% of 4687884 rows\r",
      "Read 43.3% of 4687884 rows\r",
      "Read 44.4% of 4687884 rows\r",
      "Read 56.1% of 4687884 rows\r",
      "Read 69.5% of 4687884 rows\r",
      "Read 71.0% of 4687884 rows\r",
      "Read 77.6% of 4687884 rows\r",
      "Read 90.0% of 4687884 rows\r",
      "Read 4687884 rows and 7 (of 7) columns from 0.569 GB file in 00:00:27\n"
     ]
    },
    {
     "name": "stderr",
     "output_type": "stream",
     "text": [
      "Warning message in fread(\"data/Donors.csv\"):\n",
      "\"Bumped column 5 to type character on data row 28151, field contains 'N2J'. Coercing previously read values in this column from logical, integer or numeric back to character which may not be lossless; e.g., if '00' and '000' occurred before they will now be just '0', and there may be inconsistencies with treatment of ',,' and ',NA,' too (if they occurred in this column before the bump). If this matters please rerun and set 'colClasses' to 'character' for this column. Please note that column type detection uses a sample of 1,000 rows (100 rows at 10 points) so hopefully this message should be very rare. If reporting to datatable-help, please rerun and include the output from verbose=TRUE.\""
     ]
    },
    {
     "name": "stdout",
     "output_type": "stream",
     "text": [
      "Read 1208651 rows and 15 (of 15) columns from 2.237 GB file in 00:00:44\n",
      "Read 7210448 rows and 5 (of 5) columns from 0.763 GB file in 00:00:13\n"
     ]
    }
   ],
   "source": [
    "Donations <- fread('data/Donations.csv')\n",
    "Donors <- fread('data/Donors.csv')\n",
    "Projects <- fread('data/Projects.csv')\n",
    "Resources <- fread('data/Resources.csv')\n",
    "Schools <- fread('data/Schools.csv')\n",
    "Teachers <- fread('data/Teachers.csv')"
   ]
  },
  {
   "cell_type": "markdown",
   "metadata": {},
   "source": [
    "## Donations\n",
    "\n",
    "Perhaps the most important information is the 'Donations' information. After all, this is how the money is made! Let's take a look."
   ]
  },
  {
   "cell_type": "code",
   "execution_count": 4,
   "metadata": {},
   "outputs": [
    {
     "data": {
      "text/html": [
       "<table>\n",
       "<thead><tr><th scope=col>Project ID</th><th scope=col>Donation ID</th><th scope=col>Donor ID</th><th scope=col>Donation Included Optional Donation</th><th scope=col>Donation Amount</th><th scope=col>Donor Cart Sequence</th><th scope=col>Donation Received Date</th></tr></thead>\n",
       "<tbody>\n",
       "\t<tr><td>000009891526c0ade7180f8423792063</td><td>688729120858666221208529ee3fc18e</td><td>1f4b5b6e68445c6c4a0509b3aca93f38</td><td>No                              </td><td>178.37                          </td><td>11                              </td><td>2016-08-23 13:15:57             </td></tr>\n",
       "\t<tr><td>000009891526c0ade7180f8423792063</td><td>dcf1071da3aa3561f91ac689d1f73dee</td><td>4aaab6d244bf3599682239ed5591af8a</td><td>Yes                             </td><td> 25.00                          </td><td> 2                              </td><td>2016-06-06 20:05:23             </td></tr>\n",
       "\t<tr><td>000009891526c0ade7180f8423792063</td><td>18a234b9d1e538c431761d521ea7799d</td><td>0b0765dc9c759adc48a07688ba25e94e</td><td>Yes                             </td><td> 20.00                          </td><td> 3                              </td><td>2016-06-06 14:08:46             </td></tr>\n",
       "\t<tr><td>000009891526c0ade7180f8423792063</td><td>38d2744bf9138b0b57ed581c76c0e2da</td><td>377944ad61f72d800b25ec1862aec363</td><td>Yes                             </td><td> 25.00                          </td><td> 1                              </td><td>2016-05-15 10:23:04             </td></tr>\n",
       "\t<tr><td>000009891526c0ade7180f8423792063</td><td>5a032791e31167a70206bfb86fb60035</td><td>6d5b22d39e68c656071a842732c63a0c</td><td>Yes                             </td><td> 25.00                          </td><td> 2                              </td><td>2016-05-17 01:23:38             </td></tr>\n",
       "\t<tr><td>000009891526c0ade7180f8423792063</td><td>8cea27f0cc03f41f66aab96b284ae6a1</td><td>896c75c9b8d9a91c759746e566cd3f37</td><td>Yes                             </td><td> 15.00                          </td><td> 1                              </td><td>2016-06-04 17:58:55             </td></tr>\n",
       "</tbody>\n",
       "</table>\n"
      ],
      "text/latex": [
       "\\begin{tabular}{r|lllllll}\n",
       " Project ID & Donation ID & Donor ID & Donation Included Optional Donation & Donation Amount & Donor Cart Sequence & Donation Received Date\\\\\n",
       "\\hline\n",
       "\t 000009891526c0ade7180f8423792063 & 688729120858666221208529ee3fc18e & 1f4b5b6e68445c6c4a0509b3aca93f38 & No                               & 178.37                           & 11                               & 2016-08-23 13:15:57             \\\\\n",
       "\t 000009891526c0ade7180f8423792063 & dcf1071da3aa3561f91ac689d1f73dee & 4aaab6d244bf3599682239ed5591af8a & Yes                              &  25.00                           &  2                               & 2016-06-06 20:05:23             \\\\\n",
       "\t 000009891526c0ade7180f8423792063 & 18a234b9d1e538c431761d521ea7799d & 0b0765dc9c759adc48a07688ba25e94e & Yes                              &  20.00                           &  3                               & 2016-06-06 14:08:46             \\\\\n",
       "\t 000009891526c0ade7180f8423792063 & 38d2744bf9138b0b57ed581c76c0e2da & 377944ad61f72d800b25ec1862aec363 & Yes                              &  25.00                           &  1                               & 2016-05-15 10:23:04             \\\\\n",
       "\t 000009891526c0ade7180f8423792063 & 5a032791e31167a70206bfb86fb60035 & 6d5b22d39e68c656071a842732c63a0c & Yes                              &  25.00                           &  2                               & 2016-05-17 01:23:38             \\\\\n",
       "\t 000009891526c0ade7180f8423792063 & 8cea27f0cc03f41f66aab96b284ae6a1 & 896c75c9b8d9a91c759746e566cd3f37 & Yes                              &  15.00                           &  1                               & 2016-06-04 17:58:55             \\\\\n",
       "\\end{tabular}\n"
      ],
      "text/markdown": [
       "\n",
       "Project ID | Donation ID | Donor ID | Donation Included Optional Donation | Donation Amount | Donor Cart Sequence | Donation Received Date | \n",
       "|---|---|---|---|---|---|\n",
       "| 000009891526c0ade7180f8423792063 | 688729120858666221208529ee3fc18e | 1f4b5b6e68445c6c4a0509b3aca93f38 | No                               | 178.37                           | 11                               | 2016-08-23 13:15:57              | \n",
       "| 000009891526c0ade7180f8423792063 | dcf1071da3aa3561f91ac689d1f73dee | 4aaab6d244bf3599682239ed5591af8a | Yes                              |  25.00                           |  2                               | 2016-06-06 20:05:23              | \n",
       "| 000009891526c0ade7180f8423792063 | 18a234b9d1e538c431761d521ea7799d | 0b0765dc9c759adc48a07688ba25e94e | Yes                              |  20.00                           |  3                               | 2016-06-06 14:08:46              | \n",
       "| 000009891526c0ade7180f8423792063 | 38d2744bf9138b0b57ed581c76c0e2da | 377944ad61f72d800b25ec1862aec363 | Yes                              |  25.00                           |  1                               | 2016-05-15 10:23:04              | \n",
       "| 000009891526c0ade7180f8423792063 | 5a032791e31167a70206bfb86fb60035 | 6d5b22d39e68c656071a842732c63a0c | Yes                              |  25.00                           |  2                               | 2016-05-17 01:23:38              | \n",
       "| 000009891526c0ade7180f8423792063 | 8cea27f0cc03f41f66aab96b284ae6a1 | 896c75c9b8d9a91c759746e566cd3f37 | Yes                              |  15.00                           |  1                               | 2016-06-04 17:58:55              | \n",
       "\n",
       "\n"
      ],
      "text/plain": [
       "  Project ID                       Donation ID                     \n",
       "1 000009891526c0ade7180f8423792063 688729120858666221208529ee3fc18e\n",
       "2 000009891526c0ade7180f8423792063 dcf1071da3aa3561f91ac689d1f73dee\n",
       "3 000009891526c0ade7180f8423792063 18a234b9d1e538c431761d521ea7799d\n",
       "4 000009891526c0ade7180f8423792063 38d2744bf9138b0b57ed581c76c0e2da\n",
       "5 000009891526c0ade7180f8423792063 5a032791e31167a70206bfb86fb60035\n",
       "6 000009891526c0ade7180f8423792063 8cea27f0cc03f41f66aab96b284ae6a1\n",
       "  Donor ID                         Donation Included Optional Donation\n",
       "1 1f4b5b6e68445c6c4a0509b3aca93f38 No                                 \n",
       "2 4aaab6d244bf3599682239ed5591af8a Yes                                \n",
       "3 0b0765dc9c759adc48a07688ba25e94e Yes                                \n",
       "4 377944ad61f72d800b25ec1862aec363 Yes                                \n",
       "5 6d5b22d39e68c656071a842732c63a0c Yes                                \n",
       "6 896c75c9b8d9a91c759746e566cd3f37 Yes                                \n",
       "  Donation Amount Donor Cart Sequence Donation Received Date\n",
       "1 178.37          11                  2016-08-23 13:15:57   \n",
       "2  25.00           2                  2016-06-06 20:05:23   \n",
       "3  20.00           3                  2016-06-06 14:08:46   \n",
       "4  25.00           1                  2016-05-15 10:23:04   \n",
       "5  25.00           2                  2016-05-17 01:23:38   \n",
       "6  15.00           1                  2016-06-04 17:58:55   "
      ]
     },
     "metadata": {},
     "output_type": "display_data"
    }
   ],
   "source": [
    "head(Donations)"
   ]
  },
  {
   "cell_type": "code",
   "execution_count": null,
   "metadata": {},
   "outputs": [],
   "source": [
    "# Visualizing Donations over time\n",
    "Donations[, `Donation Received Date` := anytime::anydate(`Donation Received Date`)]\n",
    "Donation_by_day <- Donations[,.(Total_Donations = sum(`Donation Amount`)), by = `Donation Received Date`]\n",
    "Donation_by_day[, Year := format(`Donation Received Date`, '%Y')]"
   ]
  },
  {
   "cell_type": "code",
   "execution_count": 17,
   "metadata": {},
   "outputs": [
    {
     "name": "stdout",
     "output_type": "stream",
     "text": [
      "[1] \"Ratio of unique projects per donation: 0.1924\"\n",
      "[1] \"Ratio of unique donors per donation: 0.4319\"\n"
     ]
    }
   ],
   "source": [
    "print(paste0('Ratio of unique projects per donation: ' ,round(length(unique(Donations$`Project ID`)) / nrow(Donations),4)))\n",
    "# length(unique(Donations$`Donation ID`)) / nrow(Donations)\n",
    "print(paste0('Ratio of unique donors per donation: ', round(length(unique(Donations$`Donor ID`)) / nrow(Donations),4)))"
   ]
  },
  {
   "cell_type": "code",
   "execution_count": 21,
   "metadata": {},
   "outputs": [
    {
     "data": {},
     "metadata": {},
     "output_type": "display_data"
    },
    {
     "data": {
      "image/png": "[encoded data removed]",
      "text/plain": [
       "plot without title"
      ]
     },
     "metadata": {},
     "output_type": "display_data"
    }
   ],
   "source": [
    "library(repr)\n",
    "options(repr.plot.width=10, repr.plot.height=3)\n",
    "\n",
    "ggplot(Donation_by_day, aes(`Donation Received Date`, Total_Donations)) +\n",
    "  geom_line(size = 1, aes(color = Year)) +\n",
    "  theme(legend.position=\"none\")"
   ]
  },
  {
   "cell_type": "code",
   "execution_count": 24,
   "metadata": {},
   "outputs": [
    {
     "data": {},
     "metadata": {},
     "output_type": "display_data"
    },
    {
     "data": {
      "image/png": "[encoded data removed]",
      "text/plain": [
       "plot without title"
      ]
     },
     "metadata": {},
     "output_type": "display_data"
    }
   ],
   "source": [
    "ggplot(Donation_by_day[`Year` >= 2015], aes(`Donation Received Date`, Total_Donations)) +\n",
    "  geom_line(size = 1, aes(color = Year)) +\n",
    "  theme(legend.position=\"none\")"
   ]
  },
  {
   "cell_type": "code",
   "execution_count": 22,
   "metadata": {},
   "outputs": [
    {
     "data": {},
     "metadata": {},
     "output_type": "display_data"
    },
    {
     "data": {
      "image/png": "[encoded data removed]",
      "text/plain": [
       "plot without title"
      ]
     },
     "metadata": {},
     "output_type": "display_data"
    }
   ],
   "source": [
    "# nrow(Donations[`Donation Amount` < 600]) / nrow(Donations)\n",
    "\n",
    "ggplot(Donations[`Donation Amount` < 600], aes(`Donation Amount`)) +\n",
    "  geom_histogram(binwidth = 25, fill = 'skyblue', color = 'black') +\n",
    "  scale_x_continuous(breaks = seq(0, 600, by = 25)) +\n",
    "  labs(title = '(covers over 99% of the data)')"
   ]
  },
  {
   "cell_type": "markdown",
   "metadata": {},
   "source": [
    "Now that we have an idea of the distribution of donations over time and amount, let's take a look the repeat donations"
   ]
  },
  {
   "cell_type": "code",
   "execution_count": 122,
   "metadata": {},
   "outputs": [],
   "source": [
    "Repeated_Donors <- Donations[,.(`Times Donated`=.N, `Dollar Amount` = sum(`Donation Amount`)),by=`Donor ID`]"
   ]
  },
  {
   "cell_type": "code",
   "execution_count": 123,
   "metadata": {},
   "outputs": [
    {
     "data": {
      "text/html": [
       "<table>\n",
       "<thead><tr><th scope=col>Donor ID</th><th scope=col>Times Donated</th><th scope=col>Dollar Amount</th></tr></thead>\n",
       "<tbody>\n",
       "\t<tr><td>a0e1d358aa17745ff3d3f4e4909356f3</td><td>10515                           </td><td>1879625.0                       </td></tr>\n",
       "\t<tr><td>2144d56b1947ebb26a19e7f1d07c970a</td><td> 2152                           </td><td>1243529.7                       </td></tr>\n",
       "\t<tr><td>96c4f21513cd8962acb147ab384e6434</td><td> 2148                           </td><td>1130565.6                       </td></tr>\n",
       "\t<tr><td>3ba8a29e3dd72043f9738c0895733834</td><td> 1553                           </td><td> 977614.5                       </td></tr>\n",
       "\t<tr><td>f9dd79ea006fee7bb4a5cc8473d8656c</td><td> 1891                           </td><td> 897408.3                       </td></tr>\n",
       "\t<tr><td>d006be7223c048ae8b2bdedd7dd2b4db</td><td> 3330                           </td><td> 766000.7                       </td></tr>\n",
       "\t<tr><td>bd58ba0b74427b6686b3d721f0cbcb6e</td><td> 1126                           </td><td> 695461.9                       </td></tr>\n",
       "\t<tr><td>5f521d214a6297fe87b60f921bba51ab</td><td>  669                           </td><td> 569512.5                       </td></tr>\n",
       "\t<tr><td>f4e59466422bf084792071a849284771</td><td> 1580                           </td><td> 463820.9                       </td></tr>\n",
       "\t<tr><td>7f90cc03b021484df72d3fa18e42a151</td><td>  327                           </td><td> 336489.3                       </td></tr>\n",
       "</tbody>\n",
       "</table>\n"
      ],
      "text/latex": [
       "\\begin{tabular}{r|lll}\n",
       " Donor ID & Times Donated & Dollar Amount\\\\\n",
       "\\hline\n",
       "\t a0e1d358aa17745ff3d3f4e4909356f3 & 10515                            & 1879625.0                       \\\\\n",
       "\t 2144d56b1947ebb26a19e7f1d07c970a &  2152                            & 1243529.7                       \\\\\n",
       "\t 96c4f21513cd8962acb147ab384e6434 &  2148                            & 1130565.6                       \\\\\n",
       "\t 3ba8a29e3dd72043f9738c0895733834 &  1553                            &  977614.5                       \\\\\n",
       "\t f9dd79ea006fee7bb4a5cc8473d8656c &  1891                            &  897408.3                       \\\\\n",
       "\t d006be7223c048ae8b2bdedd7dd2b4db &  3330                            &  766000.7                       \\\\\n",
       "\t bd58ba0b74427b6686b3d721f0cbcb6e &  1126                            &  695461.9                       \\\\\n",
       "\t 5f521d214a6297fe87b60f921bba51ab &   669                            &  569512.5                       \\\\\n",
       "\t f4e59466422bf084792071a849284771 &  1580                            &  463820.9                       \\\\\n",
       "\t 7f90cc03b021484df72d3fa18e42a151 &   327                            &  336489.3                       \\\\\n",
       "\\end{tabular}\n"
      ],
      "text/markdown": [
       "\n",
       "Donor ID | Times Donated | Dollar Amount | \n",
       "|---|---|---|---|---|---|---|---|---|---|\n",
       "| a0e1d358aa17745ff3d3f4e4909356f3 | 10515                            | 1879625.0                        | \n",
       "| 2144d56b1947ebb26a19e7f1d07c970a |  2152                            | 1243529.7                        | \n",
       "| 96c4f21513cd8962acb147ab384e6434 |  2148                            | 1130565.6                        | \n",
       "| 3ba8a29e3dd72043f9738c0895733834 |  1553                            |  977614.5                        | \n",
       "| f9dd79ea006fee7bb4a5cc8473d8656c |  1891                            |  897408.3                        | \n",
       "| d006be7223c048ae8b2bdedd7dd2b4db |  3330                            |  766000.7                        | \n",
       "| bd58ba0b74427b6686b3d721f0cbcb6e |  1126                            |  695461.9                        | \n",
       "| 5f521d214a6297fe87b60f921bba51ab |   669                            |  569512.5                        | \n",
       "| f4e59466422bf084792071a849284771 |  1580                            |  463820.9                        | \n",
       "| 7f90cc03b021484df72d3fa18e42a151 |   327                            |  336489.3                        | \n",
       "\n",
       "\n"
      ],
      "text/plain": [
       "   Donor ID                         Times Donated Dollar Amount\n",
       "1  a0e1d358aa17745ff3d3f4e4909356f3 10515         1879625.0    \n",
       "2  2144d56b1947ebb26a19e7f1d07c970a  2152         1243529.7    \n",
       "3  96c4f21513cd8962acb147ab384e6434  2148         1130565.6    \n",
       "4  3ba8a29e3dd72043f9738c0895733834  1553          977614.5    \n",
       "5  f9dd79ea006fee7bb4a5cc8473d8656c  1891          897408.3    \n",
       "6  d006be7223c048ae8b2bdedd7dd2b4db  3330          766000.7    \n",
       "7  bd58ba0b74427b6686b3d721f0cbcb6e  1126          695461.9    \n",
       "8  5f521d214a6297fe87b60f921bba51ab   669          569512.5    \n",
       "9  f4e59466422bf084792071a849284771  1580          463820.9    \n",
       "10 7f90cc03b021484df72d3fa18e42a151   327          336489.3    "
      ]
     },
     "metadata": {},
     "output_type": "display_data"
    }
   ],
   "source": [
    "head(Repeated_Donors[order(-`Dollar Amount`)], 10)"
   ]
  },
  {
   "cell_type": "code",
   "execution_count": 124,
   "metadata": {},
   "outputs": [
    {
     "data": {},
     "metadata": {},
     "output_type": "display_data"
    }
   ],
   "source": [
    "Repeated_Donors  <- Repeated_Donors[,.(`Number of People` = .N, `Dollar Worth` = sum(`Dollar Amount`)),  by = `Times Donated`]\n",
    "Repeated_Donors[,`Dollar Per Individual` := `Dollar Worth`/`Number of People`]"
   ]
  },
  {
   "cell_type": "code",
   "execution_count": 125,
   "metadata": {
    "scrolled": true
   },
   "outputs": [
    {
     "data": {
      "text/html": [
       "<table>\n",
       "<thead><tr><th scope=col>Times Donated</th><th scope=col>Number of People</th><th scope=col>Dollar Worth</th><th scope=col>Dollar Per Individual</th></tr></thead>\n",
       "<tbody>\n",
       "\t<tr><td>1        </td><td>1471613  </td><td>78595864 </td><td> 53.40797</td></tr>\n",
       "\t<tr><td>2        </td><td> 274902  </td><td>33947995 </td><td>123.49126</td></tr>\n",
       "\t<tr><td>3        </td><td>  99063  </td><td>19574818 </td><td>197.59969</td></tr>\n",
       "\t<tr><td>4        </td><td>  49911  </td><td>13510249 </td><td>270.68681</td></tr>\n",
       "\t<tr><td>5        </td><td>  30578  </td><td>10300913 </td><td>336.87333</td></tr>\n",
       "\t<tr><td>6        </td><td>  19665  </td><td> 8077697 </td><td>410.76518</td></tr>\n",
       "</tbody>\n",
       "</table>\n"
      ],
      "text/latex": [
       "\\begin{tabular}{r|llll}\n",
       " Times Donated & Number of People & Dollar Worth & Dollar Per Individual\\\\\n",
       "\\hline\n",
       "\t 1         & 1471613   & 78595864  &  53.40797\\\\\n",
       "\t 2         &  274902   & 33947995  & 123.49126\\\\\n",
       "\t 3         &   99063   & 19574818  & 197.59969\\\\\n",
       "\t 4         &   49911   & 13510249  & 270.68681\\\\\n",
       "\t 5         &   30578   & 10300913  & 336.87333\\\\\n",
       "\t 6         &   19665   &  8077697  & 410.76518\\\\\n",
       "\\end{tabular}\n"
      ],
      "text/markdown": [
       "\n",
       "Times Donated | Number of People | Dollar Worth | Dollar Per Individual | \n",
       "|---|---|---|---|---|---|\n",
       "| 1         | 1471613   | 78595864  |  53.40797 | \n",
       "| 2         |  274902   | 33947995  | 123.49126 | \n",
       "| 3         |   99063   | 19574818  | 197.59969 | \n",
       "| 4         |   49911   | 13510249  | 270.68681 | \n",
       "| 5         |   30578   | 10300913  | 336.87333 | \n",
       "| 6         |   19665   |  8077697  | 410.76518 | \n",
       "\n",
       "\n"
      ],
      "text/plain": [
       "  Times Donated Number of People Dollar Worth Dollar Per Individual\n",
       "1 1             1471613          78595864      53.40797            \n",
       "2 2              274902          33947995     123.49126            \n",
       "3 3               99063          19574818     197.59969            \n",
       "4 4               49911          13510249     270.68681            \n",
       "5 5               30578          10300913     336.87333            \n",
       "6 6               19665           8077697     410.76518            "
      ]
     },
     "metadata": {},
     "output_type": "display_data"
    }
   ],
   "source": [
    "head(Repeated_Donors[order(`Times Donated`)])"
   ]
  },
  {
   "cell_type": "code",
   "execution_count": 129,
   "metadata": {},
   "outputs": [
    {
     "data": {
      "text/html": [
       "103135480.64677"
      ],
      "text/latex": [
       "103135480.64677"
      ],
      "text/markdown": [
       "103135480.64677"
      ],
      "text/plain": [
       "[1] 103135481"
      ]
     },
     "metadata": {},
     "output_type": "display_data"
    },
    {
     "data": {
      "text/html": [
       "15719172.591122"
      ],
      "text/latex": [
       "15719172.591122"
      ],
      "text/markdown": [
       "15719172.591122"
      ],
      "text/plain": [
       "[1] 15719173"
      ]
     },
     "metadata": {},
     "output_type": "display_data"
    }
   ],
   "source": [
    "(123.49126- 53.40797) * 1471613\n",
    ".2*53.40797*1471613"
   ]
  },
  {
   "cell_type": "markdown",
   "metadata": {},
   "source": [
    "By using 'Dollar Per Individual' averages as an extremely rough benchmark, moving the 'Times Donated = 1' group into the 'Times Donated = 2' would net an additional 103 million dollars. Of course, this is not a scientific estimate given the unknown variations between those in the 'Times Donated = 1' group and the 'Times Donated = 2' group, but it goes to show how important re-engagement is.\n",
    "\n",
    "If we get at least 20% of those who donated only once to make another donation with the same average donation, then we can get another 15 million dollars in revenue. "
   ]
  },
  {
   "cell_type": "code",
   "execution_count": 73,
   "metadata": {},
   "outputs": [
    {
     "name": "stdout",
     "output_type": "stream",
     "text": [
      "[1] \"The ratio of those who only donated once: 0.726882562776789\"\n",
      "[1] \"The dollar ratio of those who only donated once: 0.276348754183691\"\n",
      "[1] \"This means those who donated more than once (approx 28%) are responsible for around 73% of total revenue\"\n"
     ]
    }
   ],
   "source": [
    "print(paste0('The ratio of those who only donated once: ',Repeated_Donors[`Times Donated` == 1,`Number of People`]/Repeated_Donors[,sum(`Number of People`)]))\n",
    "print(paste0('The dollar ratio of those who only donated once: ',Repeated_Donors[`Times Donated` == 1,`Dollar Worth`]/Repeated_Donors[,sum(`Dollar Worth`)]))\n",
    "print('This means those who donated more than once (approx 28%) are responsible for around 73% of total revenue')"
   ]
  },
  {
   "cell_type": "code",
   "execution_count": 136,
   "metadata": {},
   "outputs": [
    {
     "data": {},
     "metadata": {},
     "output_type": "display_data"
    },
    {
     "data": {
      "image/png": "[encoded data removed]",
      "text/plain": [
       "plot without title"
      ]
     },
     "metadata": {},
     "output_type": "display_data"
    }
   ],
   "source": [
    "ggplot(Repeated_Donors[`Times Donated` <= 5], aes(x=`Times Donated`, y = `Dollar Worth`)) +\n",
    "    geom_bar(stat = 'identity', aes(fill = `Dollar Per Individual`)) +\n",
    "    scale_y_continuous(labels=dollar_format(prefix=\"$\")) +\n",
    "    scale_x_continuous(breaks = seq(0, 5, by = 1)) +\n",
    "    labs(title = 'Dollar Worth of by the Number of Times Donated')"
   ]
  },
  {
   "cell_type": "code",
   "execution_count": 135,
   "metadata": {},
   "outputs": [
    {
     "data": {},
     "metadata": {},
     "output_type": "display_data"
    },
    {
     "data": {},
     "metadata": {},
     "output_type": "display_data"
    },
    {
     "data": {
      "image/png": "[encoded data removed]",
      "text/plain": [
       "plot without title"
      ]
     },
     "metadata": {},
     "output_type": "display_data"
    }
   ],
   "source": [
    "Repeated_Donors[,Is_One := ifelse(`Times Donated`== 1,'Donated Once','Donated More Than Once')]\n",
    "\n",
    "ggplot(Repeated_Donors, aes(x=`Is_One`, y = `Dollar Worth`)) +\n",
    "    geom_bar(stat = 'identity', color = 'darkblue') +\n",
    "    scale_y_continuous(labels=dollar_format(prefix=\"$\")) +\n",
    "    labs(title = 'Dollar Worth of by the Number of Times Donated')"
   ]
  }
 ],
 "metadata": {
  "kernelspec": {
   "display_name": "R",
   "language": "R",
   "name": "ir"
  },
  "language_info": {
   "codemirror_mode": "r",
   "file_extension": ".r",
   "mimetype": "text/x-r-source",
   "name": "R",
   "pygments_lexer": "r",
   "version": "3.4.3"
  }
 },
 "nbformat": 4,
 "nbformat_minor": 2
}

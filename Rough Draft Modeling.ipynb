{
 "cells": [
  {
   "cell_type": "code",
   "execution_count": 7,
   "metadata": {},
   "outputs": [
    {
     "name": "stderr",
     "output_type": "stream",
     "text": [
      "Warning message:\n",
      "\"package 'scales' was built under R version 3.4.4\""
     ]
    }
   ],
   "source": [
    "library(caret)\n",
    "library(keras)\n",
    "library(data.table)\n",
    "library(ggplot2)\n",
    "library(scales)\n",
    "library(repr)\n",
    "options(repr.plot.width=10, repr.plot.height=3)"
   ]
  },
  {
   "cell_type": "code",
   "execution_count": null,
   "metadata": {},
   "outputs": [
    {
     "name": "stderr",
     "output_type": "stream",
     "text": [
      "Warning message in fread(\"data/Donors.csv\"):\n",
      "\"Bumped column 5 to type character on data row 28151, field contains 'N2J'. Coercing previously read values in this column from logical, integer or numeric back to character which may not be lossless; e.g., if '00' and '000' occurred before they will now be just '0', and there may be inconsistencies with treatment of ',,' and ',NA,' too (if they occurred in this column before the bump). If this matters please rerun and set 'colClasses' to 'character' for this column. Please note that column type detection uses a sample of 1,000 rows (100 rows at 10 points) so hopefully this message should be very rare. If reporting to datatable-help, please rerun and include the output from verbose=TRUE.\""
     ]
    },
    {
     "name": "stdout",
     "output_type": "stream",
     "text": [
      "Read 2122640 rows and 5 (of 5) columns from 0.115 GB file in 00:00:04\n",
      "Read 1208651 rows and 15 (of 15) columns from 2.237 GB file in 00:00:32\n",
      "Read 7210448 rows and 5 (of 5) columns from 0.763 GB file in 00:00:18\n"
     ]
    }
   ],
   "source": [
    "Donors <- fread('data/Donors.csv')\n",
    "Projects <- fread('data/Projects.csv')\n",
    "Resources <- fread('data/Resources.csv')\n",
    "Schools <- fread('data/Schools.csv')\n",
    "Teachers <- fread('data/Teachers.csv')\n",
    "Donations <- fread('data/Donations.csv')"
   ]
  }
 ],
 "metadata": {
  "kernelspec": {
   "display_name": "R",
   "language": "R",
   "name": "ir"
  },
  "language_info": {
   "codemirror_mode": "r",
   "file_extension": ".r",
   "mimetype": "text/x-r-source",
   "name": "R",
   "pygments_lexer": "r",
   "version": "3.4.3"
  }
 },
 "nbformat": 4,
 "nbformat_minor": 2
}

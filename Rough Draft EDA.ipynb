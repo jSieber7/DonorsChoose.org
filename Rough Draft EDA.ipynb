{
 "cells": [
  {
   "cell_type": "markdown",
   "metadata": {},
   "source": [
    "# Framing the Problem and Data\n",
    "\n",
    "In order to get a good idea about how we should get donors for DonorChoose.org re-engaged, we should get a better understanding of the data"
   ]
  },
  {
   "cell_type": "code",
   "execution_count": 4,
   "metadata": {},
   "outputs": [],
   "source": [
    "library(data.table)\n",
    "library(ggplot2)\n",
    "library(scales)\n",
    "library(repr)\n",
    "library(dplyr)\n",
    "options(repr.plot.width=10, repr.plot.height=3)\n",
    "options(scipen=10000)\n",
    "# options(plot.title = element_text(hjust = 0.5))"
   ]
  },
  {
   "cell_type": "code",
   "execution_count": 5,
   "metadata": {},
   "outputs": [],
   "source": [
    "\n",
    "# Here is the full set of things you can change in element_text:\n",
    "\n",
    "# element_text(family = NULL, face = NULL, colour = NULL, size = NULL,\n",
    "#   hjust = NULL, vjust = NULL, angle = NULL, lineheight = NULL,\n",
    "#   color = NULL)\n",
    "    "
   ]
  },
  {
   "cell_type": "code",
   "execution_count": 6,
   "metadata": {},
   "outputs": [],
   "source": [
    "Donations <- fread('data/Donations.csv')"
   ]
  },
  {
   "cell_type": "code",
   "execution_count": 7,
   "metadata": {},
   "outputs": [],
   "source": [
    "Donors <- fread('data/Donors.csv')\n",
    "Projects <- fread('data/Projects.csv')\n",
    "Resources <- fread('data/Resources.csv')\n",
    "Schools <- fread('data/Schools.csv')\n",
    "Teachers <- fread('data/Teachers.csv')"
   ]
  },
  {
   "cell_type": "code",
   "execution_count": 81,
   "metadata": {},
   "outputs": [],
   "source": [
    "Projects$`Project Cost` <- as.numeric(gsub('[$,]', '', Projects$`Project Cost`))"
   ]
  },
  {
   "cell_type": "code",
   "execution_count": 8,
   "metadata": {},
   "outputs": [
    {
     "data": {
      "text/html": [
       "<table>\n",
       "<thead><tr><th scope=col>Donor ID</th><th scope=col>Donor City</th><th scope=col>Donor State</th><th scope=col>Donor Is Teacher</th><th scope=col>Donor Zip</th></tr></thead>\n",
       "<tbody>\n",
       "\t<tr><td>00000ce845c00cbf0686c992fc369df4</td><td>Evanston                        </td><td>Illinois                        </td><td>No                              </td><td>602                             </td></tr>\n",
       "\t<tr><td>00002783bc5d108510f3f9666c8b1edd</td><td>Appomattox                      </td><td>other                           </td><td>No                              </td><td>245                             </td></tr>\n",
       "\t<tr><td>00002d44003ed46b066607c5455a999a</td><td>Winton                          </td><td>California                      </td><td>Yes                             </td><td>953                             </td></tr>\n",
       "\t<tr><td>00002eb25d60a09c318efbd0797bffb5</td><td>Indianapolis                    </td><td>Indiana                         </td><td>No                              </td><td>462                             </td></tr>\n",
       "\t<tr><td>0000300773fe015f870914b42528541b</td><td>Paterson                        </td><td>New Jersey                      </td><td>No                              </td><td>075                             </td></tr>\n",
       "\t<tr><td>00004c31ce07c22148ee37acd0f814b9</td><td>                                </td><td>other                           </td><td>No                              </td><td>                                </td></tr>\n",
       "</tbody>\n",
       "</table>\n"
      ],
      "text/latex": [
       "\\begin{tabular}{r|lllll}\n",
       " Donor ID & Donor City & Donor State & Donor Is Teacher & Donor Zip\\\\\n",
       "\\hline\n",
       "\t 00000ce845c00cbf0686c992fc369df4 & Evanston                         & Illinois                         & No                               & 602                             \\\\\n",
       "\t 00002783bc5d108510f3f9666c8b1edd & Appomattox                       & other                            & No                               & 245                             \\\\\n",
       "\t 00002d44003ed46b066607c5455a999a & Winton                           & California                       & Yes                              & 953                             \\\\\n",
       "\t 00002eb25d60a09c318efbd0797bffb5 & Indianapolis                     & Indiana                          & No                               & 462                             \\\\\n",
       "\t 0000300773fe015f870914b42528541b & Paterson                         & New Jersey                       & No                               & 075                             \\\\\n",
       "\t 00004c31ce07c22148ee37acd0f814b9 &                                  & other                            & No                               &                                 \\\\\n",
       "\\end{tabular}\n"
      ],
      "text/markdown": [
       "\n",
       "Donor ID | Donor City | Donor State | Donor Is Teacher | Donor Zip | \n",
       "|---|---|---|---|---|---|\n",
       "| 00000ce845c00cbf0686c992fc369df4 | Evanston                         | Illinois                         | No                               | 602                              | \n",
       "| 00002783bc5d108510f3f9666c8b1edd | Appomattox                       | other                            | No                               | 245                              | \n",
       "| 00002d44003ed46b066607c5455a999a | Winton                           | California                       | Yes                              | 953                              | \n",
       "| 00002eb25d60a09c318efbd0797bffb5 | Indianapolis                     | Indiana                          | No                               | 462                              | \n",
       "| 0000300773fe015f870914b42528541b | Paterson                         | New Jersey                       | No                               | 075                              | \n",
       "| 00004c31ce07c22148ee37acd0f814b9 |                                  | other                            | No                               |                                  | \n",
       "\n",
       "\n"
      ],
      "text/plain": [
       "  Donor ID                         Donor City   Donor State Donor Is Teacher\n",
       "1 00000ce845c00cbf0686c992fc369df4 Evanston     Illinois    No              \n",
       "2 00002783bc5d108510f3f9666c8b1edd Appomattox   other       No              \n",
       "3 00002d44003ed46b066607c5455a999a Winton       California  Yes             \n",
       "4 00002eb25d60a09c318efbd0797bffb5 Indianapolis Indiana     No              \n",
       "5 0000300773fe015f870914b42528541b Paterson     New Jersey  No              \n",
       "6 00004c31ce07c22148ee37acd0f814b9              other       No              \n",
       "  Donor Zip\n",
       "1 602      \n",
       "2 245      \n",
       "3 953      \n",
       "4 462      \n",
       "5 075      \n",
       "6          "
      ]
     },
     "metadata": {},
     "output_type": "display_data"
    },
    {
     "data": {
      "text/html": [
       "<table>\n",
       "<thead><tr><th scope=col>School ID</th><th scope=col>School Name</th><th scope=col>School Metro Type</th><th scope=col>School Percentage Free Lunch</th><th scope=col>School State</th><th scope=col>School Zip</th><th scope=col>School City</th><th scope=col>School County</th><th scope=col>School District</th></tr></thead>\n",
       "<tbody>\n",
       "\t<tr><td>00003e0fdd601b8ea0a6eb44057b9c5e      </td><td>Capon Bridge Middle School            </td><td>rural                                 </td><td>56                                    </td><td>West Virginia                         </td><td>26711                                 </td><td>Capon Bridge                          </td><td>Hampshire                             </td><td>Hampshire Co School District          </td></tr>\n",
       "\t<tr><td>00004e32a448b4832e1b993500bf0731      </td><td>The Woodlands College Park High School</td><td>urban                                 </td><td>41                                    </td><td>Texas                                 </td><td>77384                                 </td><td>The Woodlands                         </td><td>Montgomery                            </td><td>Conroe Ind School District            </td></tr>\n",
       "\t<tr><td>0002021bb799f28de224f1acc1ff08c4      </td><td>Samantha Smith Elementary School      </td><td>suburban                              </td><td> 2                                    </td><td>Washington                            </td><td>98074                                 </td><td>Sammamish                             </td><td>King                                  </td><td>Lake Washington Sch Dist 414          </td></tr>\n",
       "\t<tr><td>0004604f675212a8cac1161338265196      </td><td>Kingsbury Country Day School          </td><td>unknown                               </td><td>76                                    </td><td>Michigan                              </td><td>48370                                 </td><td>Oxford                                </td><td>Oakland                               </td><td>Michigan Dept Of Education            </td></tr>\n",
       "\t<tr><td>0004c9d50bcf0cea990f844e58b5e2c3      </td><td>Redwater Elementary School            </td><td>rural                                 </td><td>50                                    </td><td>Texas                                 </td><td>75573                                 </td><td>Redwater                              </td><td>Bowie                                 </td><td>Redwater Ind Sch District             </td></tr>\n",
       "\t<tr><td>0004ffe3558fd70d939ad522b92447c8                                                  </td><td><span style=white-space:pre-wrap>Math &amp; Science Success Academy        </span></td><td>unknown                                                                           </td><td>63                                                                                </td><td><span style=white-space:pre-wrap>Arizona      </span>                             </td><td>85706                                                                             </td><td><span style=white-space:pre-wrap>Tucson       </span>                             </td><td><span style=white-space:pre-wrap>Pima      </span>                                </td><td><span style=white-space:pre-wrap>Arizona Dept Of Education   </span>              </td></tr>\n",
       "</tbody>\n",
       "</table>\n"
      ],
      "text/latex": [
       "\\begin{tabular}{r|lllllllll}\n",
       " School ID & School Name & School Metro Type & School Percentage Free Lunch & School State & School Zip & School City & School County & School District\\\\\n",
       "\\hline\n",
       "\t 00003e0fdd601b8ea0a6eb44057b9c5e       & Capon Bridge Middle School             & rural                                  & 56                                     & West Virginia                          & 26711                                  & Capon Bridge                           & Hampshire                              & Hampshire Co School District          \\\\\n",
       "\t 00004e32a448b4832e1b993500bf0731       & The Woodlands College Park High School & urban                                  & 41                                     & Texas                                  & 77384                                  & The Woodlands                          & Montgomery                             & Conroe Ind School District            \\\\\n",
       "\t 0002021bb799f28de224f1acc1ff08c4       & Samantha Smith Elementary School       & suburban                               &  2                                     & Washington                             & 98074                                  & Sammamish                              & King                                   & Lake Washington Sch Dist 414          \\\\\n",
       "\t 0004604f675212a8cac1161338265196       & Kingsbury Country Day School           & unknown                                & 76                                     & Michigan                               & 48370                                  & Oxford                                 & Oakland                                & Michigan Dept Of Education            \\\\\n",
       "\t 0004c9d50bcf0cea990f844e58b5e2c3       & Redwater Elementary School             & rural                                  & 50                                     & Texas                                  & 75573                                  & Redwater                               & Bowie                                  & Redwater Ind Sch District             \\\\\n",
       "\t 0004ffe3558fd70d939ad522b92447c8         & Math \\& Science Success Academy         & unknown                                  & 63                                       & Arizona                                  & 85706                                    & Tucson                                   & Pima                                     & Arizona Dept Of Education               \\\\\n",
       "\\end{tabular}\n"
      ],
      "text/markdown": [
       "\n",
       "School ID | School Name | School Metro Type | School Percentage Free Lunch | School State | School Zip | School City | School County | School District | \n",
       "|---|---|---|---|---|---|\n",
       "| 00003e0fdd601b8ea0a6eb44057b9c5e       | Capon Bridge Middle School             | rural                                  | 56                                     | West Virginia                          | 26711                                  | Capon Bridge                           | Hampshire                              | Hampshire Co School District           | \n",
       "| 00004e32a448b4832e1b993500bf0731       | The Woodlands College Park High School | urban                                  | 41                                     | Texas                                  | 77384                                  | The Woodlands                          | Montgomery                             | Conroe Ind School District             | \n",
       "| 0002021bb799f28de224f1acc1ff08c4       | Samantha Smith Elementary School       | suburban                               |  2                                     | Washington                             | 98074                                  | Sammamish                              | King                                   | Lake Washington Sch Dist 414           | \n",
       "| 0004604f675212a8cac1161338265196       | Kingsbury Country Day School           | unknown                                | 76                                     | Michigan                               | 48370                                  | Oxford                                 | Oakland                                | Michigan Dept Of Education             | \n",
       "| 0004c9d50bcf0cea990f844e58b5e2c3       | Redwater Elementary School             | rural                                  | 50                                     | Texas                                  | 75573                                  | Redwater                               | Bowie                                  | Redwater Ind Sch District              | \n",
       "| 0004ffe3558fd70d939ad522b92447c8       | Math & Science Success Academy         | unknown                                | 63                                     | Arizona                                | 85706                                  | Tucson                                 | Pima                                   | Arizona Dept Of Education              | \n",
       "\n",
       "\n"
      ],
      "text/plain": [
       "  School ID                        School Name                           \n",
       "1 00003e0fdd601b8ea0a6eb44057b9c5e Capon Bridge Middle School            \n",
       "2 00004e32a448b4832e1b993500bf0731 The Woodlands College Park High School\n",
       "3 0002021bb799f28de224f1acc1ff08c4 Samantha Smith Elementary School      \n",
       "4 0004604f675212a8cac1161338265196 Kingsbury Country Day School          \n",
       "5 0004c9d50bcf0cea990f844e58b5e2c3 Redwater Elementary School            \n",
       "6 0004ffe3558fd70d939ad522b92447c8 Math & Science Success Academy        \n",
       "  School Metro Type School Percentage Free Lunch School State  School Zip\n",
       "1 rural             56                           West Virginia 26711     \n",
       "2 urban             41                           Texas         77384     \n",
       "3 suburban           2                           Washington    98074     \n",
       "4 unknown           76                           Michigan      48370     \n",
       "5 rural             50                           Texas         75573     \n",
       "6 unknown           63                           Arizona       85706     \n",
       "  School City   School County School District             \n",
       "1 Capon Bridge  Hampshire     Hampshire Co School District\n",
       "2 The Woodlands Montgomery    Conroe Ind School District  \n",
       "3 Sammamish     King          Lake Washington Sch Dist 414\n",
       "4 Oxford        Oakland       Michigan Dept Of Education  \n",
       "5 Redwater      Bowie         Redwater Ind Sch District   \n",
       "6 Tucson        Pima          Arizona Dept Of Education   "
      ]
     },
     "metadata": {},
     "output_type": "display_data"
    }
   ],
   "source": [
    "head(Donors)\n",
    "head(Schools)"
   ]
  },
  {
   "cell_type": "markdown",
   "metadata": {},
   "source": [
    "## Donations\n",
    "\n",
    "Perhaps the most important information is the 'Donations' information. After all, this is how the money is made! Let's take a look."
   ]
  },
  {
   "cell_type": "code",
   "execution_count": 9,
   "metadata": {},
   "outputs": [
    {
     "data": {
      "text/html": [
       "<table>\n",
       "<thead><tr><th scope=col>Project ID</th><th scope=col>Donation ID</th><th scope=col>Donor ID</th><th scope=col>Donation Included Optional Donation</th><th scope=col>Donation Amount</th><th scope=col>Donor Cart Sequence</th><th scope=col>Donation Received Date</th></tr></thead>\n",
       "<tbody>\n",
       "\t<tr><td>000009891526c0ade7180f8423792063</td><td>688729120858666221208529ee3fc18e</td><td>1f4b5b6e68445c6c4a0509b3aca93f38</td><td>No                              </td><td>178.37                          </td><td>11                              </td><td>2016-08-23 13:15:57             </td></tr>\n",
       "\t<tr><td>000009891526c0ade7180f8423792063</td><td>dcf1071da3aa3561f91ac689d1f73dee</td><td>4aaab6d244bf3599682239ed5591af8a</td><td>Yes                             </td><td> 25.00                          </td><td> 2                              </td><td>2016-06-06 20:05:23             </td></tr>\n",
       "\t<tr><td>000009891526c0ade7180f8423792063</td><td>18a234b9d1e538c431761d521ea7799d</td><td>0b0765dc9c759adc48a07688ba25e94e</td><td>Yes                             </td><td> 20.00                          </td><td> 3                              </td><td>2016-06-06 14:08:46             </td></tr>\n",
       "\t<tr><td>000009891526c0ade7180f8423792063</td><td>38d2744bf9138b0b57ed581c76c0e2da</td><td>377944ad61f72d800b25ec1862aec363</td><td>Yes                             </td><td> 25.00                          </td><td> 1                              </td><td>2016-05-15 10:23:04             </td></tr>\n",
       "\t<tr><td>000009891526c0ade7180f8423792063</td><td>5a032791e31167a70206bfb86fb60035</td><td>6d5b22d39e68c656071a842732c63a0c</td><td>Yes                             </td><td> 25.00                          </td><td> 2                              </td><td>2016-05-17 01:23:38             </td></tr>\n",
       "\t<tr><td>000009891526c0ade7180f8423792063</td><td>8cea27f0cc03f41f66aab96b284ae6a1</td><td>896c75c9b8d9a91c759746e566cd3f37</td><td>Yes                             </td><td> 15.00                          </td><td> 1                              </td><td>2016-06-04 17:58:55             </td></tr>\n",
       "</tbody>\n",
       "</table>\n"
      ],
      "text/latex": [
       "\\begin{tabular}{r|lllllll}\n",
       " Project ID & Donation ID & Donor ID & Donation Included Optional Donation & Donation Amount & Donor Cart Sequence & Donation Received Date\\\\\n",
       "\\hline\n",
       "\t 000009891526c0ade7180f8423792063 & 688729120858666221208529ee3fc18e & 1f4b5b6e68445c6c4a0509b3aca93f38 & No                               & 178.37                           & 11                               & 2016-08-23 13:15:57             \\\\\n",
       "\t 000009891526c0ade7180f8423792063 & dcf1071da3aa3561f91ac689d1f73dee & 4aaab6d244bf3599682239ed5591af8a & Yes                              &  25.00                           &  2                               & 2016-06-06 20:05:23             \\\\\n",
       "\t 000009891526c0ade7180f8423792063 & 18a234b9d1e538c431761d521ea7799d & 0b0765dc9c759adc48a07688ba25e94e & Yes                              &  20.00                           &  3                               & 2016-06-06 14:08:46             \\\\\n",
       "\t 000009891526c0ade7180f8423792063 & 38d2744bf9138b0b57ed581c76c0e2da & 377944ad61f72d800b25ec1862aec363 & Yes                              &  25.00                           &  1                               & 2016-05-15 10:23:04             \\\\\n",
       "\t 000009891526c0ade7180f8423792063 & 5a032791e31167a70206bfb86fb60035 & 6d5b22d39e68c656071a842732c63a0c & Yes                              &  25.00                           &  2                               & 2016-05-17 01:23:38             \\\\\n",
       "\t 000009891526c0ade7180f8423792063 & 8cea27f0cc03f41f66aab96b284ae6a1 & 896c75c9b8d9a91c759746e566cd3f37 & Yes                              &  15.00                           &  1                               & 2016-06-04 17:58:55             \\\\\n",
       "\\end{tabular}\n"
      ],
      "text/markdown": [
       "\n",
       "Project ID | Donation ID | Donor ID | Donation Included Optional Donation | Donation Amount | Donor Cart Sequence | Donation Received Date | \n",
       "|---|---|---|---|---|---|\n",
       "| 000009891526c0ade7180f8423792063 | 688729120858666221208529ee3fc18e | 1f4b5b6e68445c6c4a0509b3aca93f38 | No                               | 178.37                           | 11                               | 2016-08-23 13:15:57              | \n",
       "| 000009891526c0ade7180f8423792063 | dcf1071da3aa3561f91ac689d1f73dee | 4aaab6d244bf3599682239ed5591af8a | Yes                              |  25.00                           |  2                               | 2016-06-06 20:05:23              | \n",
       "| 000009891526c0ade7180f8423792063 | 18a234b9d1e538c431761d521ea7799d | 0b0765dc9c759adc48a07688ba25e94e | Yes                              |  20.00                           |  3                               | 2016-06-06 14:08:46              | \n",
       "| 000009891526c0ade7180f8423792063 | 38d2744bf9138b0b57ed581c76c0e2da | 377944ad61f72d800b25ec1862aec363 | Yes                              |  25.00                           |  1                               | 2016-05-15 10:23:04              | \n",
       "| 000009891526c0ade7180f8423792063 | 5a032791e31167a70206bfb86fb60035 | 6d5b22d39e68c656071a842732c63a0c | Yes                              |  25.00                           |  2                               | 2016-05-17 01:23:38              | \n",
       "| 000009891526c0ade7180f8423792063 | 8cea27f0cc03f41f66aab96b284ae6a1 | 896c75c9b8d9a91c759746e566cd3f37 | Yes                              |  15.00                           |  1                               | 2016-06-04 17:58:55              | \n",
       "\n",
       "\n"
      ],
      "text/plain": [
       "  Project ID                       Donation ID                     \n",
       "1 000009891526c0ade7180f8423792063 688729120858666221208529ee3fc18e\n",
       "2 000009891526c0ade7180f8423792063 dcf1071da3aa3561f91ac689d1f73dee\n",
       "3 000009891526c0ade7180f8423792063 18a234b9d1e538c431761d521ea7799d\n",
       "4 000009891526c0ade7180f8423792063 38d2744bf9138b0b57ed581c76c0e2da\n",
       "5 000009891526c0ade7180f8423792063 5a032791e31167a70206bfb86fb60035\n",
       "6 000009891526c0ade7180f8423792063 8cea27f0cc03f41f66aab96b284ae6a1\n",
       "  Donor ID                         Donation Included Optional Donation\n",
       "1 1f4b5b6e68445c6c4a0509b3aca93f38 No                                 \n",
       "2 4aaab6d244bf3599682239ed5591af8a Yes                                \n",
       "3 0b0765dc9c759adc48a07688ba25e94e Yes                                \n",
       "4 377944ad61f72d800b25ec1862aec363 Yes                                \n",
       "5 6d5b22d39e68c656071a842732c63a0c Yes                                \n",
       "6 896c75c9b8d9a91c759746e566cd3f37 Yes                                \n",
       "  Donation Amount Donor Cart Sequence Donation Received Date\n",
       "1 178.37          11                  2016-08-23 13:15:57   \n",
       "2  25.00           2                  2016-06-06 20:05:23   \n",
       "3  20.00           3                  2016-06-06 14:08:46   \n",
       "4  25.00           1                  2016-05-15 10:23:04   \n",
       "5  25.00           2                  2016-05-17 01:23:38   \n",
       "6  15.00           1                  2016-06-04 17:58:55   "
      ]
     },
     "metadata": {},
     "output_type": "display_data"
    }
   ],
   "source": [
    "head(Donations)"
   ]
  },
  {
   "cell_type": "code",
   "execution_count": 10,
   "metadata": {
    "scrolled": true
   },
   "outputs": [],
   "source": [
    "# By_Cart_Sequence = Donations[,.(.N,`Optional Donation` = sum(`Donation Included Optional Donation`=='Yes')),keyby = `Donor Cart Sequence`]\n",
    "\n",
    "# ggplot(By_Cart_Sequence[1:15], aes(x=`Donor Cart Sequence`, y =N))+\n",
    "#     geom_bar(stat = 'identity', aes(fill = `Donation Included Optional Donation`))\n"
   ]
  },
  {
   "cell_type": "code",
   "execution_count": 11,
   "metadata": {},
   "outputs": [
    {
     "data": {},
     "metadata": {},
     "output_type": "display_data"
    },
    {
     "data": {},
     "metadata": {},
     "output_type": "display_data"
    },
    {
     "data": {},
     "metadata": {},
     "output_type": "display_data"
    }
   ],
   "source": [
    "# Visualizing Donations over time\n",
    "Donations[, `Donation Received Date` := anytime::anydate(`Donation Received Date`)]\n",
    "Donations[, Year := format(`Donation Received Date`, '%Y')]\n",
    "Donation_by_day <- Donations[,.(Total_Donations = sum(`Donation Amount`)), by = `Donation Received Date`]\n",
    "Donation_by_day[, Year := format(`Donation Received Date`, '%Y')]"
   ]
  },
  {
   "cell_type": "code",
   "execution_count": 12,
   "metadata": {},
   "outputs": [
    {
     "data": {
      "text/html": [
       "<table>\n",
       "<thead><tr><th scope=col>Year</th><th scope=col>Donation Amount</th></tr></thead>\n",
       "<tbody>\n",
       "\t<tr><td>2016       </td><td>62652231.24</td></tr>\n",
       "\t<tr><td>2013       </td><td>30428220.80</td></tr>\n",
       "\t<tr><td>2017       </td><td>72872130.78</td></tr>\n",
       "\t<tr><td>2018       </td><td>26481196.48</td></tr>\n",
       "\t<tr><td>2014       </td><td>41461266.85</td></tr>\n",
       "\t<tr><td>2015       </td><td>50488354.49</td></tr>\n",
       "\t<tr><td>2012       </td><td>   24842.64</td></tr>\n",
       "</tbody>\n",
       "</table>\n"
      ],
      "text/latex": [
       "\\begin{tabular}{r|ll}\n",
       " Year & Donation Amount\\\\\n",
       "\\hline\n",
       "\t 2016        & 62652231.24\\\\\n",
       "\t 2013        & 30428220.80\\\\\n",
       "\t 2017        & 72872130.78\\\\\n",
       "\t 2018        & 26481196.48\\\\\n",
       "\t 2014        & 41461266.85\\\\\n",
       "\t 2015        & 50488354.49\\\\\n",
       "\t 2012        &    24842.64\\\\\n",
       "\\end{tabular}\n"
      ],
      "text/markdown": [
       "\n",
       "Year | Donation Amount | \n",
       "|---|---|---|---|---|---|---|\n",
       "| 2016        | 62652231.24 | \n",
       "| 2013        | 30428220.80 | \n",
       "| 2017        | 72872130.78 | \n",
       "| 2018        | 26481196.48 | \n",
       "| 2014        | 41461266.85 | \n",
       "| 2015        | 50488354.49 | \n",
       "| 2012        |    24842.64 | \n",
       "\n",
       "\n"
      ],
      "text/plain": [
       "  Year Donation Amount\n",
       "1 2016 62652231.24    \n",
       "2 2013 30428220.80    \n",
       "3 2017 72872130.78    \n",
       "4 2018 26481196.48    \n",
       "5 2014 41461266.85    \n",
       "6 2015 50488354.49    \n",
       "7 2012    24842.64    "
      ]
     },
     "metadata": {},
     "output_type": "display_data"
    }
   ],
   "source": [
    "Donations[,.(`Donation Amount` = sum( `Donation Amount`)), by =Year]"
   ]
  },
  {
   "cell_type": "code",
   "execution_count": 13,
   "metadata": {},
   "outputs": [
    {
     "data": {},
     "metadata": {},
     "output_type": "display_data"
    },
    {
     "data": {
      "image/png": "[encoded data removed]",
      "text/plain": [
       "plot without title"
      ]
     },
     "metadata": {},
     "output_type": "display_data"
    }
   ],
   "source": [
    "ggplot(Donations[Year!=2018 & Year!=2012,.(`Donation Amount` = sum( `Donation Amount`)), by =Year], aes(Year, `Donation Amount`)) +\n",
    "    geom_line(aes(group = 1), color = 'green') +\n",
    "    scale_y_continuous(labels=dollar_format())"
   ]
  },
  {
   "cell_type": "code",
   "execution_count": 14,
   "metadata": {},
   "outputs": [
    {
     "name": "stdout",
     "output_type": "stream",
     "text": [
      "[1] \"Ratio of unique projects per donation: 0.1924\"\n",
      "[1] \"Ratio of unique donors per donation: 0.4319\"\n"
     ]
    }
   ],
   "source": [
    "print(paste0('Ratio of unique projects per donation: ' ,round(length(unique(Donations$`Project ID`)) / nrow(Donations),4)))\n",
    "# length(unique(Donations$`Donation ID`)) / nrow(Donations)\n",
    "print(paste0('Ratio of unique donors per donation: ', round(length(unique(Donations$`Donor ID`)) / nrow(Donations),4)))"
   ]
  },
  {
   "cell_type": "code",
   "execution_count": null,
   "metadata": {},
   "outputs": [],
   "source": []
  },
  {
   "cell_type": "code",
   "execution_count": 15,
   "metadata": {},
   "outputs": [
    {
     "data": {},
     "metadata": {},
     "output_type": "display_data"
    },
    {
     "data": {
      "image/png": "[encoded data removed]",
      "text/plain": [
       "plot without title"
      ]
     },
     "metadata": {},
     "output_type": "display_data"
    }
   ],
   "source": [
    "ggplot(Donation_by_day, aes(`Donation Received Date`, Total_Donations)) +\n",
    "  geom_line(size = 1, aes(color = Year)) +\n",
    "  theme(legend.position=\"none\")"
   ]
  },
  {
   "cell_type": "code",
   "execution_count": 16,
   "metadata": {},
   "outputs": [
    {
     "data": {},
     "metadata": {},
     "output_type": "display_data"
    },
    {
     "data": {
      "image/png": "[encoded data removed]",
      "text/plain": [
       "plot without title"
      ]
     },
     "metadata": {},
     "output_type": "display_data"
    }
   ],
   "source": [
    "ggplot(Donation_by_day[`Year` >= 2015], aes(`Donation Received Date`, Total_Donations)) +\n",
    "  geom_line(size = 1, aes(color = Year)) +\n",
    "  theme(legend.position=\"none\")"
   ]
  },
  {
   "cell_type": "code",
   "execution_count": 17,
   "metadata": {},
   "outputs": [
    {
     "data": {},
     "metadata": {},
     "output_type": "display_data"
    },
    {
     "data": {
      "image/png": "[encoded data removed]",
      "text/plain": [
       "plot without title"
      ]
     },
     "metadata": {},
     "output_type": "display_data"
    }
   ],
   "source": [
    "# nrow(Donations[`Donation Amount` < 600]) / nrow(Donations)\n",
    "\n",
    "ggplot(Donations[`Donation Amount` < 600], aes(`Donation Amount`)) +\n",
    "  geom_histogram(binwidth = 25, fill = 'skyblue', color = 'black') +\n",
    "  scale_x_continuous(breaks = seq(0, 600, by = 25)) +\n",
    "  labs(title = '(covers over 99% of the data)')"
   ]
  },
  {
   "cell_type": "markdown",
   "metadata": {},
   "source": [
    "Now that we have an idea of the distribution of donations over time and amount, let's take a look the repeat donations"
   ]
  },
  {
   "cell_type": "code",
   "execution_count": 18,
   "metadata": {},
   "outputs": [],
   "source": [
    "Repeated_Donors <- Donations[,.(`Times Donated`=.N, `Dollar Amount` = sum(`Donation Amount`)),by=`Donor ID`]"
   ]
  },
  {
   "cell_type": "code",
   "execution_count": 19,
   "metadata": {},
   "outputs": [
    {
     "data": {
      "text/html": [
       "<table>\n",
       "<thead><tr><th scope=col>Donor ID</th><th scope=col>Times Donated</th><th scope=col>Dollar Amount</th></tr></thead>\n",
       "<tbody>\n",
       "\t<tr><td>a0e1d358aa17745ff3d3f4e4909356f3</td><td>10515                           </td><td>1879625.0                       </td></tr>\n",
       "\t<tr><td>2144d56b1947ebb26a19e7f1d07c970a</td><td> 2152                           </td><td>1243529.7                       </td></tr>\n",
       "\t<tr><td>96c4f21513cd8962acb147ab384e6434</td><td> 2148                           </td><td>1130565.6                       </td></tr>\n",
       "\t<tr><td>3ba8a29e3dd72043f9738c0895733834</td><td> 1553                           </td><td> 977614.5                       </td></tr>\n",
       "\t<tr><td>f9dd79ea006fee7bb4a5cc8473d8656c</td><td> 1891                           </td><td> 897408.3                       </td></tr>\n",
       "\t<tr><td>d006be7223c048ae8b2bdedd7dd2b4db</td><td> 3330                           </td><td> 766000.7                       </td></tr>\n",
       "\t<tr><td>bd58ba0b74427b6686b3d721f0cbcb6e</td><td> 1126                           </td><td> 695461.9                       </td></tr>\n",
       "\t<tr><td>5f521d214a6297fe87b60f921bba51ab</td><td>  669                           </td><td> 569512.5                       </td></tr>\n",
       "\t<tr><td>f4e59466422bf084792071a849284771</td><td> 1580                           </td><td> 463820.9                       </td></tr>\n",
       "\t<tr><td>7f90cc03b021484df72d3fa18e42a151</td><td>  327                           </td><td> 336489.3                       </td></tr>\n",
       "</tbody>\n",
       "</table>\n"
      ],
      "text/latex": [
       "\\begin{tabular}{r|lll}\n",
       " Donor ID & Times Donated & Dollar Amount\\\\\n",
       "\\hline\n",
       "\t a0e1d358aa17745ff3d3f4e4909356f3 & 10515                            & 1879625.0                       \\\\\n",
       "\t 2144d56b1947ebb26a19e7f1d07c970a &  2152                            & 1243529.7                       \\\\\n",
       "\t 96c4f21513cd8962acb147ab384e6434 &  2148                            & 1130565.6                       \\\\\n",
       "\t 3ba8a29e3dd72043f9738c0895733834 &  1553                            &  977614.5                       \\\\\n",
       "\t f9dd79ea006fee7bb4a5cc8473d8656c &  1891                            &  897408.3                       \\\\\n",
       "\t d006be7223c048ae8b2bdedd7dd2b4db &  3330                            &  766000.7                       \\\\\n",
       "\t bd58ba0b74427b6686b3d721f0cbcb6e &  1126                            &  695461.9                       \\\\\n",
       "\t 5f521d214a6297fe87b60f921bba51ab &   669                            &  569512.5                       \\\\\n",
       "\t f4e59466422bf084792071a849284771 &  1580                            &  463820.9                       \\\\\n",
       "\t 7f90cc03b021484df72d3fa18e42a151 &   327                            &  336489.3                       \\\\\n",
       "\\end{tabular}\n"
      ],
      "text/markdown": [
       "\n",
       "Donor ID | Times Donated | Dollar Amount | \n",
       "|---|---|---|---|---|---|---|---|---|---|\n",
       "| a0e1d358aa17745ff3d3f4e4909356f3 | 10515                            | 1879625.0                        | \n",
       "| 2144d56b1947ebb26a19e7f1d07c970a |  2152                            | 1243529.7                        | \n",
       "| 96c4f21513cd8962acb147ab384e6434 |  2148                            | 1130565.6                        | \n",
       "| 3ba8a29e3dd72043f9738c0895733834 |  1553                            |  977614.5                        | \n",
       "| f9dd79ea006fee7bb4a5cc8473d8656c |  1891                            |  897408.3                        | \n",
       "| d006be7223c048ae8b2bdedd7dd2b4db |  3330                            |  766000.7                        | \n",
       "| bd58ba0b74427b6686b3d721f0cbcb6e |  1126                            |  695461.9                        | \n",
       "| 5f521d214a6297fe87b60f921bba51ab |   669                            |  569512.5                        | \n",
       "| f4e59466422bf084792071a849284771 |  1580                            |  463820.9                        | \n",
       "| 7f90cc03b021484df72d3fa18e42a151 |   327                            |  336489.3                        | \n",
       "\n",
       "\n"
      ],
      "text/plain": [
       "   Donor ID                         Times Donated Dollar Amount\n",
       "1  a0e1d358aa17745ff3d3f4e4909356f3 10515         1879625.0    \n",
       "2  2144d56b1947ebb26a19e7f1d07c970a  2152         1243529.7    \n",
       "3  96c4f21513cd8962acb147ab384e6434  2148         1130565.6    \n",
       "4  3ba8a29e3dd72043f9738c0895733834  1553          977614.5    \n",
       "5  f9dd79ea006fee7bb4a5cc8473d8656c  1891          897408.3    \n",
       "6  d006be7223c048ae8b2bdedd7dd2b4db  3330          766000.7    \n",
       "7  bd58ba0b74427b6686b3d721f0cbcb6e  1126          695461.9    \n",
       "8  5f521d214a6297fe87b60f921bba51ab   669          569512.5    \n",
       "9  f4e59466422bf084792071a849284771  1580          463820.9    \n",
       "10 7f90cc03b021484df72d3fa18e42a151   327          336489.3    "
      ]
     },
     "metadata": {},
     "output_type": "display_data"
    }
   ],
   "source": [
    "head(Repeated_Donors[order(-`Dollar Amount`)], 10)"
   ]
  },
  {
   "cell_type": "code",
   "execution_count": 20,
   "metadata": {},
   "outputs": [
    {
     "data": {},
     "metadata": {},
     "output_type": "display_data"
    }
   ],
   "source": [
    "Repeated_Donors  <- Repeated_Donors[,.(`Number of People` = .N, `Dollar Worth` = sum(`Dollar Amount`)),  by = `Times Donated`]\n",
    "Repeated_Donors[,`Dollar Per Individual` := `Dollar Worth`/`Number of People`]"
   ]
  },
  {
   "cell_type": "code",
   "execution_count": 21,
   "metadata": {
    "scrolled": true
   },
   "outputs": [
    {
     "data": {
      "text/html": [
       "<table>\n",
       "<thead><tr><th scope=col>Times Donated</th><th scope=col>Number of People</th><th scope=col>Dollar Worth</th><th scope=col>Dollar Per Individual</th></tr></thead>\n",
       "<tbody>\n",
       "\t<tr><td>1        </td><td>1471613  </td><td>78595864 </td><td> 53.40797</td></tr>\n",
       "\t<tr><td>2        </td><td> 274902  </td><td>33947995 </td><td>123.49126</td></tr>\n",
       "\t<tr><td>3        </td><td>  99063  </td><td>19574818 </td><td>197.59969</td></tr>\n",
       "\t<tr><td>4        </td><td>  49911  </td><td>13510249 </td><td>270.68681</td></tr>\n",
       "\t<tr><td>5        </td><td>  30578  </td><td>10300913 </td><td>336.87333</td></tr>\n",
       "\t<tr><td>6        </td><td>  19665  </td><td> 8077697 </td><td>410.76518</td></tr>\n",
       "</tbody>\n",
       "</table>\n"
      ],
      "text/latex": [
       "\\begin{tabular}{r|llll}\n",
       " Times Donated & Number of People & Dollar Worth & Dollar Per Individual\\\\\n",
       "\\hline\n",
       "\t 1         & 1471613   & 78595864  &  53.40797\\\\\n",
       "\t 2         &  274902   & 33947995  & 123.49126\\\\\n",
       "\t 3         &   99063   & 19574818  & 197.59969\\\\\n",
       "\t 4         &   49911   & 13510249  & 270.68681\\\\\n",
       "\t 5         &   30578   & 10300913  & 336.87333\\\\\n",
       "\t 6         &   19665   &  8077697  & 410.76518\\\\\n",
       "\\end{tabular}\n"
      ],
      "text/markdown": [
       "\n",
       "Times Donated | Number of People | Dollar Worth | Dollar Per Individual | \n",
       "|---|---|---|---|---|---|\n",
       "| 1         | 1471613   | 78595864  |  53.40797 | \n",
       "| 2         |  274902   | 33947995  | 123.49126 | \n",
       "| 3         |   99063   | 19574818  | 197.59969 | \n",
       "| 4         |   49911   | 13510249  | 270.68681 | \n",
       "| 5         |   30578   | 10300913  | 336.87333 | \n",
       "| 6         |   19665   |  8077697  | 410.76518 | \n",
       "\n",
       "\n"
      ],
      "text/plain": [
       "  Times Donated Number of People Dollar Worth Dollar Per Individual\n",
       "1 1             1471613          78595864      53.40797            \n",
       "2 2              274902          33947995     123.49126            \n",
       "3 3               99063          19574818     197.59969            \n",
       "4 4               49911          13510249     270.68681            \n",
       "5 5               30578          10300913     336.87333            \n",
       "6 6               19665           8077697     410.76518            "
      ]
     },
     "metadata": {},
     "output_type": "display_data"
    }
   ],
   "source": [
    "head(Repeated_Donors[order(`Times Donated`)])"
   ]
  },
  {
   "cell_type": "code",
   "execution_count": 22,
   "metadata": {},
   "outputs": [
    {
     "data": {
      "text/html": [
       "103135480.64677"
      ],
      "text/latex": [
       "103135480.64677"
      ],
      "text/markdown": [
       "103135480.64677"
      ],
      "text/plain": [
       "[1] 103135481"
      ]
     },
     "metadata": {},
     "output_type": "display_data"
    },
    {
     "data": {
      "text/html": [
       "15719172.591122"
      ],
      "text/latex": [
       "15719172.591122"
      ],
      "text/markdown": [
       "15719172.591122"
      ],
      "text/plain": [
       "[1] 15719173"
      ]
     },
     "metadata": {},
     "output_type": "display_data"
    }
   ],
   "source": [
    "(123.49126- 53.40797) * 1471613\n",
    ".2*53.40797*1471613"
   ]
  },
  {
   "cell_type": "markdown",
   "metadata": {},
   "source": [
    "By using 'Dollar Per Individual' averages as an extremely rough benchmark, moving the 'Times Donated = 1' group into the 'Times Donated = 2' would net an additional 103 million dollars. Of course, this is not a scientific estimate given the unknown variations between those in the 'Times Donated = 1' group and the 'Times Donated = 2' group, but it goes to show how important re-engagement is.\n",
    "\n",
    "If we get at least 20% of those who donated only once to make another donation with the same average donation, then we can get another 15 million dollars in revenue. "
   ]
  },
  {
   "cell_type": "code",
   "execution_count": 23,
   "metadata": {},
   "outputs": [
    {
     "name": "stdout",
     "output_type": "stream",
     "text": [
      "[1] \"The ratio of those who only donated once: 0.726882562776789\"\n",
      "[1] \"The dollar ratio of those who only donated once: 0.276348754183691\"\n",
      "[1] \"This means those who donated more than once (approx 28%) are responsible for around 73% of total revenue\"\n"
     ]
    }
   ],
   "source": [
    "print(paste0('The ratio of those who only donated once: ',Repeated_Donors[`Times Donated` == 1,`Number of People`]/Repeated_Donors[,sum(`Number of People`)]))\n",
    "print(paste0('The dollar ratio of those who only donated once: ',Repeated_Donors[`Times Donated` == 1,`Dollar Worth`]/Repeated_Donors[,sum(`Dollar Worth`)]))\n",
    "print('This means those who donated more than once (approx 28%) are responsible for around 73% of total revenue')"
   ]
  },
  {
   "cell_type": "code",
   "execution_count": 24,
   "metadata": {},
   "outputs": [
    {
     "data": {},
     "metadata": {},
     "output_type": "display_data"
    },
    {
     "data": {
      "image/png": "[encoded data removed]",
      "text/plain": [
       "plot without title"
      ]
     },
     "metadata": {},
     "output_type": "display_data"
    }
   ],
   "source": [
    "ggplot(Repeated_Donors[`Times Donated` <= 5], aes(x=`Times Donated`, y = `Dollar Worth`)) +\n",
    "    geom_bar(stat = 'identity', aes(fill = `Dollar Per Individual`)) +\n",
    "    scale_y_continuous(labels=dollar_format(prefix=\"$\")) +\n",
    "    scale_x_continuous(breaks = seq(0, 5, by = 1)) +\n",
    "    labs(title = 'Dollar Worth of by the Number of Times Donated')"
   ]
  },
  {
   "cell_type": "code",
   "execution_count": 25,
   "metadata": {},
   "outputs": [
    {
     "data": {},
     "metadata": {},
     "output_type": "display_data"
    },
    {
     "data": {},
     "metadata": {},
     "output_type": "display_data"
    },
    {
     "data": {
      "image/png": "[encoded data removed]",
      "text/plain": [
       "plot without title"
      ]
     },
     "metadata": {},
     "output_type": "display_data"
    }
   ],
   "source": [
    "Repeated_Donors[,Is_One := ifelse(`Times Donated`== 1,'Donated Once','Donated More Than Once')]\n",
    "\n",
    "ggplot(Repeated_Donors, aes(x=`Is_One`, y = `Dollar Worth`)) +\n",
    "    geom_bar(stat = 'identity', color = 'darkblue') +\n",
    "    scale_y_continuous(labels=dollar_format(prefix=\"$\")) +\n",
    "    labs(title = 'Dollar Worth of by the Number of Times Donated')"
   ]
  },
  {
   "cell_type": "markdown",
   "metadata": {},
   "source": [
    "## Teachers\n",
    "This dataframe does not contain a large amount of infomormation, but gender and first posted date may come in handy later."
   ]
  },
  {
   "cell_type": "code",
   "execution_count": 26,
   "metadata": {},
   "outputs": [
    {
     "data": {
      "text/html": [
       "<table>\n",
       "<thead><tr><th scope=col>Teacher ID</th><th scope=col>Teacher Prefix</th><th scope=col>Teacher First Project Posted Date</th></tr></thead>\n",
       "<tbody>\n",
       "\t<tr><td>00000f7264c27ba6fea0c837ed6aa0aa</td><td>Mrs.                            </td><td>2013-08-21                      </td></tr>\n",
       "\t<tr><td>00002d44003ed46b066607c5455a999a</td><td>Mrs.                            </td><td>2016-10-23                      </td></tr>\n",
       "\t<tr><td>00006084c3d92d904a22e0a70f5c119a</td><td>Mr.                             </td><td>2016-09-08                      </td></tr>\n",
       "\t<tr><td>0000a9af8b6b9cc9e41f53322a8b8cf1</td><td>Ms.                             </td><td>2015-10-25                      </td></tr>\n",
       "\t<tr><td>0000d4777d14b33a1406dd6c9019fe89</td><td>Ms.                             </td><td>2017-02-10                      </td></tr>\n",
       "\t<tr><td>0000fc11407901bcacdfad1db909b9f6</td><td>Mrs.                            </td><td>2015-06-22                      </td></tr>\n",
       "</tbody>\n",
       "</table>\n"
      ],
      "text/latex": [
       "\\begin{tabular}{r|lll}\n",
       " Teacher ID & Teacher Prefix & Teacher First Project Posted Date\\\\\n",
       "\\hline\n",
       "\t 00000f7264c27ba6fea0c837ed6aa0aa & Mrs.                             & 2013-08-21                      \\\\\n",
       "\t 00002d44003ed46b066607c5455a999a & Mrs.                             & 2016-10-23                      \\\\\n",
       "\t 00006084c3d92d904a22e0a70f5c119a & Mr.                              & 2016-09-08                      \\\\\n",
       "\t 0000a9af8b6b9cc9e41f53322a8b8cf1 & Ms.                              & 2015-10-25                      \\\\\n",
       "\t 0000d4777d14b33a1406dd6c9019fe89 & Ms.                              & 2017-02-10                      \\\\\n",
       "\t 0000fc11407901bcacdfad1db909b9f6 & Mrs.                             & 2015-06-22                      \\\\\n",
       "\\end{tabular}\n"
      ],
      "text/markdown": [
       "\n",
       "Teacher ID | Teacher Prefix | Teacher First Project Posted Date | \n",
       "|---|---|---|---|---|---|\n",
       "| 00000f7264c27ba6fea0c837ed6aa0aa | Mrs.                             | 2013-08-21                       | \n",
       "| 00002d44003ed46b066607c5455a999a | Mrs.                             | 2016-10-23                       | \n",
       "| 00006084c3d92d904a22e0a70f5c119a | Mr.                              | 2016-09-08                       | \n",
       "| 0000a9af8b6b9cc9e41f53322a8b8cf1 | Ms.                              | 2015-10-25                       | \n",
       "| 0000d4777d14b33a1406dd6c9019fe89 | Ms.                              | 2017-02-10                       | \n",
       "| 0000fc11407901bcacdfad1db909b9f6 | Mrs.                             | 2015-06-22                       | \n",
       "\n",
       "\n"
      ],
      "text/plain": [
       "  Teacher ID                       Teacher Prefix\n",
       "1 00000f7264c27ba6fea0c837ed6aa0aa Mrs.          \n",
       "2 00002d44003ed46b066607c5455a999a Mrs.          \n",
       "3 00006084c3d92d904a22e0a70f5c119a Mr.           \n",
       "4 0000a9af8b6b9cc9e41f53322a8b8cf1 Ms.           \n",
       "5 0000d4777d14b33a1406dd6c9019fe89 Ms.           \n",
       "6 0000fc11407901bcacdfad1db909b9f6 Mrs.          \n",
       "  Teacher First Project Posted Date\n",
       "1 2013-08-21                       \n",
       "2 2016-10-23                       \n",
       "3 2016-09-08                       \n",
       "4 2015-10-25                       \n",
       "5 2017-02-10                       \n",
       "6 2015-06-22                       "
      ]
     },
     "metadata": {},
     "output_type": "display_data"
    }
   ],
   "source": [
    "head(Teachers)"
   ]
  },
  {
   "cell_type": "code",
   "execution_count": 27,
   "metadata": {},
   "outputs": [
    {
     "name": "stderr",
     "output_type": "stream",
     "text": [
      "Warning message:\n",
      "\"Ignoring unknown parameters: binwidth, bins, pad\""
     ]
    },
    {
     "data": {},
     "metadata": {},
     "output_type": "display_data"
    },
    {
     "data": {
      "image/png": "[encoded data removed]",
      "text/plain": [
       "plot without title"
      ]
     },
     "metadata": {},
     "output_type": "display_data"
    }
   ],
   "source": [
    "ggplot(Teachers,aes(`Teacher Prefix`))+\n",
    "    geom_histogram(stat='count')"
   ]
  },
  {
   "cell_type": "code",
   "execution_count": 28,
   "metadata": {},
   "outputs": [],
   "source": [
    "Males = Teachers[,sum(`Teacher Prefix`=='Mr.')]\n",
    "Females = Teachers[,sum(`Teacher Prefix`=='Mrs.')]"
   ]
  },
  {
   "cell_type": "markdown",
   "metadata": {},
   "source": [
    "If we consider all Mrs./Ms. to be female and all Mr. to be male, we can find out the gender distribution."
   ]
  },
  {
   "cell_type": "code",
   "execution_count": 29,
   "metadata": {},
   "outputs": [
    {
     "data": {
      "text/html": [
       "47480"
      ],
      "text/latex": [
       "47480"
      ],
      "text/markdown": [
       "47480"
      ],
      "text/plain": [
       "[1] 47480"
      ]
     },
     "metadata": {},
     "output_type": "display_data"
    },
    {
     "data": {
      "text/html": [
       "202142"
      ],
      "text/latex": [
       "202142"
      ],
      "text/markdown": [
       "202142"
      ],
      "text/plain": [
       "[1] 202142"
      ]
     },
     "metadata": {},
     "output_type": "display_data"
    },
    {
     "data": {
      "text/html": [
       "4.25741364785173"
      ],
      "text/latex": [
       "4.25741364785173"
      ],
      "text/markdown": [
       "4.25741364785173"
      ],
      "text/plain": [
       "[1] 4.257414"
      ]
     },
     "metadata": {},
     "output_type": "display_data"
    }
   ],
   "source": [
    "Males\n",
    "Females\n",
    "Females/Males"
   ]
  },
  {
   "cell_type": "markdown",
   "metadata": {},
   "source": [
    "By looking at the numbers above, we can see that for every male teacher, there is about four female teachers."
   ]
  },
  {
   "cell_type": "markdown",
   "metadata": {},
   "source": [
    "## Projects\n",
    "\n",
    "This dataset is interesting, we can learn the differences inbetween projects that succeeded and projects that failed quite easily. Not only this, but linking this back to school or teacher may bring out interesting differences inbtween projects that pass or fail."
   ]
  },
  {
   "cell_type": "code",
   "execution_count": 30,
   "metadata": {},
   "outputs": [
    {
     "data": {
      "text/html": [
       "<table>\n",
       "<thead><tr><th scope=col>Project ID</th><th scope=col>School ID</th><th scope=col>Teacher ID</th><th scope=col>Teacher Project Posted Sequence</th><th scope=col>Project Type</th><th scope=col>Project Title</th><th scope=col>Project Subject Category Tree</th><th scope=col>Project Subject Subcategory Tree</th><th scope=col>Project Grade Level Category</th><th scope=col>Project Resource Category</th><th scope=col>Project Cost</th><th scope=col>Project Posted Date</th><th scope=col>Project Current Status</th><th scope=col>Project Fully Funded Date</th></tr></thead>\n",
       "<tbody>\n",
       "\t<tr><td>77b7d3f2ac4e32d538914e4a8cb8a525                                                        </td><td>c2d5cb0a29a62e72cdccee939f434181                                                        </td><td>59f7d2c62f7e76a99d31db6f62b7b67c                                                        </td><td>2                                                                                       </td><td>Teacher-Led                                                                             </td><td><span style=white-space:pre-wrap>Anti-Bullying Begins with Me                    </span></td><td>Applied Learning, Literacy &amp; Language                                               </td><td>Character Education, Literacy                                                           </td><td>Grades PreK-2                                                                           </td><td><span style=white-space:pre-wrap>Books   </span>                                        </td><td>$490.38                                                                                 </td><td>2013-01-01                                                                              </td><td>Fully Funded                                                                            </td><td>2013-03-12                                                                              </td></tr>\n",
       "\t<tr><td>fd928b7f6386366a9cad2bea40df4b25                                                        </td><td>8acbb544c9215b25c71a0c655200baea                                                        </td><td>8fbd92394e20d647ddcdc6085ce1604b                                                        </td><td>1                                                                                       </td><td>Teacher-Led                                                                             </td><td><span style=white-space:pre-wrap>Ukuleles For Middle Schoolers                   </span></td><td><span style=white-space:pre-wrap>Music &amp; The Arts                     </span>       </td><td><span style=white-space:pre-wrap>Music                        </span>                   </td><td><span style=white-space:pre-wrap>Grades 6-8   </span>                                   </td><td>Supplies                                                                                </td><td>$420.61                                                                                 </td><td>2013-01-01                                                                              </td><td><span style=white-space:pre-wrap>Expired     </span>                                    </td><td><span style=white-space:pre-wrap>          </span>                                      </td></tr>\n",
       "\t<tr><td>7c915e8e1d27f10a94abd689e99c336f                                                 </td><td>0ae85ea7c7acc41cffa9f81dc61d46df                                                 </td><td>9140ac16d2e6cee45bd50b0b2ce8cd04                                                 </td><td>2                                                                                </td><td>Teacher-Led                                                                      </td><td>Big Books, Flip Books, And Everything In Between                                 </td><td><span style=white-space:pre-wrap>Literacy &amp; Language, Special Needs   </span></td><td><span style=white-space:pre-wrap>Literacy, Special Needs      </span>            </td><td>Grades PreK-2                                                                    </td><td><span style=white-space:pre-wrap>Books   </span>                                 </td><td>$510.46                                                                          </td><td>2013-01-01                                                                       </td><td>Fully Funded                                                                     </td><td>2013-01-07                                                                       </td></tr>\n",
       "</tbody>\n",
       "</table>\n"
      ],
      "text/latex": [
       "\\begin{tabular}{r|llllllllllllll}\n",
       " Project ID & School ID & Teacher ID & Teacher Project Posted Sequence & Project Type & Project Title & Project Subject Category Tree & Project Subject Subcategory Tree & Project Grade Level Category & Project Resource Category & Project Cost & Project Posted Date & Project Current Status & Project Fully Funded Date\\\\\n",
       "\\hline\n",
       "\t 77b7d3f2ac4e32d538914e4a8cb8a525                 & c2d5cb0a29a62e72cdccee939f434181                 & 59f7d2c62f7e76a99d31db6f62b7b67c                 & 2                                                & Teacher-Led                                      & Anti-Bullying Begins with Me                     & Applied Learning, Literacy \\& Language          & Character Education, Literacy                    & Grades PreK-2                                    & Books                                            & \\$490.38                                        & 2013-01-01                                       & Fully Funded                                     & 2013-03-12                                      \\\\\n",
       "\t fd928b7f6386366a9cad2bea40df4b25                 & 8acbb544c9215b25c71a0c655200baea                 & 8fbd92394e20d647ddcdc6085ce1604b                 & 1                                                & Teacher-Led                                      & Ukuleles For Middle Schoolers                    & Music \\& The Arts                               & Music                                            & Grades 6-8                                       & Supplies                                         & \\$420.61                                        & 2013-01-01                                       & Expired                                          &                                                 \\\\\n",
       "\t 7c915e8e1d27f10a94abd689e99c336f                 & 0ae85ea7c7acc41cffa9f81dc61d46df                 & 9140ac16d2e6cee45bd50b0b2ce8cd04                 & 2                                                & Teacher-Led                                      & Big Books, Flip Books, And Everything In Between & Literacy \\& Language, Special Needs             & Literacy, Special Needs                          & Grades PreK-2                                    & Books                                            & \\$510.46                                        & 2013-01-01                                       & Fully Funded                                     & 2013-01-07                                      \\\\\n",
       "\\end{tabular}\n"
      ],
      "text/markdown": [
       "\n",
       "Project ID | School ID | Teacher ID | Teacher Project Posted Sequence | Project Type | Project Title | Project Subject Category Tree | Project Subject Subcategory Tree | Project Grade Level Category | Project Resource Category | Project Cost | Project Posted Date | Project Current Status | Project Fully Funded Date | \n",
       "|---|---|---|\n",
       "| 77b7d3f2ac4e32d538914e4a8cb8a525                 | c2d5cb0a29a62e72cdccee939f434181                 | 59f7d2c62f7e76a99d31db6f62b7b67c                 | 2                                                | Teacher-Led                                      | Anti-Bullying Begins with Me                     | Applied Learning, Literacy & Language            | Character Education, Literacy                    | Grades PreK-2                                    | Books                                            | $490.38                                          | 2013-01-01                                       | Fully Funded                                     | 2013-03-12                                       | \n",
       "| fd928b7f6386366a9cad2bea40df4b25                 | 8acbb544c9215b25c71a0c655200baea                 | 8fbd92394e20d647ddcdc6085ce1604b                 | 1                                                | Teacher-Led                                      | Ukuleles For Middle Schoolers                    | Music & The Arts                                 | Music                                            | Grades 6-8                                       | Supplies                                         | $420.61                                          | 2013-01-01                                       | Expired                                          |                                                  | \n",
       "| 7c915e8e1d27f10a94abd689e99c336f                 | 0ae85ea7c7acc41cffa9f81dc61d46df                 | 9140ac16d2e6cee45bd50b0b2ce8cd04                 | 2                                                | Teacher-Led                                      | Big Books, Flip Books, And Everything In Between | Literacy & Language, Special Needs               | Literacy, Special Needs                          | Grades PreK-2                                    | Books                                            | $510.46                                          | 2013-01-01                                       | Fully Funded                                     | 2013-01-07                                       | \n",
       "\n",
       "\n"
      ],
      "text/plain": [
       "  Project ID                       School ID                       \n",
       "1 77b7d3f2ac4e32d538914e4a8cb8a525 c2d5cb0a29a62e72cdccee939f434181\n",
       "2 fd928b7f6386366a9cad2bea40df4b25 8acbb544c9215b25c71a0c655200baea\n",
       "3 7c915e8e1d27f10a94abd689e99c336f 0ae85ea7c7acc41cffa9f81dc61d46df\n",
       "  Teacher ID                       Teacher Project Posted Sequence Project Type\n",
       "1 59f7d2c62f7e76a99d31db6f62b7b67c 2                               Teacher-Led \n",
       "2 8fbd92394e20d647ddcdc6085ce1604b 1                               Teacher-Led \n",
       "3 9140ac16d2e6cee45bd50b0b2ce8cd04 2                               Teacher-Led \n",
       "  Project Title                                   \n",
       "1 Anti-Bullying Begins with Me                    \n",
       "2 Ukuleles For Middle Schoolers                   \n",
       "3 Big Books, Flip Books, And Everything In Between\n",
       "  Project Subject Category Tree         Project Subject Subcategory Tree\n",
       "1 Applied Learning, Literacy & Language Character Education, Literacy   \n",
       "2 Music & The Arts                      Music                           \n",
       "3 Literacy & Language, Special Needs    Literacy, Special Needs         \n",
       "  Project Grade Level Category Project Resource Category Project Cost\n",
       "1 Grades PreK-2                Books                     $490.38     \n",
       "2 Grades 6-8                   Supplies                  $420.61     \n",
       "3 Grades PreK-2                Books                     $510.46     \n",
       "  Project Posted Date Project Current Status Project Fully Funded Date\n",
       "1 2013-01-01          Fully Funded           2013-03-12               \n",
       "2 2013-01-01          Expired                                         \n",
       "3 2013-01-01          Fully Funded           2013-01-07               "
      ]
     },
     "metadata": {},
     "output_type": "display_data"
    }
   ],
   "source": [
    "head(subset(Projects, select = -`Project Essay`),3)"
   ]
  },
  {
   "cell_type": "code",
   "execution_count": 31,
   "metadata": {},
   "outputs": [],
   "source": [
    "write.csv(head(Projects[,`Project Essay`],1000),'Words Small.csv')"
   ]
  },
  {
   "cell_type": "code",
   "execution_count": 32,
   "metadata": {},
   "outputs": [],
   "source": [
    "# test  <- Projects\n",
    "\n",
    "# test[,`Project Cost`:=as.numeric(`Project Cost`)]"
   ]
  },
  {
   "cell_type": "code",
   "execution_count": 33,
   "metadata": {},
   "outputs": [],
   "source": [
    "# as.numeric(gsub(\"\\\\$\", \"\", Projects$`Project Cost`))"
   ]
  },
  {
   "cell_type": "code",
   "execution_count": 35,
   "metadata": {},
   "outputs": [],
   "source": [
    "# Categories  <- Projects[,.(Count = .N,mean(`Project Cost`)),by=.(`Project Resource Category`)]\n",
    "# Categories[order(-Count)]"
   ]
  },
  {
   "cell_type": "code",
   "execution_count": 36,
   "metadata": {},
   "outputs": [
    {
     "data": {
      "text/html": [
       "<table>\n",
       "<thead><tr><th scope=col>Project Current Status</th><th scope=col>N</th></tr></thead>\n",
       "<tbody>\n",
       "\t<tr><td>Fully Funded</td><td>821367      </td></tr>\n",
       "\t<tr><td>Expired     </td><td>241329      </td></tr>\n",
       "\t<tr><td>Archived    </td><td> 98003      </td></tr>\n",
       "\t<tr><td>Live        </td><td> 47952      </td></tr>\n",
       "</tbody>\n",
       "</table>\n"
      ],
      "text/latex": [
       "\\begin{tabular}{r|ll}\n",
       " Project Current Status & N\\\\\n",
       "\\hline\n",
       "\t Fully Funded & 821367      \\\\\n",
       "\t Expired      & 241329      \\\\\n",
       "\t Archived     &  98003      \\\\\n",
       "\t Live         &  47952      \\\\\n",
       "\\end{tabular}\n"
      ],
      "text/markdown": [
       "\n",
       "Project Current Status | N | \n",
       "|---|---|---|---|\n",
       "| Fully Funded | 821367       | \n",
       "| Expired      | 241329       | \n",
       "| Archived     |  98003       | \n",
       "| Live         |  47952       | \n",
       "\n",
       "\n"
      ],
      "text/plain": [
       "  Project Current Status N     \n",
       "1 Fully Funded           821367\n",
       "2 Expired                241329\n",
       "3 Archived                98003\n",
       "4 Live                    47952"
      ]
     },
     "metadata": {},
     "output_type": "display_data"
    }
   ],
   "source": [
    "Projects[,.N,by=.(`Project Current Status`)]"
   ]
  },
  {
   "cell_type": "code",
   "execution_count": 37,
   "metadata": {},
   "outputs": [
    {
     "data": {
      "text/html": [
       "<table>\n",
       "<thead><tr><th scope=col>N</th></tr></thead>\n",
       "<tbody>\n",
       "\t<tr><td>3.403516</td></tr>\n",
       "</tbody>\n",
       "</table>\n"
      ],
      "text/latex": [
       "\\begin{tabular}{r|l}\n",
       " N\\\\\n",
       "\\hline\n",
       "\t 3.403516\\\\\n",
       "\\end{tabular}\n"
      ],
      "text/markdown": [
       "\n",
       "N | \n",
       "|---|\n",
       "| 3.403516 | \n",
       "\n",
       "\n"
      ],
      "text/plain": [
       "  N       \n",
       "1 3.403516"
      ]
     },
     "metadata": {},
     "output_type": "display_data"
    }
   ],
   "source": [
    "Projects[,.N,by=.(`Project Current Status`)][1,2]/Projects[,.N,by=.(`Project Current Status`)][2,2]"
   ]
  },
  {
   "cell_type": "code",
   "execution_count": 38,
   "metadata": {},
   "outputs": [],
   "source": [
    "# ggplot(Projects[,.N,by=.(`Project Current Status`)],aes(`Project Current Status`, N)) +\n",
    "#     geom_bar(stat = 'identity')"
   ]
  },
  {
   "cell_type": "code",
   "execution_count": 39,
   "metadata": {},
   "outputs": [
    {
     "data": {},
     "metadata": {},
     "output_type": "display_data"
    },
    {
     "data": {
      "image/png": "[encoded data removed]",
      "text/plain": [
       "plot without title"
      ]
     },
     "metadata": {},
     "output_type": "display_data"
    }
   ],
   "source": [
    "ggplot(Projects,aes(`Project Current Status`))+\n",
    "    geom_bar(aes(fill = `Project Resource Category`))"
   ]
  },
  {
   "cell_type": "code",
   "execution_count": 40,
   "metadata": {},
   "outputs": [
    {
     "name": "stderr",
     "output_type": "stream",
     "text": [
      "Warning message:\n",
      "\"Ignoring unknown parameters: binwidth, bins, pad\""
     ]
    },
    {
     "data": {},
     "metadata": {},
     "output_type": "display_data"
    },
    {
     "data": {
      "image/png": "[encoded data removed]",
      "text/plain": [
       "plot without title"
      ]
     },
     "metadata": {},
     "output_type": "display_data"
    }
   ],
   "source": [
    "ggplot(Schools,aes(`School Metro Type`))+\n",
    "    geom_histogram(stat=\"count\")"
   ]
  },
  {
   "cell_type": "code",
   "execution_count": 41,
   "metadata": {},
   "outputs": [
    {
     "data": {},
     "metadata": {},
     "output_type": "display_data"
    },
    {
     "data": {
      "image/png": "[encoded data removed]",
      "text/plain": [
       "plot without title"
      ]
     },
     "metadata": {},
     "output_type": "display_data"
    }
   ],
   "source": [
    "by_grade  <- Projects[`Project Grade Level Category` != 'unknown',.N,by=.(`Project Grade Level Category`,`Project Current Status`)]\n",
    "\n",
    "# Observing the number of projects by grade. It appears as though those in lower grades have many more projects decicated. \n",
    "# However, the ratio of funded projects appears so be similar throughout, so little grade bias by donor.\n",
    "\n",
    "ggplot(by_grade, aes(reorder(`Project Grade Level Category`,desc(N)), N)) +\n",
    "    geom_bar(stat= 'identity', aes(fill = reorder(`Project Current Status`, N))) +\n",
    "    labs(title = 'Number of Projects By Grade', x='Grade Level', y='Count' ) +\n",
    "    guides(fill=guide_legend(title=\"Project Status\"))"
   ]
  },
  {
   "cell_type": "code",
   "execution_count": 42,
   "metadata": {},
   "outputs": [],
   "source": [
    "ele = nrow(Projects[`Project Grade Level Category` == 'Grades PreK-2' | `Project Grade Level Category` == 'Grades 3-5'])\n",
    "middle = nrow(Projects[`Project Grade Level Category` == 'Grades 6-8'])\n",
    "high = nrow(Projects[`Project Grade Level Category` == 'Grades 9-12'])\n",
    "all = nrow(Projects[`Project Grade Level Category` != 'unknown'])\n",
    "\n",
    "ele = round(ele/all,4)*100\n",
    "middle = round(middle/all,4)*100\n",
    "high = round(high/all,4)*100\n",
    "\n",
    "print('If we filter the rows where the grade level is not known:')\n",
    "print(paste0(ele,'% of projects are for elementary schoolers'))\n",
    "print(paste0(middle,'% of projects are for middle schoolers'))\n",
    "print(paste0(high,'% of projects are for high schoolers'))"
   ]
  },
  {
   "cell_type": "code",
   "execution_count": 43,
   "metadata": {},
   "outputs": [
    {
     "name": "stdout",
     "output_type": "stream",
     "text": [
      "[1] \"If we filter the rows where the grade level is not known:\"\n",
      "[1] \"71.79% of projects are for elementary schoolers\"\n",
      "[1] \"16.38% of projects are for middle schoolers\"\n",
      "[1] \"11.83% of projects are for high schoolers\"\n"
     ]
    }
   ],
   "source": [
    "print('If we filter the rows where the grade level is not known:')\n",
    "print(paste0(ele,'% of projects are for elementary schoolers'))\n",
    "print(paste0(middle,'% of projects are for middle schoolers'))\n",
    "print(paste0(high,'% of projects are for high schoolers'))"
   ]
  },
  {
   "cell_type": "markdown",
   "metadata": {},
   "source": [
    "## Do people donate across state lines? (State loyality)\n",
    "\n",
    "In order to build a recommendation system, it is important to see if we should try to engage users across state lines. To do this, we must observe if people donate from states that they are not from. Also, it would be helpful to see if people typically donate to more than one state or more to ."
   ]
  },
  {
   "cell_type": "code",
   "execution_count": 44,
   "metadata": {},
   "outputs": [],
   "source": [
    "# The %>% operator from package 'dplyr' is used as opposed completely using the 'data.table' package to aid in interpretability\n",
    "library(dplyr)\n",
    "\n",
    "\n",
    "# Linking up the datasets.\n",
    "Donations_Linked <- merge(Donations,Projects) %>%\n",
    "  merge(Donors, by = 'Donor ID') %>%\n",
    "  merge(Schools, by = 'School ID') %>%\n",
    "  merge(Teachers, by = 'Teacher ID')"
   ]
  },
  {
   "cell_type": "code",
   "execution_count": 1,
   "metadata": {},
   "outputs": [
    {
     "ename": "ERROR",
     "evalue": "Error in eval(expr, envir, enclos): object 'Donations_Linked' not found\n",
     "output_type": "error",
     "traceback": [
      "Error in eval(expr, envir, enclos): object 'Donations_Linked' not found\nTraceback:\n"
     ]
    }
   ],
   "source": [
    "states = Donations_Linked[,.(`Donor ID`,`School State`,`School City`,`Donor State`,`Donor City`)]\n",
    "states[,`Same State` := ifelse(`School State` == `Donor State`, TRUE,FALSE)]\n",
    "states[,`Same City` := ifelse(`School City` == `Donor City`, TRUE,FALSE)]\n",
    "\n",
    "# head(states,3)\n",
    "\n",
    "state_ratio = nrow(states[`Same State`==TRUE])/nrow(states)\n",
    "city_ratio = nrow(states[`Same City`==TRUE])/nrow(states)\n",
    "\n",
    "\n",
    "print(paste0('The ratio of donations coming from the same state: ', round(state_ratio,4)*100,'%'))\n",
    "print(paste0('The ratio of donations coming from the same city: ', round(city_ratio,4)*100,'%'))"
   ]
  },
  {
   "cell_type": "markdown",
   "metadata": {},
   "source": [
    "While most of the donations come from similar states, a significant poplulation (approx. 34.78%) come from different states. This indicates that while the project state does have some influence on wheter a person will donate, it is not absolute. Also, around 26% of donations occur in the same city where the donor lives. Therefore, we should consider the location as a factor in the receommendation system."
   ]
  },
  {
   "cell_type": "markdown",
   "metadata": {},
   "source": [
    "## Do repeat donors only give to one school, teacher, or state? (Donor loyalty)\n",
    "\n",
    "When trying to re-engage potential donors, it is important to know what projects they will be likely to donate to. Maybe a donor is only willng to donate to a single school, teacher, or state. "
   ]
  },
  {
   "cell_type": "code",
   "execution_count": 46,
   "metadata": {},
   "outputs": [],
   "source": [
    "# Performance Intensive\n",
    "\n",
    "Repeated <- Donations_Linked[,.(\n",
    "    `Times Donated`=.N, \n",
    "    `Different Schools` = length(unique(`School ID`)),\n",
    "    `Different Teachers` =  length(unique(`Teacher ID`)),\n",
    "    `Different States` = length(unique(`School State`))\n",
    "    ),by=`Donor ID`]"
   ]
  },
  {
   "cell_type": "code",
   "execution_count": 47,
   "metadata": {},
   "outputs": [],
   "source": [
    "Repeated_Donors <- Repeated[`Times Donated`  > 1]"
   ]
  },
  {
   "cell_type": "code",
   "execution_count": 48,
   "metadata": {},
   "outputs": [
    {
     "data": {},
     "metadata": {},
     "output_type": "display_data"
    }
   ],
   "source": [
    "Repeated_Donors[, `:=`(\n",
    "    `Only Donated to One School` = ifelse(`Different Schools` == 1,1,0),\n",
    "    `Only Donated to One Teacher` = ifelse(`Different Teachers` == 1,1,0),\n",
    "    `Only Donated to One State` = ifelse(`Different States` == 1,1,0)\n",
    ")]"
   ]
  },
  {
   "cell_type": "code",
   "execution_count": 49,
   "metadata": {},
   "outputs": [],
   "source": [
    "Repeated_Donors_Grouped  <- Repeated_Donors[,.(\n",
    "    `Donors` = .N, \n",
    "    `Different Schools` = sum(`Different Schools`),\n",
    "    `Percentage of Gave only to One School`= mean(`Only Donated to One School`),\n",
    "    `Percentage of Gave only to One Teacher`= mean(`Only Donated to One Teacher`),\n",
    "    `Percentage of Gave only to One State`=mean(`Only Donated to One State`)\n",
    "), keyby = `Times Donated`]\n",
    "\n"
   ]
  },
  {
   "cell_type": "code",
   "execution_count": 50,
   "metadata": {
    "scrolled": true
   },
   "outputs": [
    {
     "data": {
      "text/html": [
       "<table>\n",
       "<thead><tr><th scope=col>Times Donated</th><th scope=col>Donors</th><th scope=col>Different Schools</th><th scope=col>Percentage of Gave only to One School</th><th scope=col>Percentage of Gave only to One Teacher</th><th scope=col>Percentage of Gave only to One State</th></tr></thead>\n",
       "<tbody>\n",
       "\t<tr><td> 2       </td><td>274695   </td><td>393277   </td><td>0.5683139</td><td>0.4674494</td><td>0.8304556</td></tr>\n",
       "\t<tr><td> 3       </td><td> 99032   </td><td>179565   </td><td>0.4610227</td><td>0.3540068</td><td>0.7690242</td></tr>\n",
       "\t<tr><td> 4       </td><td> 49896   </td><td>106783   </td><td>0.4269481</td><td>0.3260782</td><td>0.7361712</td></tr>\n",
       "\t<tr><td> 5       </td><td> 30570   </td><td> 75229   </td><td>0.4074910</td><td>0.3115146</td><td>0.7158325</td></tr>\n",
       "\t<tr><td> 6       </td><td> 19660   </td><td> 54997   </td><td>0.3856562</td><td>0.2934385</td><td>0.6856562</td></tr>\n",
       "\t<tr><td> 7       </td><td> 14085   </td><td> 43774   </td><td>0.3696131</td><td>0.2854810</td><td>0.6675186</td></tr>\n",
       "\t<tr><td> 8       </td><td> 10352   </td><td> 35640   </td><td>0.3567427</td><td>0.2736669</td><td>0.6506955</td></tr>\n",
       "\t<tr><td> 9       </td><td>  7881   </td><td> 30236   </td><td>0.3486867</td><td>0.2602462</td><td>0.6335490</td></tr>\n",
       "\t<tr><td>10       </td><td>  6204   </td><td> 26418   </td><td>0.3310767</td><td>0.2498388</td><td>0.6200838</td></tr>\n",
       "\t<tr><td>11       </td><td>  5007   </td><td> 23068   </td><td>0.3119633</td><td>0.2370681</td><td>0.5905732</td></tr>\n",
       "</tbody>\n",
       "</table>\n"
      ],
      "text/latex": [
       "\\begin{tabular}{r|llllll}\n",
       " Times Donated & Donors & Different Schools & Percentage of Gave only to One School & Percentage of Gave only to One Teacher & Percentage of Gave only to One State\\\\\n",
       "\\hline\n",
       "\t  2        & 274695    & 393277    & 0.5683139 & 0.4674494 & 0.8304556\\\\\n",
       "\t  3        &  99032    & 179565    & 0.4610227 & 0.3540068 & 0.7690242\\\\\n",
       "\t  4        &  49896    & 106783    & 0.4269481 & 0.3260782 & 0.7361712\\\\\n",
       "\t  5        &  30570    &  75229    & 0.4074910 & 0.3115146 & 0.7158325\\\\\n",
       "\t  6        &  19660    &  54997    & 0.3856562 & 0.2934385 & 0.6856562\\\\\n",
       "\t  7        &  14085    &  43774    & 0.3696131 & 0.2854810 & 0.6675186\\\\\n",
       "\t  8        &  10352    &  35640    & 0.3567427 & 0.2736669 & 0.6506955\\\\\n",
       "\t  9        &   7881    &  30236    & 0.3486867 & 0.2602462 & 0.6335490\\\\\n",
       "\t 10        &   6204    &  26418    & 0.3310767 & 0.2498388 & 0.6200838\\\\\n",
       "\t 11        &   5007    &  23068    & 0.3119633 & 0.2370681 & 0.5905732\\\\\n",
       "\\end{tabular}\n"
      ],
      "text/markdown": [
       "\n",
       "Times Donated | Donors | Different Schools | Percentage of Gave only to One School | Percentage of Gave only to One Teacher | Percentage of Gave only to One State | \n",
       "|---|---|---|---|---|---|---|---|---|---|\n",
       "|  2        | 274695    | 393277    | 0.5683139 | 0.4674494 | 0.8304556 | \n",
       "|  3        |  99032    | 179565    | 0.4610227 | 0.3540068 | 0.7690242 | \n",
       "|  4        |  49896    | 106783    | 0.4269481 | 0.3260782 | 0.7361712 | \n",
       "|  5        |  30570    |  75229    | 0.4074910 | 0.3115146 | 0.7158325 | \n",
       "|  6        |  19660    |  54997    | 0.3856562 | 0.2934385 | 0.6856562 | \n",
       "|  7        |  14085    |  43774    | 0.3696131 | 0.2854810 | 0.6675186 | \n",
       "|  8        |  10352    |  35640    | 0.3567427 | 0.2736669 | 0.6506955 | \n",
       "|  9        |   7881    |  30236    | 0.3486867 | 0.2602462 | 0.6335490 | \n",
       "| 10        |   6204    |  26418    | 0.3310767 | 0.2498388 | 0.6200838 | \n",
       "| 11        |   5007    |  23068    | 0.3119633 | 0.2370681 | 0.5905732 | \n",
       "\n",
       "\n"
      ],
      "text/plain": [
       "   Times Donated Donors Different Schools Percentage of Gave only to One School\n",
       "1   2            274695 393277            0.5683139                            \n",
       "2   3             99032 179565            0.4610227                            \n",
       "3   4             49896 106783            0.4269481                            \n",
       "4   5             30570  75229            0.4074910                            \n",
       "5   6             19660  54997            0.3856562                            \n",
       "6   7             14085  43774            0.3696131                            \n",
       "7   8             10352  35640            0.3567427                            \n",
       "8   9              7881  30236            0.3486867                            \n",
       "9  10              6204  26418            0.3310767                            \n",
       "10 11              5007  23068            0.3119633                            \n",
       "   Percentage of Gave only to One Teacher Percentage of Gave only to One State\n",
       "1  0.4674494                              0.8304556                           \n",
       "2  0.3540068                              0.7690242                           \n",
       "3  0.3260782                              0.7361712                           \n",
       "4  0.3115146                              0.7158325                           \n",
       "5  0.2934385                              0.6856562                           \n",
       "6  0.2854810                              0.6675186                           \n",
       "7  0.2736669                              0.6506955                           \n",
       "8  0.2602462                              0.6335490                           \n",
       "9  0.2498388                              0.6200838                           \n",
       "10 0.2370681                              0.5905732                           "
      ]
     },
     "metadata": {},
     "output_type": "display_data"
    }
   ],
   "source": [
    "# Only_One_School  <- Repeated_Donors[,.(`Donors` = .N , `Different Schools` = sum(`Different Schools`),`Percentage of Gave only to One School`= mean(`Only Donated to One School`)), keyby = `Times Donated`]\n",
    "head(Repeated_Donors_Grouped,10)"
   ]
  },
  {
   "cell_type": "code",
   "execution_count": 51,
   "metadata": {},
   "outputs": [
    {
     "data": {
      "text/html": [
       "0.901600041977806"
      ],
      "text/latex": [
       "0.901600041977806"
      ],
      "text/markdown": [
       "0.901600041977806"
      ],
      "text/plain": [
       "[1] 0.9016"
      ]
     },
     "metadata": {},
     "output_type": "display_data"
    }
   ],
   "source": [
    "Repeated_Donors_Grouped[`Times Donated` <= 8,sum(Donors),]/Repeated_Donors_Grouped[,sum(Donors)]"
   ]
  },
  {
   "cell_type": "code",
   "execution_count": 52,
   "metadata": {
    "scrolled": true
   },
   "outputs": [
    {
     "data": {},
     "metadata": {},
     "output_type": "display_data"
    },
    {
     "data": {
      "image/png": "[encoded data removed]",
      "text/plain": [
       "plot without title"
      ]
     },
     "metadata": {},
     "output_type": "display_data"
    }
   ],
   "source": [
    "ggplot(Repeated_Donors_Grouped[`Times Donated` <= 8], aes(x=`Times Donated`, y = `Percentage of Gave only to One School`)) +\n",
    "    geom_bar(stat = 'identity', fill = 'darkblue') +\n",
    "    labs(title = 'School Loyalty by Times Donated (covers 90% of all donors)') +\n",
    "    theme(plot.title = element_text(hjust = 0.5)) +\n",
    "    scale_y_continuous(labels = scales::percent) +\n",
    "    scale_x_continuous(breaks = seq(2, 8, by = 1))"
   ]
  },
  {
   "cell_type": "code",
   "execution_count": 53,
   "metadata": {},
   "outputs": [
    {
     "data": {},
     "metadata": {},
     "output_type": "display_data"
    },
    {
     "data": {
      "image/png": "[encoded data removed]",
      "text/plain": [
       "plot without title"
      ]
     },
     "metadata": {},
     "output_type": "display_data"
    }
   ],
   "source": [
    "ggplot(Repeated_Donors_Grouped[`Times Donated` <= 8], aes(x=`Times Donated`, y = `Percentage of Gave only to One Teacher`)) +\n",
    "    geom_bar(stat = 'identity', fill = 'darkblue') +\n",
    "    labs(title = 'Teacher Loyalty by Times Donated (covers 90% of all donors)') +\n",
    "    theme(plot.title = element_text(hjust = 0.5)) +\n",
    "    scale_y_continuous(labels = scales::percent) +\n",
    "    scale_x_continuous(breaks = seq(2, 8, by = 1))"
   ]
  },
  {
   "cell_type": "code",
   "execution_count": 54,
   "metadata": {},
   "outputs": [
    {
     "data": {},
     "metadata": {},
     "output_type": "display_data"
    },
    {
     "data": {
      "image/png": "[encoded data removed]",
      "text/plain": [
       "plot without title"
      ]
     },
     "metadata": {},
     "output_type": "display_data"
    }
   ],
   "source": [
    "ggplot(Repeated_Donors_Grouped[`Times Donated` <= 8], aes(x=`Times Donated`, y = `Percentage of Gave only to One State`)) +\n",
    "    geom_bar(stat = 'identity', fill = 'darkblue') +\n",
    "    labs(title = 'State Loyalty by Times Donated (covers 90% of all donors)') +\n",
    "    theme(plot.title = element_text(hjust = 0.5)) +\n",
    "    scale_y_continuous(labels = scales::percent) +\n",
    "    scale_x_continuous(breaks = seq(2, 8, by = 1))"
   ]
  },
  {
   "cell_type": "markdown",
   "metadata": {},
   "source": [
    "Here we can see a preference of donors only giving to a single school. Reasons for this could be: a donor might have a child in this school, a donor may know the teacher, or a donor may have attended the school previously. It would be wise to add a variable to our recommender algorythm to see if a person only gave to a single school, especially if they have donated many times. It appears around a third of donors only donate to a single school no matter how many times they donate, our recommendation system should try to account for these donors."
   ]
  },
  {
   "cell_type": "code",
   "execution_count": null,
   "metadata": {},
   "outputs": [],
   "source": []
  },
  {
   "cell_type": "code",
   "execution_count": null,
   "metadata": {},
   "outputs": [],
   "source": []
  },
  {
   "cell_type": "markdown",
   "metadata": {},
   "source": [
    "## How many projects does a teacher do?"
   ]
  },
  {
   "cell_type": "code",
   "execution_count": 55,
   "metadata": {},
   "outputs": [
    {
     "data": {
      "text/html": [
       "<table>\n",
       "<thead><tr><th scope=col>Number of Projects</th><th scope=col>N</th></tr></thead>\n",
       "<tbody>\n",
       "\t<tr><td> 1    </td><td>211430</td></tr>\n",
       "\t<tr><td> 2    </td><td> 76657</td></tr>\n",
       "\t<tr><td> 3    </td><td> 37906</td></tr>\n",
       "\t<tr><td> 4    </td><td> 21646</td></tr>\n",
       "\t<tr><td> 5    </td><td> 13346</td></tr>\n",
       "\t<tr><td> 6    </td><td>  8955</td></tr>\n",
       "\t<tr><td> 7    </td><td>  6167</td></tr>\n",
       "\t<tr><td> 8    </td><td>  4581</td></tr>\n",
       "\t<tr><td> 9    </td><td>  3440</td></tr>\n",
       "\t<tr><td>10    </td><td>  2680</td></tr>\n",
       "</tbody>\n",
       "</table>\n"
      ],
      "text/latex": [
       "\\begin{tabular}{r|ll}\n",
       " Number of Projects & N\\\\\n",
       "\\hline\n",
       "\t  1     & 211430\\\\\n",
       "\t  2     &  76657\\\\\n",
       "\t  3     &  37906\\\\\n",
       "\t  4     &  21646\\\\\n",
       "\t  5     &  13346\\\\\n",
       "\t  6     &   8955\\\\\n",
       "\t  7     &   6167\\\\\n",
       "\t  8     &   4581\\\\\n",
       "\t  9     &   3440\\\\\n",
       "\t 10     &   2680\\\\\n",
       "\\end{tabular}\n"
      ],
      "text/markdown": [
       "\n",
       "Number of Projects | N | \n",
       "|---|---|---|---|---|---|---|---|---|---|\n",
       "|  1     | 211430 | \n",
       "|  2     |  76657 | \n",
       "|  3     |  37906 | \n",
       "|  4     |  21646 | \n",
       "|  5     |  13346 | \n",
       "|  6     |   8955 | \n",
       "|  7     |   6167 | \n",
       "|  8     |   4581 | \n",
       "|  9     |   3440 | \n",
       "| 10     |   2680 | \n",
       "\n",
       "\n"
      ],
      "text/plain": [
       "   Number of Projects N     \n",
       "1   1                 211430\n",
       "2   2                  76657\n",
       "3   3                  37906\n",
       "4   4                  21646\n",
       "5   5                  13346\n",
       "6   6                   8955\n",
       "7   7                   6167\n",
       "8   8                   4581\n",
       "9   9                   3440\n",
       "10 10                   2680"
      ]
     },
     "metadata": {},
     "output_type": "display_data"
    }
   ],
   "source": [
    "Repeated_Teachers  <- Projects[,.(`Number of Projects`=.N),by=`Teacher ID`]\n",
    "Repeated_Teachers_Grouped  <- Repeated_Teachers[,.N,keyby='Number of Projects']\n",
    "head(Repeated_Teachers_Grouped,10)"
   ]
  },
  {
   "cell_type": "markdown",
   "metadata": {},
   "source": [
    "Percentage of Teachers who do more than one project"
   ]
  },
  {
   "cell_type": "code",
   "execution_count": 56,
   "metadata": {},
   "outputs": [
    {
     "data": {
      "text/html": [
       "0.475229585505088"
      ],
      "text/latex": [
       "0.475229585505088"
      ],
      "text/markdown": [
       "0.475229585505088"
      ],
      "text/plain": [
       "[1] 0.4752296"
      ]
     },
     "metadata": {},
     "output_type": "display_data"
    }
   ],
   "source": [
    "1-Repeated_Teachers_Grouped[`Number of Projects` == 1,sum(N)]/Repeated_Teachers_Grouped[,sum(N)]"
   ]
  },
  {
   "cell_type": "markdown",
   "metadata": {},
   "source": [
    "## How many people typically donate to a project?"
   ]
  },
  {
   "cell_type": "code",
   "execution_count": 122,
   "metadata": {},
   "outputs": [
    {
     "ename": "ERROR",
     "evalue": "Error in eval(bysub, x, parent.frame()): object 'Project Current Status' not found\n",
     "output_type": "error",
     "traceback": [
      "Error in eval(bysub, x, parent.frame()): object 'Project Current Status' not found\nTraceback:\n",
      "1. By_Project[, .N, keyby = .(Donors, `Project Current Status`)]",
      "2. `[.data.table`(By_Project, , .N, keyby = .(Donors, `Project Current Status`))",
      "3. eval(bysub, x, parent.frame())",
      "4. eval(bysub, x, parent.frame())"
     ]
    }
   ],
   "source": [
    "By_Project <- Donations_Linked[,.(Donors = length(`Donor ID`), Status =),by = `Project ID`]\n",
    "By_Project_Grouped <- By_Project[,.N,keyby = .(`Donors`,`Project Current Status`)]"
   ]
  },
  {
   "cell_type": "code",
   "execution_count": 123,
   "metadata": {},
   "outputs": [
    {
     "data": {
      "text/html": [
       "<table>\n",
       "<thead><tr><th scope=col>Project ID</th><th scope=col>Donors</th></tr></thead>\n",
       "<tbody>\n",
       "\t<tr><td>c53185d991ad3e2a73918d0d9021d3cf</td><td> 9                              </td></tr>\n",
       "\t<tr><td>40959660680ef3124d74ce3385248f88</td><td> 4                              </td></tr>\n",
       "\t<tr><td>3bd76a05f29ae5e3840c3c0eb05ff59f</td><td> 2                              </td></tr>\n",
       "\t<tr><td>2f53e5f31890e647048ac217cda3b83f</td><td> 3                              </td></tr>\n",
       "\t<tr><td>75131d2e94930082aa8ed1e4cd4d21da</td><td> 1                              </td></tr>\n",
       "\t<tr><td>e09933470f4256cc2643341c1d299e55</td><td> 7                              </td></tr>\n",
       "\t<tr><td>e2beb818569f66adaa4ced21ca299ac6</td><td> 7                              </td></tr>\n",
       "\t<tr><td>c5821d32012efd7df4f6fa12e230e991</td><td> 4                              </td></tr>\n",
       "\t<tr><td>7143ffacf315cb3ed5a9dcd2d39f6398</td><td> 3                              </td></tr>\n",
       "\t<tr><td>7771a382bf28d33e0046d74f495afda7</td><td>12                              </td></tr>\n",
       "\t<tr><td>e6d1e1c678360ea28c828b782b2441ee</td><td> 5                              </td></tr>\n",
       "\t<tr><td>309018bfc9ee933fd47a17a755481fc3</td><td> 1                              </td></tr>\n",
       "\t<tr><td>1b79df8ecf5d9ce00c98867697c76816</td><td>11                              </td></tr>\n",
       "\t<tr><td>6e1b5d21cabd078ae04d6e7d5f841f29</td><td> 3                              </td></tr>\n",
       "\t<tr><td>277a1896f63d4b932100bd3855e223be</td><td>15                              </td></tr>\n",
       "\t<tr><td>5b9b47b05d54749e2abe28f9acf56345</td><td> 3                              </td></tr>\n",
       "\t<tr><td>ac2359a818dd440d3f1bbd8b79bf3665</td><td> 1                              </td></tr>\n",
       "\t<tr><td>23862b3bd25f34d306b6645ed6a956ef</td><td> 9                              </td></tr>\n",
       "\t<tr><td>163f0347475e309ba45c3373dd8a679b</td><td> 8                              </td></tr>\n",
       "\t<tr><td>42d8279de0c5045125537371bf876af5</td><td> 3                              </td></tr>\n",
       "\t<tr><td>fef6a4cf9f5d7f8e0b2d63f300f79915</td><td> 1                              </td></tr>\n",
       "\t<tr><td>25c258f308ae7db13c6886002b355680</td><td>12                              </td></tr>\n",
       "\t<tr><td>8fb01f45d4e0394a11fdb9fc66824c1a</td><td> 6                              </td></tr>\n",
       "\t<tr><td>27f9ae2493651df45a940fb7f1583161</td><td> 7                              </td></tr>\n",
       "\t<tr><td>390d07ed4251ebc37c1f722ad0836866</td><td>17                              </td></tr>\n",
       "\t<tr><td>74cb06f7601f991a9b3b1beca9162a77</td><td>16                              </td></tr>\n",
       "\t<tr><td>f3cc9374e6fd7963bfd599e0148e1970</td><td> 3                              </td></tr>\n",
       "\t<tr><td>af02e9ac0b34ad83a06974b6b51b6e47</td><td> 4                              </td></tr>\n",
       "\t<tr><td>59f5336b6c23a55ee25919b35f506ca0</td><td> 5                              </td></tr>\n",
       "\t<tr><td>6358f132a8cd43843f3f8c411439a98d</td><td> 3                              </td></tr>\n",
       "\t<tr><td>...</td><td>...</td></tr>\n",
       "\t<tr><td>5326a8bf13cbf24276c587e1d17f1e64</td><td>15                              </td></tr>\n",
       "\t<tr><td>bcfb56e77ec1d6a51d963279a65c0e45</td><td> 3                              </td></tr>\n",
       "\t<tr><td>e209e9691fbd13b29252effddb2dfed0</td><td> 1                              </td></tr>\n",
       "\t<tr><td>4c3ec1f02c2708676af6c0b9c67efa28</td><td> 5                              </td></tr>\n",
       "\t<tr><td>26622d0b6ad358b5d26b3fded46c8c83</td><td> 5                              </td></tr>\n",
       "\t<tr><td>fde8f4db69ad6d3c24a4329d2de1e45c</td><td> 2                              </td></tr>\n",
       "\t<tr><td>38ba9def2c650152e3c331090baa4c84</td><td> 3                              </td></tr>\n",
       "\t<tr><td>32e1e17fb7ef4ca6ed981ccef35fe94e</td><td> 1                              </td></tr>\n",
       "\t<tr><td>4a68e7a1c8ea63d3ef00c4d54533d2ce</td><td> 1                              </td></tr>\n",
       "\t<tr><td>cc40e7486680b5784bb54a44d9d67a4a</td><td>14                              </td></tr>\n",
       "\t<tr><td>8232161dd62604e5605aae5a2ff35aec</td><td>17                              </td></tr>\n",
       "\t<tr><td>2f150a043f4729708aed4c8fc4842343</td><td> 4                              </td></tr>\n",
       "\t<tr><td>a7a5d47e50158123b31d1500cc4507e4</td><td> 3                              </td></tr>\n",
       "\t<tr><td>33f4a819f2cdc59f8a88d658916ade1e</td><td> 1                              </td></tr>\n",
       "\t<tr><td>e6b9f5a89cfb9742fcef88e5c302c12e</td><td> 1                              </td></tr>\n",
       "\t<tr><td>3b1b1f1a3e38f33eb48edda49ee4c3d0</td><td> 1                              </td></tr>\n",
       "\t<tr><td>06b5bcffab197d3e6b0abb898a76c803</td><td> 2                              </td></tr>\n",
       "\t<tr><td>267a18c317500449a087a57fb771d446</td><td> 2                              </td></tr>\n",
       "\t<tr><td>45b049ede050333544c415e672880508</td><td> 1                              </td></tr>\n",
       "\t<tr><td>5c5d3dc28d0ec74e7bad9c964fc30945</td><td>11                              </td></tr>\n",
       "\t<tr><td>461ff887a974538c7592622dd79a158c</td><td> 2                              </td></tr>\n",
       "\t<tr><td>68ab4432ef8bf183c27d715c6937c122</td><td> 3                              </td></tr>\n",
       "\t<tr><td>389004e8563d1540c8d73c8d97c8799e</td><td> 1                              </td></tr>\n",
       "\t<tr><td>756b128beaed4b368a14c1fcfc5d2e4b</td><td> 9                              </td></tr>\n",
       "\t<tr><td>9d1b86c354015c49cbdf8808245aab8c</td><td> 7                              </td></tr>\n",
       "\t<tr><td>7f851dca79815062c568ad47946c9144</td><td> 8                              </td></tr>\n",
       "\t<tr><td>5b11d16bbe347b9d842b02635f02ad86</td><td>10                              </td></tr>\n",
       "\t<tr><td>d75a03fddd974adfe3fca423620317e3</td><td> 4                              </td></tr>\n",
       "\t<tr><td>56f5f5f4bf89ed30fec2286174a15fc1</td><td> 5                              </td></tr>\n",
       "\t<tr><td>41ff2a7d86a1a606941506584f891864</td><td> 1                              </td></tr>\n",
       "</tbody>\n",
       "</table>\n"
      ],
      "text/latex": [
       "\\begin{tabular}{r|ll}\n",
       " Project ID & Donors\\\\\n",
       "\\hline\n",
       "\t c53185d991ad3e2a73918d0d9021d3cf &  9                              \\\\\n",
       "\t 40959660680ef3124d74ce3385248f88 &  4                              \\\\\n",
       "\t 3bd76a05f29ae5e3840c3c0eb05ff59f &  2                              \\\\\n",
       "\t 2f53e5f31890e647048ac217cda3b83f &  3                              \\\\\n",
       "\t 75131d2e94930082aa8ed1e4cd4d21da &  1                              \\\\\n",
       "\t e09933470f4256cc2643341c1d299e55 &  7                              \\\\\n",
       "\t e2beb818569f66adaa4ced21ca299ac6 &  7                              \\\\\n",
       "\t c5821d32012efd7df4f6fa12e230e991 &  4                              \\\\\n",
       "\t 7143ffacf315cb3ed5a9dcd2d39f6398 &  3                              \\\\\n",
       "\t 7771a382bf28d33e0046d74f495afda7 & 12                              \\\\\n",
       "\t e6d1e1c678360ea28c828b782b2441ee &  5                              \\\\\n",
       "\t 309018bfc9ee933fd47a17a755481fc3 &  1                              \\\\\n",
       "\t 1b79df8ecf5d9ce00c98867697c76816 & 11                              \\\\\n",
       "\t 6e1b5d21cabd078ae04d6e7d5f841f29 &  3                              \\\\\n",
       "\t 277a1896f63d4b932100bd3855e223be & 15                              \\\\\n",
       "\t 5b9b47b05d54749e2abe28f9acf56345 &  3                              \\\\\n",
       "\t ac2359a818dd440d3f1bbd8b79bf3665 &  1                              \\\\\n",
       "\t 23862b3bd25f34d306b6645ed6a956ef &  9                              \\\\\n",
       "\t 163f0347475e309ba45c3373dd8a679b &  8                              \\\\\n",
       "\t 42d8279de0c5045125537371bf876af5 &  3                              \\\\\n",
       "\t fef6a4cf9f5d7f8e0b2d63f300f79915 &  1                              \\\\\n",
       "\t 25c258f308ae7db13c6886002b355680 & 12                              \\\\\n",
       "\t 8fb01f45d4e0394a11fdb9fc66824c1a &  6                              \\\\\n",
       "\t 27f9ae2493651df45a940fb7f1583161 &  7                              \\\\\n",
       "\t 390d07ed4251ebc37c1f722ad0836866 & 17                              \\\\\n",
       "\t 74cb06f7601f991a9b3b1beca9162a77 & 16                              \\\\\n",
       "\t f3cc9374e6fd7963bfd599e0148e1970 &  3                              \\\\\n",
       "\t af02e9ac0b34ad83a06974b6b51b6e47 &  4                              \\\\\n",
       "\t 59f5336b6c23a55ee25919b35f506ca0 &  5                              \\\\\n",
       "\t 6358f132a8cd43843f3f8c411439a98d &  3                              \\\\\n",
       "\t ... & ...\\\\\n",
       "\t 5326a8bf13cbf24276c587e1d17f1e64 & 15                              \\\\\n",
       "\t bcfb56e77ec1d6a51d963279a65c0e45 &  3                              \\\\\n",
       "\t e209e9691fbd13b29252effddb2dfed0 &  1                              \\\\\n",
       "\t 4c3ec1f02c2708676af6c0b9c67efa28 &  5                              \\\\\n",
       "\t 26622d0b6ad358b5d26b3fded46c8c83 &  5                              \\\\\n",
       "\t fde8f4db69ad6d3c24a4329d2de1e45c &  2                              \\\\\n",
       "\t 38ba9def2c650152e3c331090baa4c84 &  3                              \\\\\n",
       "\t 32e1e17fb7ef4ca6ed981ccef35fe94e &  1                              \\\\\n",
       "\t 4a68e7a1c8ea63d3ef00c4d54533d2ce &  1                              \\\\\n",
       "\t cc40e7486680b5784bb54a44d9d67a4a & 14                              \\\\\n",
       "\t 8232161dd62604e5605aae5a2ff35aec & 17                              \\\\\n",
       "\t 2f150a043f4729708aed4c8fc4842343 &  4                              \\\\\n",
       "\t a7a5d47e50158123b31d1500cc4507e4 &  3                              \\\\\n",
       "\t 33f4a819f2cdc59f8a88d658916ade1e &  1                              \\\\\n",
       "\t e6b9f5a89cfb9742fcef88e5c302c12e &  1                              \\\\\n",
       "\t 3b1b1f1a3e38f33eb48edda49ee4c3d0 &  1                              \\\\\n",
       "\t 06b5bcffab197d3e6b0abb898a76c803 &  2                              \\\\\n",
       "\t 267a18c317500449a087a57fb771d446 &  2                              \\\\\n",
       "\t 45b049ede050333544c415e672880508 &  1                              \\\\\n",
       "\t 5c5d3dc28d0ec74e7bad9c964fc30945 & 11                              \\\\\n",
       "\t 461ff887a974538c7592622dd79a158c &  2                              \\\\\n",
       "\t 68ab4432ef8bf183c27d715c6937c122 &  3                              \\\\\n",
       "\t 389004e8563d1540c8d73c8d97c8799e &  1                              \\\\\n",
       "\t 756b128beaed4b368a14c1fcfc5d2e4b &  9                              \\\\\n",
       "\t 9d1b86c354015c49cbdf8808245aab8c &  7                              \\\\\n",
       "\t 7f851dca79815062c568ad47946c9144 &  8                              \\\\\n",
       "\t 5b11d16bbe347b9d842b02635f02ad86 & 10                              \\\\\n",
       "\t d75a03fddd974adfe3fca423620317e3 &  4                              \\\\\n",
       "\t 56f5f5f4bf89ed30fec2286174a15fc1 &  5                              \\\\\n",
       "\t 41ff2a7d86a1a606941506584f891864 &  1                              \\\\\n",
       "\\end{tabular}\n"
      ],
      "text/markdown": [
       "\n",
       "Project ID | Donors | \n",
       "|---|---|---|---|---|---|---|---|---|---|---|---|---|---|---|---|---|---|---|---|---|---|---|---|---|---|---|---|---|---|---|---|---|---|---|---|---|---|---|---|---|---|---|---|---|---|---|---|---|---|---|---|---|---|---|---|---|---|---|---|---|\n",
       "| c53185d991ad3e2a73918d0d9021d3cf |  9                               | \n",
       "| 40959660680ef3124d74ce3385248f88 |  4                               | \n",
       "| 3bd76a05f29ae5e3840c3c0eb05ff59f |  2                               | \n",
       "| 2f53e5f31890e647048ac217cda3b83f |  3                               | \n",
       "| 75131d2e94930082aa8ed1e4cd4d21da |  1                               | \n",
       "| e09933470f4256cc2643341c1d299e55 |  7                               | \n",
       "| e2beb818569f66adaa4ced21ca299ac6 |  7                               | \n",
       "| c5821d32012efd7df4f6fa12e230e991 |  4                               | \n",
       "| 7143ffacf315cb3ed5a9dcd2d39f6398 |  3                               | \n",
       "| 7771a382bf28d33e0046d74f495afda7 | 12                               | \n",
       "| e6d1e1c678360ea28c828b782b2441ee |  5                               | \n",
       "| 309018bfc9ee933fd47a17a755481fc3 |  1                               | \n",
       "| 1b79df8ecf5d9ce00c98867697c76816 | 11                               | \n",
       "| 6e1b5d21cabd078ae04d6e7d5f841f29 |  3                               | \n",
       "| 277a1896f63d4b932100bd3855e223be | 15                               | \n",
       "| 5b9b47b05d54749e2abe28f9acf56345 |  3                               | \n",
       "| ac2359a818dd440d3f1bbd8b79bf3665 |  1                               | \n",
       "| 23862b3bd25f34d306b6645ed6a956ef |  9                               | \n",
       "| 163f0347475e309ba45c3373dd8a679b |  8                               | \n",
       "| 42d8279de0c5045125537371bf876af5 |  3                               | \n",
       "| fef6a4cf9f5d7f8e0b2d63f300f79915 |  1                               | \n",
       "| 25c258f308ae7db13c6886002b355680 | 12                               | \n",
       "| 8fb01f45d4e0394a11fdb9fc66824c1a |  6                               | \n",
       "| 27f9ae2493651df45a940fb7f1583161 |  7                               | \n",
       "| 390d07ed4251ebc37c1f722ad0836866 | 17                               | \n",
       "| 74cb06f7601f991a9b3b1beca9162a77 | 16                               | \n",
       "| f3cc9374e6fd7963bfd599e0148e1970 |  3                               | \n",
       "| af02e9ac0b34ad83a06974b6b51b6e47 |  4                               | \n",
       "| 59f5336b6c23a55ee25919b35f506ca0 |  5                               | \n",
       "| 6358f132a8cd43843f3f8c411439a98d |  3                               | \n",
       "| ... | ... | \n",
       "| 5326a8bf13cbf24276c587e1d17f1e64 | 15                               | \n",
       "| bcfb56e77ec1d6a51d963279a65c0e45 |  3                               | \n",
       "| e209e9691fbd13b29252effddb2dfed0 |  1                               | \n",
       "| 4c3ec1f02c2708676af6c0b9c67efa28 |  5                               | \n",
       "| 26622d0b6ad358b5d26b3fded46c8c83 |  5                               | \n",
       "| fde8f4db69ad6d3c24a4329d2de1e45c |  2                               | \n",
       "| 38ba9def2c650152e3c331090baa4c84 |  3                               | \n",
       "| 32e1e17fb7ef4ca6ed981ccef35fe94e |  1                               | \n",
       "| 4a68e7a1c8ea63d3ef00c4d54533d2ce |  1                               | \n",
       "| cc40e7486680b5784bb54a44d9d67a4a | 14                               | \n",
       "| 8232161dd62604e5605aae5a2ff35aec | 17                               | \n",
       "| 2f150a043f4729708aed4c8fc4842343 |  4                               | \n",
       "| a7a5d47e50158123b31d1500cc4507e4 |  3                               | \n",
       "| 33f4a819f2cdc59f8a88d658916ade1e |  1                               | \n",
       "| e6b9f5a89cfb9742fcef88e5c302c12e |  1                               | \n",
       "| 3b1b1f1a3e38f33eb48edda49ee4c3d0 |  1                               | \n",
       "| 06b5bcffab197d3e6b0abb898a76c803 |  2                               | \n",
       "| 267a18c317500449a087a57fb771d446 |  2                               | \n",
       "| 45b049ede050333544c415e672880508 |  1                               | \n",
       "| 5c5d3dc28d0ec74e7bad9c964fc30945 | 11                               | \n",
       "| 461ff887a974538c7592622dd79a158c |  2                               | \n",
       "| 68ab4432ef8bf183c27d715c6937c122 |  3                               | \n",
       "| 389004e8563d1540c8d73c8d97c8799e |  1                               | \n",
       "| 756b128beaed4b368a14c1fcfc5d2e4b |  9                               | \n",
       "| 9d1b86c354015c49cbdf8808245aab8c |  7                               | \n",
       "| 7f851dca79815062c568ad47946c9144 |  8                               | \n",
       "| 5b11d16bbe347b9d842b02635f02ad86 | 10                               | \n",
       "| d75a03fddd974adfe3fca423620317e3 |  4                               | \n",
       "| 56f5f5f4bf89ed30fec2286174a15fc1 |  5                               | \n",
       "| 41ff2a7d86a1a606941506584f891864 |  1                               | \n",
       "\n",
       "\n"
      ],
      "text/plain": [
       "       Project ID                       Donors\n",
       "1      c53185d991ad3e2a73918d0d9021d3cf  9    \n",
       "2      40959660680ef3124d74ce3385248f88  4    \n",
       "3      3bd76a05f29ae5e3840c3c0eb05ff59f  2    \n",
       "4      2f53e5f31890e647048ac217cda3b83f  3    \n",
       "5      75131d2e94930082aa8ed1e4cd4d21da  1    \n",
       "6      e09933470f4256cc2643341c1d299e55  7    \n",
       "7      e2beb818569f66adaa4ced21ca299ac6  7    \n",
       "8      c5821d32012efd7df4f6fa12e230e991  4    \n",
       "9      7143ffacf315cb3ed5a9dcd2d39f6398  3    \n",
       "10     7771a382bf28d33e0046d74f495afda7 12    \n",
       "11     e6d1e1c678360ea28c828b782b2441ee  5    \n",
       "12     309018bfc9ee933fd47a17a755481fc3  1    \n",
       "13     1b79df8ecf5d9ce00c98867697c76816 11    \n",
       "14     6e1b5d21cabd078ae04d6e7d5f841f29  3    \n",
       "15     277a1896f63d4b932100bd3855e223be 15    \n",
       "16     5b9b47b05d54749e2abe28f9acf56345  3    \n",
       "17     ac2359a818dd440d3f1bbd8b79bf3665  1    \n",
       "18     23862b3bd25f34d306b6645ed6a956ef  9    \n",
       "19     163f0347475e309ba45c3373dd8a679b  8    \n",
       "20     42d8279de0c5045125537371bf876af5  3    \n",
       "21     fef6a4cf9f5d7f8e0b2d63f300f79915  1    \n",
       "22     25c258f308ae7db13c6886002b355680 12    \n",
       "23     8fb01f45d4e0394a11fdb9fc66824c1a  6    \n",
       "24     27f9ae2493651df45a940fb7f1583161  7    \n",
       "25     390d07ed4251ebc37c1f722ad0836866 17    \n",
       "26     74cb06f7601f991a9b3b1beca9162a77 16    \n",
       "27     f3cc9374e6fd7963bfd599e0148e1970  3    \n",
       "28     af02e9ac0b34ad83a06974b6b51b6e47  4    \n",
       "29     59f5336b6c23a55ee25919b35f506ca0  5    \n",
       "30     6358f132a8cd43843f3f8c411439a98d  3    \n",
       "...    ...                              ...   \n",
       "901271 5326a8bf13cbf24276c587e1d17f1e64 15    \n",
       "901272 bcfb56e77ec1d6a51d963279a65c0e45  3    \n",
       "901273 e209e9691fbd13b29252effddb2dfed0  1    \n",
       "901274 4c3ec1f02c2708676af6c0b9c67efa28  5    \n",
       "901275 26622d0b6ad358b5d26b3fded46c8c83  5    \n",
       "901276 fde8f4db69ad6d3c24a4329d2de1e45c  2    \n",
       "901277 38ba9def2c650152e3c331090baa4c84  3    \n",
       "901278 32e1e17fb7ef4ca6ed981ccef35fe94e  1    \n",
       "901279 4a68e7a1c8ea63d3ef00c4d54533d2ce  1    \n",
       "901280 cc40e7486680b5784bb54a44d9d67a4a 14    \n",
       "901281 8232161dd62604e5605aae5a2ff35aec 17    \n",
       "901282 2f150a043f4729708aed4c8fc4842343  4    \n",
       "901283 a7a5d47e50158123b31d1500cc4507e4  3    \n",
       "901284 33f4a819f2cdc59f8a88d658916ade1e  1    \n",
       "901285 e6b9f5a89cfb9742fcef88e5c302c12e  1    \n",
       "901286 3b1b1f1a3e38f33eb48edda49ee4c3d0  1    \n",
       "901287 06b5bcffab197d3e6b0abb898a76c803  2    \n",
       "901288 267a18c317500449a087a57fb771d446  2    \n",
       "901289 45b049ede050333544c415e672880508  1    \n",
       "901290 5c5d3dc28d0ec74e7bad9c964fc30945 11    \n",
       "901291 461ff887a974538c7592622dd79a158c  2    \n",
       "901292 68ab4432ef8bf183c27d715c6937c122  3    \n",
       "901293 389004e8563d1540c8d73c8d97c8799e  1    \n",
       "901294 756b128beaed4b368a14c1fcfc5d2e4b  9    \n",
       "901295 9d1b86c354015c49cbdf8808245aab8c  7    \n",
       "901296 7f851dca79815062c568ad47946c9144  8    \n",
       "901297 5b11d16bbe347b9d842b02635f02ad86 10    \n",
       "901298 d75a03fddd974adfe3fca423620317e3  4    \n",
       "901299 56f5f5f4bf89ed30fec2286174a15fc1  5    \n",
       "901300 41ff2a7d86a1a606941506584f891864  1    "
      ]
     },
     "metadata": {},
     "output_type": "display_data"
    }
   ],
   "source": [
    "head(By_Project"
   ]
  },
  {
   "cell_type": "code",
   "execution_count": 107,
   "metadata": {},
   "outputs": [
    {
     "data": {
      "text/html": [
       "<table>\n",
       "<thead><tr><th scope=col>Donors</th><th scope=col>N</th></tr></thead>\n",
       "<tbody>\n",
       "\t<tr><td>1     </td><td>217371</td></tr>\n",
       "\t<tr><td>2     </td><td>142821</td></tr>\n",
       "\t<tr><td>3     </td><td>109878</td></tr>\n",
       "\t<tr><td>4     </td><td> 86996</td></tr>\n",
       "\t<tr><td>5     </td><td> 69070</td></tr>\n",
       "\t<tr><td>6     </td><td> 54497</td></tr>\n",
       "</tbody>\n",
       "</table>\n"
      ],
      "text/latex": [
       "\\begin{tabular}{r|ll}\n",
       " Donors & N\\\\\n",
       "\\hline\n",
       "\t 1      & 217371\\\\\n",
       "\t 2      & 142821\\\\\n",
       "\t 3      & 109878\\\\\n",
       "\t 4      &  86996\\\\\n",
       "\t 5      &  69070\\\\\n",
       "\t 6      &  54497\\\\\n",
       "\\end{tabular}\n"
      ],
      "text/markdown": [
       "\n",
       "Donors | N | \n",
       "|---|---|---|---|---|---|\n",
       "| 1      | 217371 | \n",
       "| 2      | 142821 | \n",
       "| 3      | 109878 | \n",
       "| 4      |  86996 | \n",
       "| 5      |  69070 | \n",
       "| 6      |  54497 | \n",
       "\n",
       "\n"
      ],
      "text/plain": [
       "  Donors N     \n",
       "1 1      217371\n",
       "2 2      142821\n",
       "3 3      109878\n",
       "4 4       86996\n",
       "5 5       69070\n",
       "6 6       54497"
      ]
     },
     "metadata": {},
     "output_type": "display_data"
    }
   ],
   "source": [
    "head(By_Project_Grouped)"
   ]
  },
  {
   "cell_type": "code",
   "execution_count": 71,
   "metadata": {},
   "outputs": [
    {
     "data": {
      "text/html": [
       "<table>\n",
       "<thead><tr><th scope=col>Project ID</th><th scope=col>Donors</th></tr></thead>\n",
       "<tbody>\n",
       "\t<tr><td>c34218abf3fecd36be01305d67ed7fbb</td><td>863                             </td></tr>\n",
       "\t<tr><td>d6a260b9099aabdac7f5cb620c7481e6</td><td>663                             </td></tr>\n",
       "\t<tr><td>a720b2e32df79c52f8926bb00060b3f6</td><td>631                             </td></tr>\n",
       "\t<tr><td>a7028bc2602104e658ef72db1b9ca520</td><td>600                             </td></tr>\n",
       "\t<tr><td>ea99d0493c7c668890eca8f7a8b38fb9</td><td>538                             </td></tr>\n",
       "\t<tr><td>132141bfb266d8deedf085ba37f6e2fa</td><td>536                             </td></tr>\n",
       "\t<tr><td>31c9862995b9f65b0e92d03a91120df8</td><td>499                             </td></tr>\n",
       "\t<tr><td>2450ee51be5cb2443ef5285ead5272f6</td><td>476                             </td></tr>\n",
       "\t<tr><td>c5582cb6dc5d45a7f4d9a9a41c71713b</td><td>474                             </td></tr>\n",
       "\t<tr><td>bd89d8f499ff23ce7a421b1c4703d43a</td><td>472                             </td></tr>\n",
       "</tbody>\n",
       "</table>\n"
      ],
      "text/latex": [
       "\\begin{tabular}{r|ll}\n",
       " Project ID & Donors\\\\\n",
       "\\hline\n",
       "\t c34218abf3fecd36be01305d67ed7fbb & 863                             \\\\\n",
       "\t d6a260b9099aabdac7f5cb620c7481e6 & 663                             \\\\\n",
       "\t a720b2e32df79c52f8926bb00060b3f6 & 631                             \\\\\n",
       "\t a7028bc2602104e658ef72db1b9ca520 & 600                             \\\\\n",
       "\t ea99d0493c7c668890eca8f7a8b38fb9 & 538                             \\\\\n",
       "\t 132141bfb266d8deedf085ba37f6e2fa & 536                             \\\\\n",
       "\t 31c9862995b9f65b0e92d03a91120df8 & 499                             \\\\\n",
       "\t 2450ee51be5cb2443ef5285ead5272f6 & 476                             \\\\\n",
       "\t c5582cb6dc5d45a7f4d9a9a41c71713b & 474                             \\\\\n",
       "\t bd89d8f499ff23ce7a421b1c4703d43a & 472                             \\\\\n",
       "\\end{tabular}\n"
      ],
      "text/markdown": [
       "\n",
       "Project ID | Donors | \n",
       "|---|---|---|---|---|---|---|---|---|---|\n",
       "| c34218abf3fecd36be01305d67ed7fbb | 863                              | \n",
       "| d6a260b9099aabdac7f5cb620c7481e6 | 663                              | \n",
       "| a720b2e32df79c52f8926bb00060b3f6 | 631                              | \n",
       "| a7028bc2602104e658ef72db1b9ca520 | 600                              | \n",
       "| ea99d0493c7c668890eca8f7a8b38fb9 | 538                              | \n",
       "| 132141bfb266d8deedf085ba37f6e2fa | 536                              | \n",
       "| 31c9862995b9f65b0e92d03a91120df8 | 499                              | \n",
       "| 2450ee51be5cb2443ef5285ead5272f6 | 476                              | \n",
       "| c5582cb6dc5d45a7f4d9a9a41c71713b | 474                              | \n",
       "| bd89d8f499ff23ce7a421b1c4703d43a | 472                              | \n",
       "\n",
       "\n"
      ],
      "text/plain": [
       "   Project ID                       Donors\n",
       "1  c34218abf3fecd36be01305d67ed7fbb 863   \n",
       "2  d6a260b9099aabdac7f5cb620c7481e6 663   \n",
       "3  a720b2e32df79c52f8926bb00060b3f6 631   \n",
       "4  a7028bc2602104e658ef72db1b9ca520 600   \n",
       "5  ea99d0493c7c668890eca8f7a8b38fb9 538   \n",
       "6  132141bfb266d8deedf085ba37f6e2fa 536   \n",
       "7  31c9862995b9f65b0e92d03a91120df8 499   \n",
       "8  2450ee51be5cb2443ef5285ead5272f6 476   \n",
       "9  c5582cb6dc5d45a7f4d9a9a41c71713b 474   \n",
       "10 bd89d8f499ff23ce7a421b1c4703d43a 472   "
      ]
     },
     "metadata": {},
     "output_type": "display_data"
    }
   ],
   "source": [
    "head(By_Project[order(desc(Donors))],10)"
   ]
  },
  {
   "cell_type": "code",
   "execution_count": 74,
   "metadata": {},
   "outputs": [
    {
     "name": "stderr",
     "output_type": "stream",
     "text": [
      "Warning message:\n",
      "\"package 'bindrcpp' was built under R version 3.4.4\""
     ]
    },
    {
     "data": {
      "text/html": [
       "<table>\n",
       "<thead><tr><th scope=col>Project ID</th><th scope=col>School ID</th><th scope=col>Teacher ID</th><th scope=col>Teacher Project Posted Sequence</th><th scope=col>Project Type</th><th scope=col>Project Title</th><th scope=col>Project Subject Category Tree</th><th scope=col>Project Subject Subcategory Tree</th><th scope=col>Project Grade Level Category</th><th scope=col>Project Resource Category</th><th scope=col>Project Cost</th><th scope=col>Project Posted Date</th><th scope=col>Project Current Status</th><th scope=col>Project Fully Funded Date</th></tr></thead>\n",
       "<tbody>\n",
       "\t<tr><td>c34218abf3fecd36be01305d67ed7fbb            </td><td>e5d780f83322945f54d4ffb02765371b            </td><td>7fe6dd0c1af5f911e9bc38030cfb4ced            </td><td>1                                           </td><td>Teacher-Led                                 </td><td>Vallecito StandUpKids Pilot Standing School!</td><td>Health &amp; Sports, Literacy &amp; Language</td><td>Health &amp; Wellness, Literacy             </td><td>Grades 3-5                                  </td><td>Supplies                                    </td><td>$110,075.19                                 </td><td>2015-05-26                                  </td><td>Fully Funded                                </td><td>2015-08-12                                  </td></tr>\n",
       "</tbody>\n",
       "</table>\n"
      ],
      "text/latex": [
       "\\begin{tabular}{r|llllllllllllll}\n",
       " Project ID & School ID & Teacher ID & Teacher Project Posted Sequence & Project Type & Project Title & Project Subject Category Tree & Project Subject Subcategory Tree & Project Grade Level Category & Project Resource Category & Project Cost & Project Posted Date & Project Current Status & Project Fully Funded Date\\\\\n",
       "\\hline\n",
       "\t c34218abf3fecd36be01305d67ed7fbb             & e5d780f83322945f54d4ffb02765371b             & 7fe6dd0c1af5f911e9bc38030cfb4ced             & 1                                            & Teacher-Led                                  & Vallecito StandUpKids Pilot Standing School! & Health \\& Sports, Literacy \\& Language     & Health \\& Wellness, Literacy                & Grades 3-5                                   & Supplies                                     & \\$110,075.19                                & 2015-05-26                                   & Fully Funded                                 & 2015-08-12                                  \\\\\n",
       "\\end{tabular}\n"
      ],
      "text/markdown": [
       "\n",
       "Project ID | School ID | Teacher ID | Teacher Project Posted Sequence | Project Type | Project Title | Project Subject Category Tree | Project Subject Subcategory Tree | Project Grade Level Category | Project Resource Category | Project Cost | Project Posted Date | Project Current Status | Project Fully Funded Date | \n",
       "|---|\n",
       "| c34218abf3fecd36be01305d67ed7fbb             | e5d780f83322945f54d4ffb02765371b             | 7fe6dd0c1af5f911e9bc38030cfb4ced             | 1                                            | Teacher-Led                                  | Vallecito StandUpKids Pilot Standing School! | Health & Sports, Literacy & Language         | Health & Wellness, Literacy                  | Grades 3-5                                   | Supplies                                     | $110,075.19                                  | 2015-05-26                                   | Fully Funded                                 | 2015-08-12                                   | \n",
       "\n",
       "\n"
      ],
      "text/plain": [
       "  Project ID                       School ID                       \n",
       "1 c34218abf3fecd36be01305d67ed7fbb e5d780f83322945f54d4ffb02765371b\n",
       "  Teacher ID                       Teacher Project Posted Sequence Project Type\n",
       "1 7fe6dd0c1af5f911e9bc38030cfb4ced 1                               Teacher-Led \n",
       "  Project Title                               \n",
       "1 Vallecito StandUpKids Pilot Standing School!\n",
       "  Project Subject Category Tree        Project Subject Subcategory Tree\n",
       "1 Health & Sports, Literacy & Language Health & Wellness, Literacy     \n",
       "  Project Grade Level Category Project Resource Category Project Cost\n",
       "1 Grades 3-5                   Supplies                  $110,075.19 \n",
       "  Project Posted Date Project Current Status Project Fully Funded Date\n",
       "1 2015-05-26          Fully Funded           2015-08-12               "
      ]
     },
     "metadata": {},
     "output_type": "display_data"
    }
   ],
   "source": [
    "Projects %>%\n",
    "    select(-`Project Essay`) %>%\n",
    "    filter(`Project ID` == 'c34218abf3fecd36be01305d67ed7fbb')"
   ]
  },
  {
   "cell_type": "code",
   "execution_count": 76,
   "metadata": {},
   "outputs": [
    {
     "data": {
      "text/html": [
       "<table>\n",
       "<thead><tr><th scope=col>Project ID</th><th scope=col>Project Essay</th></tr></thead>\n",
       "<tbody>\n",
       "\t<tr><td>c34218abf3fecd36be01305d67ed7fbb                                                                                                                                                                                                                                                                                                                                                                                                                                                                                                                                                                                                                                                                                                                                                                                                                                                                                                                                                                                                                                                                                                                                                                                                                                                                                                                                                                                                                                                                                                                                                                                                                                                                                                                                                                                                                                                                                                                                                                                                                                                                                                                                                                 </td><td><span style=white-space:pre-wrap>in order for children to learn, they need to move.  our school is a safe and wonderful place for children but they are confined to desks that don't fit their wildly varying body sizes and don't allow them to move.  we want to create a 21st century learning environment for our kids. &lt;!--donotremoveessaydivider--&gt;the students at our elementary are active and eager to learn.  they are a diverse group with different learning styles and needs but they all share the same drive to move in order to learn.  \r\n",
       "\r\n",
       "our school already has 100 standing desks in fourth and first grades and the students, teachers, and parents alike can't even imagine going back to industrial-feeling sitting desks. students say they feel more focused and happier and love that they can move continuously throughout the day.  \r\n",
       "\r\n",
       "our community wants to create an all-standing school as a showcase to all schools to show that sitting too much is a public health crisis and that standing desks are a simple and elegant solution.  research shows that kids burn between 15 - 30% more calories and are significantly more focused and engaged at a standing desk. &lt;!--donotremoveessaydivider--&gt;our students will use the standing desks all day for lessons and group work.  because the desks are outfitted with casters, they create a simple and easy way to reconfigure the classroom set up or simply move the desks aside to create a wide open space for reading, moving, performances, and group activities.  \r\n",
       "\r\n",
       "the desks will increase engagement and create and environment where kids can be continuously moving in a non-disruptive way.  these desks will create a movement-rich environment for our children. &lt;!--donotremoveessaydivider--&gt;our kids are spending nearly 85% of their waking hours in sedentary positions.  standing desks are a simple and elegant way to create a movement rich environment where children are more engaged and perform better academically, burn more calories, eliminate or minimize orthopedic problems and disease, feel happier, and just plain move more. </span></td></tr>\n",
       "</tbody>\n",
       "</table>\n"
      ],
      "text/latex": [
       "\\begin{tabular}{r|ll}\n",
       " Project ID & Project Essay\\\\\n",
       "\\hline\n",
       "\t c34218abf3fecd36be01305d67ed7fbb                                                                                                                                                                                                                                                                                                                                                                                                                                                                                                                                                                                                                                                                                                                                                                                                                                                                                                                                                                                                                                                                                                                                                                                                                                                                                                                                                                                                                                                                                                                                                                                                                                                                                                                                                                                                                                                                                                                                                                                                                                                                                                            & in order for children to learn, they need to move.  our school is a safe and wonderful place for children but they are confined to desks that don't fit their wildly varying body sizes and don't allow them to move.  we want to create a 21st century learning environment for our kids. <!--donotremoveessaydivider-->the students at our elementary are active and eager to learn.  they are a diverse group with different learning styles and needs but they all share the same drive to move in order to learn.  \r\n",
       "\r\n",
       "our school already has 100 standing desks in fourth and first grades and the students, teachers, and parents alike can't even imagine going back to industrial-feeling sitting desks. students say they feel more focused and happier and love that they can move continuously throughout the day.  \r\n",
       "\r\n",
       "our community wants to create an all-standing school as a showcase to all schools to show that sitting too much is a public health crisis and that standing desks are a simple and elegant solution.  research shows that kids burn between 15 - 30\\% more calories and are significantly more focused and engaged at a standing desk. <!--donotremoveessaydivider-->our students will use the standing desks all day for lessons and group work.  because the desks are outfitted with casters, they create a simple and easy way to reconfigure the classroom set up or simply move the desks aside to create a wide open space for reading, moving, performances, and group activities.  \r\n",
       "\r\n",
       "the desks will increase engagement and create and environment where kids can be continuously moving in a non-disruptive way.  these desks will create a movement-rich environment for our children. <!--donotremoveessaydivider-->our kids are spending nearly 85\\% of their waking hours in sedentary positions.  standing desks are a simple and elegant way to create a movement rich environment where children are more engaged and perform better academically, burn more calories, eliminate or minimize orthopedic problems and disease, feel happier, and just plain move more. \\\\\n",
       "\\end{tabular}\n"
      ],
      "text/markdown": [
       "\n",
       "Project ID | Project Essay | \n",
       "|---|\n",
       "| c34218abf3fecd36be01305d67ed7fbb                                                                                                                                                                                                                                                                                                                                                                                                                                                                                                                                                                                                                                                                                                                                                                                                                                                                                                                                                                                                                                                                                                                                                                                                                                                                                                                                                                                                                                                                                                                                                                                                                                                                                                                                                                                                                                                                                                                                                                                                                                                                                                        | in order for children to learn, they need to move.  our school is a safe and wonderful place for children but they are confined to desks that don't fit their wildly varying body sizes and don't allow them to move.  we want to create a 21st century learning environment for our kids. <!--donotremoveessaydivider-->the students at our elementary are active and eager to learn.  they are a diverse group with different learning styles and needs but they all share the same drive to move in order to learn.  \r\n",
       "\r\n",
       "our school already has 100 standing desks in fourth and first grades and the students, teachers, and parents alike can't even imagine going back to industrial-feeling sitting desks. students say they feel more focused and happier and love that they can move continuously throughout the day.  \r\n",
       "\r\n",
       "our community wants to create an all-standing school as a showcase to all schools to show that sitting too much is a public health crisis and that standing desks are a simple and elegant solution.  research shows that kids burn between 15 - 30% more calories and are significantly more focused and engaged at a standing desk. <!--donotremoveessaydivider-->our students will use the standing desks all day for lessons and group work.  because the desks are outfitted with casters, they create a simple and easy way to reconfigure the classroom set up or simply move the desks aside to create a wide open space for reading, moving, performances, and group activities.  \r\n",
       "\r\n",
       "the desks will increase engagement and create and environment where kids can be continuously moving in a non-disruptive way.  these desks will create a movement-rich environment for our children. <!--donotremoveessaydivider-->our kids are spending nearly 85% of their waking hours in sedentary positions.  standing desks are a simple and elegant way to create a movement rich environment where children are more engaged and perform better academically, burn more calories, eliminate or minimize orthopedic problems and disease, feel happier, and just plain move more.  | \n",
       "\n",
       "\n"
      ],
      "text/plain": [
       "  Project ID                      \n",
       "1 c34218abf3fecd36be01305d67ed7fbb\n",
       "  Project Essay                                                                                                                                                                                                                                                                                                                                                                                                                                                                                                                                                                                                                                                                                                                                                                                                                                                                                                                                                                                                                                                                                                                                                                                                                                                                                                                                                                                                                                                                                                                                                                                                                                                                                                                                                                                                                                                                                                                                                                                                                                                                                                                          \n",
       "1 in order for children to learn, they need to move.  our school is a safe and wonderful place for children but they are confined to desks that don't fit their wildly varying body sizes and don't allow them to move.  we want to create a 21st century learning environment for our kids. <!--donotremoveessaydivider-->the students at our elementary are active and eager to learn.  they are a diverse group with different learning styles and needs but they all share the same drive to move in order to learn.  \\r\\n\\r\\nour school already has 100 standing desks in fourth and first grades and the students, teachers, and parents alike can't even imagine going back to industrial-feeling sitting desks. students say they feel more focused and happier and love that they can move continuously throughout the day.  \\r\\n\\r\\nour community wants to create an all-standing school as a showcase to all schools to show that sitting too much is a public health crisis and that standing desks are a simple and elegant solution.  research shows that kids burn between 15 - 30% more calories and are significantly more focused and engaged at a standing desk. <!--donotremoveessaydivider-->our students will use the standing desks all day for lessons and group work.  because the desks are outfitted with casters, they create a simple and easy way to reconfigure the classroom set up or simply move the desks aside to create a wide open space for reading, moving, performances, and group activities.  \\r\\n\\r\\nthe desks will increase engagement and create and environment where kids can be continuously moving in a non-disruptive way.  these desks will create a movement-rich environment for our children. <!--donotremoveessaydivider-->our kids are spending nearly 85% of their waking hours in sedentary positions.  standing desks are a simple and elegant way to create a movement rich environment where children are more engaged and perform better academically, burn more calories, eliminate or minimize orthopedic problems and disease, feel happier, and just plain move more. "
      ]
     },
     "metadata": {},
     "output_type": "display_data"
    }
   ],
   "source": [
    "Projects %>%\n",
    "    select(`Project ID`,`Project Essay`) %>%\n",
    "    filter(`Project ID` == 'c34218abf3fecd36be01305d67ed7fbb')"
   ]
  },
  {
   "cell_type": "code",
   "execution_count": 106,
   "metadata": {},
   "outputs": [
    {
     "data": {},
     "metadata": {},
     "output_type": "display_data"
    },
    {
     "data": {
      "image/png": "[encoded data removed]",
      "text/plain": [
       "plot without title"
      ]
     },
     "metadata": {},
     "output_type": "display_data"
    }
   ],
   "source": [
    "Projects %>%\n",
    "    select(-`Project Essay`) %>%\n",
    "    top_n(10,`Project Cost`) %>%\n",
    "    ggplot(aes(reorder(`Project ID`,desc(`Project Cost`)),`Project Cost`)) +\n",
    "    geom_bar(stat= 'identity', aes(fill = `Project Current Status`)) +\n",
    "    theme(axis.title.x=element_blank(),\n",
    "        axis.text.x=element_blank(),\n",
    "        axis.ticks.x=element_blank()) +\n",
    "    scale_fill_manual(values=c(\"#a8a4a5\",  \"#af2f3a\", \"#65af2f\")) +\n",
    "    scale_y_continuous(labels=dollar_format(prefix=\"$\"))"
   ]
  },
  {
   "cell_type": "code",
   "execution_count": 120,
   "metadata": {},
   "outputs": [
    {
     "data": {},
     "metadata": {},
     "output_type": "display_data"
    },
    {
     "data": {
      "image/png": "[encoded data removed]",
      "text/plain": [
       "plot without title"
      ]
     },
     "metadata": {},
     "output_type": "display_data"
    }
   ],
   "source": [
    "ggplot(By_Project_Grouped[N > 3000], aes(Donors,N))+\n",
    "    geom_bar(stat = 'identity')+\n",
    "    scale_x_continuous(breaks = seq(1, 18, by = 1)) +\n",
    "    labs(title = 'Project Count by the Number of Donors', y = 'Project Count', x = 'Number of Donors') +\n",
    "    theme(plot.title = element_text(hjust = 0.5))"
   ]
  }
 ],
 "metadata": {
  "kernelspec": {
   "display_name": "R",
   "language": "R",
   "name": "ir"
  },
  "language_info": {
   "codemirror_mode": "r",
   "file_extension": ".r",
   "mimetype": "text/x-r-source",
   "name": "R",
   "pygments_lexer": "r",
   "version": "3.5.0"
  }
 },
 "nbformat": 4,
 "nbformat_minor": 2
}
